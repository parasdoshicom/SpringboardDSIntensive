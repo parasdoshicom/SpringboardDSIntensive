{
 "cells": [
  {
   "cell_type": "markdown",
   "metadata": {},
   "source": [
    "### Predict Customer Churn\n",
    "Predict behavior to retain customers through reducing churn. I will analyze all relevant customer data and develop focused customer retention programs."
   ]
  },
  {
   "cell_type": "markdown",
   "metadata": {},
   "source": [
    "#### Data Source\n",
    "[Dataset available on IBM Watson Analytics Sample Dataset](https://www.ibm.com/communities/analytics/watson-analytics-blog/guide-to-sample-datasets/)"
   ]
  },
  {
   "cell_type": "markdown",
   "metadata": {},
   "source": [
    "#### Feature description: \n",
    "The raw data contains 7043 rows (customers) and 21 columns (features). The “Churn” column is our target/dependent variable. \n",
    "\n",
    "#### Feature list: \n",
    "customerID\n",
    "\n",
    "gender (female, male)\n",
    "\n",
    "SeniorCitizen (Whether the customer is a senior citizen or not (1, 0))\n",
    "\n",
    "Partner (Whether the customer has a partner or not (Yes, No))\n",
    "\n",
    "Dependents (Whether the customer has dependents or not (Yes, No))\n",
    "\n",
    "tenure (Number of months the customer has stayed with the company)\n",
    "\n",
    "PhoneService (Whether the customer has a phone service or not (Yes, No))\n",
    "\n",
    "MultipleLines (Whether the customer has multiple lines r not (Yes, No, No phone service)\n",
    "\n",
    "InternetService (Customer’s internet service provider (DSL, Fiber optic, No)\n",
    "\n",
    "OnlineSecurity (Whether the customer has online security or not (Yes, No, No internet service)\n",
    "\n",
    "OnlineBackup (Whether the customer has online backup or not (Yes, No, No internet service)\n",
    "\n",
    "DeviceProtection (Whether the customer has device protection or not (Yes, No, No internet service)\n",
    "\n",
    "TechSupport (Whether the customer has tech support or not (Yes, No, No internet service)\n",
    "\n",
    "streamingTV (Whether the customer has streaming TV or not (Yes, No, No internet service)\n",
    "\n",
    "streamingMovies (Whether the customer has streaming movies or not (Yes, No, No internet service)\n",
    "\n",
    "Contract (The contract term of the customer (Month-to-month, One year, Two year)\n",
    "\n",
    "PaperlessBilling (Whether the customer has paperless billing or not (Yes, No))\n",
    "\n",
    "PaymentMethod (The customer’s payment method (Electronic check, Mailed check, Bank transfer (automatic), Credit card (automatic)))\n",
    "\n",
    "MonthlyCharges (The amount charged to the customer monthly — numeric)\n",
    "\n",
    "TotalCharges (The total amount charged to the customer — numeric)\n",
    "\n",
    "Churn ( Whether the customer churned or not (Yes or No))\n",
    "\n"
   ]
  },
  {
   "cell_type": "code",
   "execution_count": null,
   "metadata": {},
   "outputs": [],
   "source": []
  }
 ],
 "metadata": {
  "kernelspec": {
   "display_name": "Python 3",
   "language": "python",
   "name": "python3"
  },
  "language_info": {
   "codemirror_mode": {
    "name": "ipython",
    "version": 3
   },
   "file_extension": ".py",
   "mimetype": "text/x-python",
   "name": "python",
   "nbconvert_exporter": "python",
   "pygments_lexer": "ipython3",
   "version": "3.7.1"
  }
 },
 "nbformat": 4,
 "nbformat_minor": 2
}
