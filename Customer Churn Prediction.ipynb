{
 "cells": [
  {
   "cell_type": "markdown",
   "metadata": {},
   "source": [
    "### Shmuel's Feedback Notes\n",
    "\n",
    "Higher resolution distribution. \n",
    "Only customers that are higher than 10 months. Change \"10\" based on the higher resolution. \n",
    "Only customers that are smaller than 10 months\n",
    "\n",
    "~~Add XGBoost~~\n",
    "~~Try to tune the random forest and xgboost and see if they outperform logistic regression.~~\n",
    "~~number of trees and depth of the trees. # of the trees approximately similar to the number of the features.~~\n",
    "~~Also for the max depth, it should be small. It should be simple trees (so that it doesn't overfit) try 2 & 7 of max depth.~~\n",
    "\n",
    "Monthly charges:\n",
    "Distribution of Churned \n",
    "Distribution of non-churned \n",
    "\n",
    "Find weakness of the model. Where the analysis not really optimal. Discuss that in the summary \n",
    "\n",
    "Add conclusion section and Summarize at the end\n",
    "\n",
    "~~Plot the accuracy of max depth 2--7, you need to find the maximum based on the chart. try it on train and validation set~~\n",
    "\n",
    "~~I would like to encourage you to choose another model, perhaps one of the Gaussian process models might be suitable here. The reason s that it use a different statistical approach, and it is important that you will expose yourself to it~~\n",
    "\n",
    "~~3 advantages and 3 disadvantages in the discussion about each model~~\n",
    "\n",
    "~~hyper parameter tuning dummy code below~~\n",
    "\n",
    "~~Which metric will be optimal for the problem? please explain your choice.~~\n",
    "\n",
    "~~Add text and commennts in markdown instead of code comments. THis is for mann whitney u-test~~\n",
    "\n",
    "~~Add histogram bins.  shmuel's comments here: https://colab.research.google.com/drive/0ByXzTlnbbANXRzJPVjJ2bzM3ek1hZmdoS21PcHdyemdqRzZJ~~\n",
    "\n",
    "~~combine rate, count and stat sig~~\n",
    "\n",
    "~~add dummies variable (remove original variable)~~\n",
    "\n",
    "~~train & test~~\n",
    "\n",
    "~~decision tree. Data is not balanced~~ \n",
    "~~Try with imbalance and balance model performance~~\n",
    "~~https://scikit-learn.org/stable/modules/tree.html~~\n",
    "~~https://scikit-learn.org/stable/modules/generated/sklearn.tree.DecisionTreeClassifier.html#sklearn.tree.DecisionTreeClassifier~~\n",
    "\n",
    "~~Choose the metrics in the context of the question~~\n",
    "\n",
    "~~Performance of the model:confusion matrix. Accuracy https://en.wikipedia.org/wiki/Precision_and_recall~~\n",
    "\n",
    "\n",
    "~~statistical test to check significance chi square t-test | ANOVA \n",
    "we don't have normal distribution. \n",
    "Then use non parametric. Mann-whitney u-test\n",
    "https://docs.scipy.org/doc/scipy/reference/generated/scipy.stats.mannwhitneyu.html\n",
    "pick 0.05~~\n",
    "\n",
    "~~df['intercept'] = 1\n",
    "df['typ_a', 'typ_b', 'typ_c'] = pd.get_dummies(df2['roomtype'])\n",
    "logit = sm.logit(df2['price'], df2[['intercept','typ_a', 'typ_b']])\n",
    "result.summary()~~\n",
    "~~omit the one that usually has less samples regression more than one categories~~\n",
    "\n",
    "\n",
    "~~count distribution next to the variable total count pct~~\n",
    "    \n",
    "~~violin plot instead of box plot~~\n",
    "~~one varialbe at a time. Plot + vilion + summary -> all data about one feature~~\n",
    "\n",
    "~~relation between each dependent and independent variables~~\n",
    "\n",
    "~~univariate and bivariate -- boxplot~~\n",
    "\n",
    "~~verbose chart options -- how to turn it off?  Fixed it by: from IPython.core.interactiveshell import InteractiveShell\n",
    "InteractiveShell.ast_node_interactivity = 'last'~~ \n",
    "\n",
    "~~df.groupby([ 'Sex'])[['Survived']].mean().plot(kind='bar').set_ylabel('Count')\n",
    "df.groupby(['Sex' ])[['Survived']].mean()\n",
    "df.boxplot(column=['Fare'],by = ['Pclass']).set_yscale('log')\n",
    "pd.DataFrame(df.groupby( ['Pclass'])['Fare'].describe().loc[:,['mean','std']])~~\n",
    "    "
   ]
  },
  {
   "cell_type": "markdown",
   "metadata": {},
   "source": [
    "## Predict Customer Churn\n",
    "Predict behavior to retain customers through reducing churn. I will analyze all relevant customer data and develop focused customer retention programs."
   ]
  },
  {
   "cell_type": "markdown",
   "metadata": {},
   "source": [
    "#### Data Source\n",
    "[Dataset available on IBM Watson Analytics Sample Dataset > \"WA_Fn UseC_ Telco Customer Churn.csv\"](https://www.ibm.com/communities/analytics/watson-analytics-blog/guide-to-sample-datasets/)"
   ]
  },
  {
   "cell_type": "markdown",
   "metadata": {},
   "source": [
    "#### Feature description: \n",
    "The raw data contains 7043 rows (customers) and 21 columns (features). The “Churn” column is our target/dependent variable. \n",
    "\n",
    "#### Feature list: \n",
    "customerID\n",
    "\n",
    "gender (female, male)\n",
    "\n",
    "SeniorCitizen (Whether the customer is a senior citizen or not (1, 0))\n",
    "\n",
    "Partner (Whether the customer has a partner or not (Yes, No))\n",
    "\n",
    "Dependents (Whether the customer has dependents or not (Yes, No))\n",
    "\n",
    "tenure (Number of months the customer has stayed with the company)\n",
    "\n",
    "PhoneService (Whether the customer has a phone service or not (Yes, No))\n",
    "\n",
    "MultipleLines (Whether the customer has multiple lines r not (Yes, No, No phone service)\n",
    "\n",
    "InternetService (Customer’s internet service provider (DSL, Fiber optic, No)\n",
    "\n",
    "OnlineSecurity (Whether the customer has online security or not (Yes, No, No internet service)\n",
    "\n",
    "OnlineBackup (Whether the customer has online backup or not (Yes, No, No internet service)\n",
    "\n",
    "DeviceProtection (Whether the customer has device protection or not (Yes, No, No internet service)\n",
    "\n",
    "TechSupport (Whether the customer has tech support or not (Yes, No, No internet service)\n",
    "\n",
    "streamingTV (Whether the customer has streaming TV or not (Yes, No, No internet service)\n",
    "\n",
    "streamingMovies (Whether the customer has streaming movies or not (Yes, No, No internet service)\n",
    "\n",
    "Contract (The contract term of the customer (Month-to-month, One year, Two year)\n",
    "\n",
    "PaperlessBilling (Whether the customer has paperless billing or not (Yes, No))\n",
    "\n",
    "PaymentMethod (The customer’s payment method (Electronic check, Mailed check, Bank transfer (automatic), Credit card (automatic)))\n",
    "\n",
    "MonthlyCharges (The amount charged to the customer monthly — numeric)\n",
    "\n",
    "TotalCharges (The total amount charged to the customer — numeric)\n",
    "\n",
    "Churn ( Whether the customer churned or not (Yes or No))\n",
    "\n"
   ]
  },
  {
   "cell_type": "markdown",
   "metadata": {},
   "source": [
    "# Data Science Capstone Project Steps\n",
    "\n",
    "1. Import data\n",
    "2. Data wrangling \n",
    "3. Exploratory data analysis\n",
    "4. Machine Learning (Model Training & Testing)\n",
    "5. Inferencing\n",
    "6. Data storytelling"
   ]
  },
  {
   "cell_type": "markdown",
   "metadata": {},
   "source": [
    "# Step 1: Import Data"
   ]
  },
  {
   "cell_type": "markdown",
   "metadata": {},
   "source": [
    "### Libraries Imported below"
   ]
  },
  {
   "cell_type": "code",
   "execution_count": 138,
   "metadata": {},
   "outputs": [],
   "source": [
    "import pandas as pd\n",
    "\n",
    "import numpy as np\n",
    "\n",
    "import matplotlib.pyplot as plt\n",
    "\n",
    "import seaborn as sns\n",
    "\n",
    "from sklearn.model_selection import train_test_split\n",
    "\n",
    "%matplotlib inline  \n",
    "\n",
    "import statsmodels.api as sm\n",
    "\n",
    "from statsmodels.formula.api import ols\n",
    "\n",
    "import scipy.stats as scs\n",
    "\n",
    "from sklearn.linear_model import LogisticRegression\n",
    "\n",
    "from sklearn.ensemble import RandomForestClassifier\n",
    "\n",
    "from sklearn.tree import DecisionTreeClassifier\n",
    "\n",
    "from sklearn import metrics\n",
    "\n",
    "from sklearn.metrics import accuracy_score, confusion_matrix, f1_score, classification_report, roc_curve, auc\n",
    "\n",
    "#from IPython.core.interactiveshell import InteractiveShell\n",
    "#InteractiveShell.ast_node_interactivity = \"all\"\n",
    "\n",
    "from IPython.core.interactiveshell import InteractiveShell\n",
    "InteractiveShell.ast_node_interactivity = 'last'"
   ]
  },
  {
   "cell_type": "code",
   "execution_count": 139,
   "metadata": {},
   "outputs": [],
   "source": [
    "churndata = pd.read_csv('Telco-Customer-Churn.csv')"
   ]
  },
  {
   "cell_type": "code",
   "execution_count": 140,
   "metadata": {},
   "outputs": [
    {
     "data": {
      "text/html": [
       "<div>\n",
       "<style scoped>\n",
       "    .dataframe tbody tr th:only-of-type {\n",
       "        vertical-align: middle;\n",
       "    }\n",
       "\n",
       "    .dataframe tbody tr th {\n",
       "        vertical-align: top;\n",
       "    }\n",
       "\n",
       "    .dataframe thead th {\n",
       "        text-align: right;\n",
       "    }\n",
       "</style>\n",
       "<table border=\"1\" class=\"dataframe\">\n",
       "  <thead>\n",
       "    <tr style=\"text-align: right;\">\n",
       "      <th></th>\n",
       "      <th>customerID</th>\n",
       "      <th>gender</th>\n",
       "      <th>SeniorCitizen</th>\n",
       "      <th>Partner</th>\n",
       "      <th>Dependents</th>\n",
       "      <th>tenure</th>\n",
       "      <th>PhoneService</th>\n",
       "      <th>MultipleLines</th>\n",
       "      <th>InternetService</th>\n",
       "      <th>OnlineSecurity</th>\n",
       "      <th>...</th>\n",
       "      <th>DeviceProtection</th>\n",
       "      <th>TechSupport</th>\n",
       "      <th>StreamingTV</th>\n",
       "      <th>StreamingMovies</th>\n",
       "      <th>Contract</th>\n",
       "      <th>PaperlessBilling</th>\n",
       "      <th>PaymentMethod</th>\n",
       "      <th>MonthlyCharges</th>\n",
       "      <th>TotalCharges</th>\n",
       "      <th>Churn</th>\n",
       "    </tr>\n",
       "  </thead>\n",
       "  <tbody>\n",
       "    <tr>\n",
       "      <th>0</th>\n",
       "      <td>7590-VHVEG</td>\n",
       "      <td>Female</td>\n",
       "      <td>0</td>\n",
       "      <td>Yes</td>\n",
       "      <td>No</td>\n",
       "      <td>1</td>\n",
       "      <td>No</td>\n",
       "      <td>No phone service</td>\n",
       "      <td>DSL</td>\n",
       "      <td>No</td>\n",
       "      <td>...</td>\n",
       "      <td>No</td>\n",
       "      <td>No</td>\n",
       "      <td>No</td>\n",
       "      <td>No</td>\n",
       "      <td>Month-to-month</td>\n",
       "      <td>Yes</td>\n",
       "      <td>Electronic check</td>\n",
       "      <td>29.85</td>\n",
       "      <td>29.85</td>\n",
       "      <td>No</td>\n",
       "    </tr>\n",
       "    <tr>\n",
       "      <th>1</th>\n",
       "      <td>5575-GNVDE</td>\n",
       "      <td>Male</td>\n",
       "      <td>0</td>\n",
       "      <td>No</td>\n",
       "      <td>No</td>\n",
       "      <td>34</td>\n",
       "      <td>Yes</td>\n",
       "      <td>No</td>\n",
       "      <td>DSL</td>\n",
       "      <td>Yes</td>\n",
       "      <td>...</td>\n",
       "      <td>Yes</td>\n",
       "      <td>No</td>\n",
       "      <td>No</td>\n",
       "      <td>No</td>\n",
       "      <td>One year</td>\n",
       "      <td>No</td>\n",
       "      <td>Mailed check</td>\n",
       "      <td>56.95</td>\n",
       "      <td>1889.5</td>\n",
       "      <td>No</td>\n",
       "    </tr>\n",
       "    <tr>\n",
       "      <th>2</th>\n",
       "      <td>3668-QPYBK</td>\n",
       "      <td>Male</td>\n",
       "      <td>0</td>\n",
       "      <td>No</td>\n",
       "      <td>No</td>\n",
       "      <td>2</td>\n",
       "      <td>Yes</td>\n",
       "      <td>No</td>\n",
       "      <td>DSL</td>\n",
       "      <td>Yes</td>\n",
       "      <td>...</td>\n",
       "      <td>No</td>\n",
       "      <td>No</td>\n",
       "      <td>No</td>\n",
       "      <td>No</td>\n",
       "      <td>Month-to-month</td>\n",
       "      <td>Yes</td>\n",
       "      <td>Mailed check</td>\n",
       "      <td>53.85</td>\n",
       "      <td>108.15</td>\n",
       "      <td>Yes</td>\n",
       "    </tr>\n",
       "    <tr>\n",
       "      <th>3</th>\n",
       "      <td>7795-CFOCW</td>\n",
       "      <td>Male</td>\n",
       "      <td>0</td>\n",
       "      <td>No</td>\n",
       "      <td>No</td>\n",
       "      <td>45</td>\n",
       "      <td>No</td>\n",
       "      <td>No phone service</td>\n",
       "      <td>DSL</td>\n",
       "      <td>Yes</td>\n",
       "      <td>...</td>\n",
       "      <td>Yes</td>\n",
       "      <td>Yes</td>\n",
       "      <td>No</td>\n",
       "      <td>No</td>\n",
       "      <td>One year</td>\n",
       "      <td>No</td>\n",
       "      <td>Bank transfer (automatic)</td>\n",
       "      <td>42.30</td>\n",
       "      <td>1840.75</td>\n",
       "      <td>No</td>\n",
       "    </tr>\n",
       "    <tr>\n",
       "      <th>4</th>\n",
       "      <td>9237-HQITU</td>\n",
       "      <td>Female</td>\n",
       "      <td>0</td>\n",
       "      <td>No</td>\n",
       "      <td>No</td>\n",
       "      <td>2</td>\n",
       "      <td>Yes</td>\n",
       "      <td>No</td>\n",
       "      <td>Fiber optic</td>\n",
       "      <td>No</td>\n",
       "      <td>...</td>\n",
       "      <td>No</td>\n",
       "      <td>No</td>\n",
       "      <td>No</td>\n",
       "      <td>No</td>\n",
       "      <td>Month-to-month</td>\n",
       "      <td>Yes</td>\n",
       "      <td>Electronic check</td>\n",
       "      <td>70.70</td>\n",
       "      <td>151.65</td>\n",
       "      <td>Yes</td>\n",
       "    </tr>\n",
       "  </tbody>\n",
       "</table>\n",
       "<p>5 rows × 21 columns</p>\n",
       "</div>"
      ],
      "text/plain": [
       "   customerID  gender  SeniorCitizen Partner Dependents  tenure PhoneService  \\\n",
       "0  7590-VHVEG  Female              0     Yes         No       1           No   \n",
       "1  5575-GNVDE    Male              0      No         No      34          Yes   \n",
       "2  3668-QPYBK    Male              0      No         No       2          Yes   \n",
       "3  7795-CFOCW    Male              0      No         No      45           No   \n",
       "4  9237-HQITU  Female              0      No         No       2          Yes   \n",
       "\n",
       "      MultipleLines InternetService OnlineSecurity  ...  DeviceProtection  \\\n",
       "0  No phone service             DSL             No  ...                No   \n",
       "1                No             DSL            Yes  ...               Yes   \n",
       "2                No             DSL            Yes  ...                No   \n",
       "3  No phone service             DSL            Yes  ...               Yes   \n",
       "4                No     Fiber optic             No  ...                No   \n",
       "\n",
       "  TechSupport StreamingTV StreamingMovies        Contract PaperlessBilling  \\\n",
       "0          No          No              No  Month-to-month              Yes   \n",
       "1          No          No              No        One year               No   \n",
       "2          No          No              No  Month-to-month              Yes   \n",
       "3         Yes          No              No        One year               No   \n",
       "4          No          No              No  Month-to-month              Yes   \n",
       "\n",
       "               PaymentMethod MonthlyCharges  TotalCharges Churn  \n",
       "0           Electronic check          29.85         29.85    No  \n",
       "1               Mailed check          56.95        1889.5    No  \n",
       "2               Mailed check          53.85        108.15   Yes  \n",
       "3  Bank transfer (automatic)          42.30       1840.75    No  \n",
       "4           Electronic check          70.70        151.65   Yes  \n",
       "\n",
       "[5 rows x 21 columns]"
      ]
     },
     "execution_count": 140,
     "metadata": {},
     "output_type": "execute_result"
    }
   ],
   "source": [
    "churndata.head()"
   ]
  },
  {
   "cell_type": "markdown",
   "metadata": {},
   "source": [
    "# Step 2: Data wrangling"
   ]
  },
  {
   "cell_type": "code",
   "execution_count": 141,
   "metadata": {},
   "outputs": [
    {
     "name": "stdout",
     "output_type": "stream",
     "text": [
      "<class 'pandas.core.frame.DataFrame'>\n",
      "RangeIndex: 7043 entries, 0 to 7042\n",
      "Data columns (total 21 columns):\n",
      "customerID          7043 non-null object\n",
      "gender              7043 non-null object\n",
      "SeniorCitizen       7043 non-null int64\n",
      "Partner             7043 non-null object\n",
      "Dependents          7043 non-null object\n",
      "tenure              7043 non-null int64\n",
      "PhoneService        7043 non-null object\n",
      "MultipleLines       7043 non-null object\n",
      "InternetService     7043 non-null object\n",
      "OnlineSecurity      7043 non-null object\n",
      "OnlineBackup        7043 non-null object\n",
      "DeviceProtection    7043 non-null object\n",
      "TechSupport         7043 non-null object\n",
      "StreamingTV         7043 non-null object\n",
      "StreamingMovies     7043 non-null object\n",
      "Contract            7043 non-null object\n",
      "PaperlessBilling    7043 non-null object\n",
      "PaymentMethod       7043 non-null object\n",
      "MonthlyCharges      7043 non-null float64\n",
      "TotalCharges        7043 non-null object\n",
      "Churn               7043 non-null object\n",
      "dtypes: float64(1), int64(2), object(18)\n",
      "memory usage: 1.1+ MB\n"
     ]
    }
   ],
   "source": [
    "churndata.info()"
   ]
  },
  {
   "cell_type": "code",
   "execution_count": 142,
   "metadata": {},
   "outputs": [
    {
     "data": {
      "text/plain": [
       "customerID           0\n",
       "gender               0\n",
       "SeniorCitizen        0\n",
       "Partner              0\n",
       "Dependents           0\n",
       "tenure               0\n",
       "PhoneService         0\n",
       "MultipleLines        0\n",
       "InternetService      0\n",
       "OnlineSecurity       0\n",
       "OnlineBackup         0\n",
       "DeviceProtection     0\n",
       "TechSupport          0\n",
       "StreamingTV          0\n",
       "StreamingMovies      0\n",
       "Contract             0\n",
       "PaperlessBilling     0\n",
       "PaymentMethod        0\n",
       "MonthlyCharges       0\n",
       "TotalCharges        11\n",
       "Churn                0\n",
       "dtype: int64"
      ]
     },
     "execution_count": 142,
     "metadata": {},
     "output_type": "execute_result"
    }
   ],
   "source": [
    "churndata = pd.read_csv('Telco-Customer-Churn.csv', keep_default_na=False, na_values=[' '])\n",
    "churndata.isnull().sum()"
   ]
  },
  {
   "cell_type": "markdown",
   "metadata": {},
   "source": [
    "### There are 11 rows with missing values -- notice the \"TotalCharges\" column. Given that these are small number of rows, I'll drop them. "
   ]
  },
  {
   "cell_type": "code",
   "execution_count": 143,
   "metadata": {},
   "outputs": [
    {
     "name": "stdout",
     "output_type": "stream",
     "text": [
      "<class 'pandas.core.frame.DataFrame'>\n",
      "Int64Index: 7032 entries, 0 to 7042\n",
      "Data columns (total 21 columns):\n",
      "customerID          7032 non-null object\n",
      "gender              7032 non-null object\n",
      "SeniorCitizen       7032 non-null int64\n",
      "Partner             7032 non-null object\n",
      "Dependents          7032 non-null object\n",
      "tenure              7032 non-null int64\n",
      "PhoneService        7032 non-null object\n",
      "MultipleLines       7032 non-null object\n",
      "InternetService     7032 non-null object\n",
      "OnlineSecurity      7032 non-null object\n",
      "OnlineBackup        7032 non-null object\n",
      "DeviceProtection    7032 non-null object\n",
      "TechSupport         7032 non-null object\n",
      "StreamingTV         7032 non-null object\n",
      "StreamingMovies     7032 non-null object\n",
      "Contract            7032 non-null object\n",
      "PaperlessBilling    7032 non-null object\n",
      "PaymentMethod       7032 non-null object\n",
      "MonthlyCharges      7032 non-null float64\n",
      "TotalCharges        7032 non-null float64\n",
      "Churn               7032 non-null object\n",
      "dtypes: float64(2), int64(2), object(17)\n",
      "memory usage: 1.2+ MB\n"
     ]
    }
   ],
   "source": [
    "churndata = churndata[churndata['TotalCharges'].notnull()]\n",
    "churndata.info()"
   ]
  },
  {
   "cell_type": "markdown",
   "metadata": {},
   "source": [
    "### Converting yes/no to 1/0 "
   ]
  },
  {
   "cell_type": "code",
   "execution_count": 144,
   "metadata": {},
   "outputs": [],
   "source": [
    "replacements = {\n",
    "  'Yes': 1,\n",
    "  'No': 0,\n",
    "  'No phone service': 0,\n",
    "  'No internet service': 0,\n",
    "  'DSL': 1,\n",
    "  'Fiber optic': 1    \n",
    "}\n",
    "churndata['Partner'].replace(replacements, inplace=True)\n",
    "churndata['Dependents'].replace(replacements, inplace=True)\n",
    "churndata['PhoneService'].replace(replacements, inplace=True)\n",
    "churndata['MultipleLines'].replace(replacements, inplace=True)\n",
    "churndata['OnlineSecurity'].replace(replacements, inplace=True)\n",
    "churndata['DeviceProtection'].replace(replacements, inplace=True)\n",
    "churndata['TechSupport'].replace(replacements, inplace=True)\n",
    "churndata['StreamingTV'].replace(replacements, inplace=True)\n",
    "churndata['StreamingMovies'].replace(replacements, inplace=True)\n",
    "churndata['PaperlessBilling'].replace(replacements, inplace=True)\n",
    "churndata['OnlineBackup'].replace(replacements, inplace=True)\n",
    "churndata['Churn'].replace(replacements, inplace=True)\n",
    "#adding new column since later we will create dummy variables from existing colum\n",
    "churndata['HasInternetService']=churndata['InternetService']\n",
    "#replacing yes/no in just one column\n",
    "churndata['HasInternetService'].replace(replacements, inplace=True)\n"
   ]
  },
  {
   "cell_type": "code",
   "execution_count": 145,
   "metadata": {},
   "outputs": [
    {
     "name": "stdout",
     "output_type": "stream",
     "text": [
      "<class 'pandas.core.frame.DataFrame'>\n",
      "Int64Index: 7032 entries, 0 to 7042\n",
      "Data columns (total 22 columns):\n",
      "customerID            7032 non-null object\n",
      "gender                7032 non-null object\n",
      "SeniorCitizen         7032 non-null int64\n",
      "Partner               7032 non-null int64\n",
      "Dependents            7032 non-null int64\n",
      "tenure                7032 non-null int64\n",
      "PhoneService          7032 non-null int64\n",
      "MultipleLines         7032 non-null int64\n",
      "InternetService       7032 non-null object\n",
      "OnlineSecurity        7032 non-null int64\n",
      "OnlineBackup          7032 non-null int64\n",
      "DeviceProtection      7032 non-null int64\n",
      "TechSupport           7032 non-null int64\n",
      "StreamingTV           7032 non-null int64\n",
      "StreamingMovies       7032 non-null int64\n",
      "Contract              7032 non-null object\n",
      "PaperlessBilling      7032 non-null int64\n",
      "PaymentMethod         7032 non-null object\n",
      "MonthlyCharges        7032 non-null float64\n",
      "TotalCharges          7032 non-null float64\n",
      "Churn                 7032 non-null int64\n",
      "HasInternetService    7032 non-null int64\n",
      "dtypes: float64(2), int64(15), object(5)\n",
      "memory usage: 1.2+ MB\n"
     ]
    },
    {
     "data": {
      "text/html": [
       "<div>\n",
       "<style scoped>\n",
       "    .dataframe tbody tr th:only-of-type {\n",
       "        vertical-align: middle;\n",
       "    }\n",
       "\n",
       "    .dataframe tbody tr th {\n",
       "        vertical-align: top;\n",
       "    }\n",
       "\n",
       "    .dataframe thead th {\n",
       "        text-align: right;\n",
       "    }\n",
       "</style>\n",
       "<table border=\"1\" class=\"dataframe\">\n",
       "  <thead>\n",
       "    <tr style=\"text-align: right;\">\n",
       "      <th></th>\n",
       "      <th>customerID</th>\n",
       "      <th>gender</th>\n",
       "      <th>SeniorCitizen</th>\n",
       "      <th>Partner</th>\n",
       "      <th>Dependents</th>\n",
       "      <th>tenure</th>\n",
       "      <th>PhoneService</th>\n",
       "      <th>MultipleLines</th>\n",
       "      <th>InternetService</th>\n",
       "      <th>OnlineSecurity</th>\n",
       "      <th>...</th>\n",
       "      <th>TechSupport</th>\n",
       "      <th>StreamingTV</th>\n",
       "      <th>StreamingMovies</th>\n",
       "      <th>Contract</th>\n",
       "      <th>PaperlessBilling</th>\n",
       "      <th>PaymentMethod</th>\n",
       "      <th>MonthlyCharges</th>\n",
       "      <th>TotalCharges</th>\n",
       "      <th>Churn</th>\n",
       "      <th>HasInternetService</th>\n",
       "    </tr>\n",
       "  </thead>\n",
       "  <tbody>\n",
       "    <tr>\n",
       "      <th>0</th>\n",
       "      <td>7590-VHVEG</td>\n",
       "      <td>Female</td>\n",
       "      <td>0</td>\n",
       "      <td>1</td>\n",
       "      <td>0</td>\n",
       "      <td>1</td>\n",
       "      <td>0</td>\n",
       "      <td>0</td>\n",
       "      <td>DSL</td>\n",
       "      <td>0</td>\n",
       "      <td>...</td>\n",
       "      <td>0</td>\n",
       "      <td>0</td>\n",
       "      <td>0</td>\n",
       "      <td>Month-to-month</td>\n",
       "      <td>1</td>\n",
       "      <td>Electronic check</td>\n",
       "      <td>29.85</td>\n",
       "      <td>29.85</td>\n",
       "      <td>0</td>\n",
       "      <td>1</td>\n",
       "    </tr>\n",
       "    <tr>\n",
       "      <th>1</th>\n",
       "      <td>5575-GNVDE</td>\n",
       "      <td>Male</td>\n",
       "      <td>0</td>\n",
       "      <td>0</td>\n",
       "      <td>0</td>\n",
       "      <td>34</td>\n",
       "      <td>1</td>\n",
       "      <td>0</td>\n",
       "      <td>DSL</td>\n",
       "      <td>1</td>\n",
       "      <td>...</td>\n",
       "      <td>0</td>\n",
       "      <td>0</td>\n",
       "      <td>0</td>\n",
       "      <td>One year</td>\n",
       "      <td>0</td>\n",
       "      <td>Mailed check</td>\n",
       "      <td>56.95</td>\n",
       "      <td>1889.50</td>\n",
       "      <td>0</td>\n",
       "      <td>1</td>\n",
       "    </tr>\n",
       "    <tr>\n",
       "      <th>2</th>\n",
       "      <td>3668-QPYBK</td>\n",
       "      <td>Male</td>\n",
       "      <td>0</td>\n",
       "      <td>0</td>\n",
       "      <td>0</td>\n",
       "      <td>2</td>\n",
       "      <td>1</td>\n",
       "      <td>0</td>\n",
       "      <td>DSL</td>\n",
       "      <td>1</td>\n",
       "      <td>...</td>\n",
       "      <td>0</td>\n",
       "      <td>0</td>\n",
       "      <td>0</td>\n",
       "      <td>Month-to-month</td>\n",
       "      <td>1</td>\n",
       "      <td>Mailed check</td>\n",
       "      <td>53.85</td>\n",
       "      <td>108.15</td>\n",
       "      <td>1</td>\n",
       "      <td>1</td>\n",
       "    </tr>\n",
       "    <tr>\n",
       "      <th>3</th>\n",
       "      <td>7795-CFOCW</td>\n",
       "      <td>Male</td>\n",
       "      <td>0</td>\n",
       "      <td>0</td>\n",
       "      <td>0</td>\n",
       "      <td>45</td>\n",
       "      <td>0</td>\n",
       "      <td>0</td>\n",
       "      <td>DSL</td>\n",
       "      <td>1</td>\n",
       "      <td>...</td>\n",
       "      <td>1</td>\n",
       "      <td>0</td>\n",
       "      <td>0</td>\n",
       "      <td>One year</td>\n",
       "      <td>0</td>\n",
       "      <td>Bank transfer (automatic)</td>\n",
       "      <td>42.30</td>\n",
       "      <td>1840.75</td>\n",
       "      <td>0</td>\n",
       "      <td>1</td>\n",
       "    </tr>\n",
       "    <tr>\n",
       "      <th>4</th>\n",
       "      <td>9237-HQITU</td>\n",
       "      <td>Female</td>\n",
       "      <td>0</td>\n",
       "      <td>0</td>\n",
       "      <td>0</td>\n",
       "      <td>2</td>\n",
       "      <td>1</td>\n",
       "      <td>0</td>\n",
       "      <td>Fiber optic</td>\n",
       "      <td>0</td>\n",
       "      <td>...</td>\n",
       "      <td>0</td>\n",
       "      <td>0</td>\n",
       "      <td>0</td>\n",
       "      <td>Month-to-month</td>\n",
       "      <td>1</td>\n",
       "      <td>Electronic check</td>\n",
       "      <td>70.70</td>\n",
       "      <td>151.65</td>\n",
       "      <td>1</td>\n",
       "      <td>1</td>\n",
       "    </tr>\n",
       "  </tbody>\n",
       "</table>\n",
       "<p>5 rows × 22 columns</p>\n",
       "</div>"
      ],
      "text/plain": [
       "   customerID  gender  SeniorCitizen  Partner  Dependents  tenure  \\\n",
       "0  7590-VHVEG  Female              0        1           0       1   \n",
       "1  5575-GNVDE    Male              0        0           0      34   \n",
       "2  3668-QPYBK    Male              0        0           0       2   \n",
       "3  7795-CFOCW    Male              0        0           0      45   \n",
       "4  9237-HQITU  Female              0        0           0       2   \n",
       "\n",
       "   PhoneService  MultipleLines InternetService  OnlineSecurity  \\\n",
       "0             0              0             DSL               0   \n",
       "1             1              0             DSL               1   \n",
       "2             1              0             DSL               1   \n",
       "3             0              0             DSL               1   \n",
       "4             1              0     Fiber optic               0   \n",
       "\n",
       "          ...          TechSupport  StreamingTV  StreamingMovies  \\\n",
       "0         ...                    0            0                0   \n",
       "1         ...                    0            0                0   \n",
       "2         ...                    0            0                0   \n",
       "3         ...                    1            0                0   \n",
       "4         ...                    0            0                0   \n",
       "\n",
       "         Contract  PaperlessBilling              PaymentMethod  \\\n",
       "0  Month-to-month                 1           Electronic check   \n",
       "1        One year                 0               Mailed check   \n",
       "2  Month-to-month                 1               Mailed check   \n",
       "3        One year                 0  Bank transfer (automatic)   \n",
       "4  Month-to-month                 1           Electronic check   \n",
       "\n",
       "   MonthlyCharges TotalCharges  Churn  HasInternetService  \n",
       "0           29.85        29.85      0                   1  \n",
       "1           56.95      1889.50      0                   1  \n",
       "2           53.85       108.15      1                   1  \n",
       "3           42.30      1840.75      0                   1  \n",
       "4           70.70       151.65      1                   1  \n",
       "\n",
       "[5 rows x 22 columns]"
      ]
     },
     "execution_count": 145,
     "metadata": {},
     "output_type": "execute_result"
    }
   ],
   "source": [
    "churndata.info()\n",
    "churndata.head()"
   ]
  },
  {
   "cell_type": "markdown",
   "metadata": {},
   "source": [
    "### Inspecting unique values in each column"
   ]
  },
  {
   "cell_type": "code",
   "execution_count": 146,
   "metadata": {},
   "outputs": [
    {
     "data": {
      "text/plain": [
       "'customerID'"
      ]
     },
     "execution_count": 146,
     "metadata": {},
     "output_type": "execute_result"
    },
    {
     "data": {
      "text/plain": [
       "array(['7590-VHVEG', '5575-GNVDE', '3668-QPYBK', ..., '4801-JZAZL',\n",
       "       '8361-LTMKD', '3186-AJIEK'], dtype=object)"
      ]
     },
     "execution_count": 146,
     "metadata": {},
     "output_type": "execute_result"
    },
    {
     "data": {
      "text/plain": [
       "'gender'"
      ]
     },
     "execution_count": 146,
     "metadata": {},
     "output_type": "execute_result"
    },
    {
     "data": {
      "text/plain": [
       "array(['Female', 'Male'], dtype=object)"
      ]
     },
     "execution_count": 146,
     "metadata": {},
     "output_type": "execute_result"
    },
    {
     "data": {
      "text/plain": [
       "'SeniorCitizen'"
      ]
     },
     "execution_count": 146,
     "metadata": {},
     "output_type": "execute_result"
    },
    {
     "data": {
      "text/plain": [
       "array([0, 1], dtype=int64)"
      ]
     },
     "execution_count": 146,
     "metadata": {},
     "output_type": "execute_result"
    },
    {
     "data": {
      "text/plain": [
       "'Partner'"
      ]
     },
     "execution_count": 146,
     "metadata": {},
     "output_type": "execute_result"
    },
    {
     "data": {
      "text/plain": [
       "array([1, 0], dtype=int64)"
      ]
     },
     "execution_count": 146,
     "metadata": {},
     "output_type": "execute_result"
    },
    {
     "data": {
      "text/plain": [
       "'Dependents'"
      ]
     },
     "execution_count": 146,
     "metadata": {},
     "output_type": "execute_result"
    },
    {
     "data": {
      "text/plain": [
       "array([0, 1], dtype=int64)"
      ]
     },
     "execution_count": 146,
     "metadata": {},
     "output_type": "execute_result"
    },
    {
     "data": {
      "text/plain": [
       "'tenure'"
      ]
     },
     "execution_count": 146,
     "metadata": {},
     "output_type": "execute_result"
    },
    {
     "data": {
      "text/plain": [
       "array([ 1, 34,  2, 45,  8, 22, 10, 28, 62, 13, 16, 58, 49, 25, 69, 52, 71,\n",
       "       21, 12, 30, 47, 72, 17, 27,  5, 46, 11, 70, 63, 43, 15, 60, 18, 66,\n",
       "        9,  3, 31, 50, 64, 56,  7, 42, 35, 48, 29, 65, 38, 68, 32, 55, 37,\n",
       "       36, 41,  6,  4, 33, 67, 23, 57, 61, 14, 20, 53, 40, 59, 24, 44, 19,\n",
       "       54, 51, 26, 39], dtype=int64)"
      ]
     },
     "execution_count": 146,
     "metadata": {},
     "output_type": "execute_result"
    },
    {
     "data": {
      "text/plain": [
       "'PhoneService'"
      ]
     },
     "execution_count": 146,
     "metadata": {},
     "output_type": "execute_result"
    },
    {
     "data": {
      "text/plain": [
       "array([0, 1], dtype=int64)"
      ]
     },
     "execution_count": 146,
     "metadata": {},
     "output_type": "execute_result"
    },
    {
     "data": {
      "text/plain": [
       "'MultipleLines'"
      ]
     },
     "execution_count": 146,
     "metadata": {},
     "output_type": "execute_result"
    },
    {
     "data": {
      "text/plain": [
       "array([0, 1], dtype=int64)"
      ]
     },
     "execution_count": 146,
     "metadata": {},
     "output_type": "execute_result"
    },
    {
     "data": {
      "text/plain": [
       "'InternetService'"
      ]
     },
     "execution_count": 146,
     "metadata": {},
     "output_type": "execute_result"
    },
    {
     "data": {
      "text/plain": [
       "array(['DSL', 'Fiber optic', 'No'], dtype=object)"
      ]
     },
     "execution_count": 146,
     "metadata": {},
     "output_type": "execute_result"
    },
    {
     "data": {
      "text/plain": [
       "'OnlineSecurity'"
      ]
     },
     "execution_count": 146,
     "metadata": {},
     "output_type": "execute_result"
    },
    {
     "data": {
      "text/plain": [
       "array([0, 1], dtype=int64)"
      ]
     },
     "execution_count": 146,
     "metadata": {},
     "output_type": "execute_result"
    },
    {
     "data": {
      "text/plain": [
       "'OnlineBackup'"
      ]
     },
     "execution_count": 146,
     "metadata": {},
     "output_type": "execute_result"
    },
    {
     "data": {
      "text/plain": [
       "array([1, 0], dtype=int64)"
      ]
     },
     "execution_count": 146,
     "metadata": {},
     "output_type": "execute_result"
    },
    {
     "data": {
      "text/plain": [
       "'DeviceProtection'"
      ]
     },
     "execution_count": 146,
     "metadata": {},
     "output_type": "execute_result"
    },
    {
     "data": {
      "text/plain": [
       "array([0, 1], dtype=int64)"
      ]
     },
     "execution_count": 146,
     "metadata": {},
     "output_type": "execute_result"
    },
    {
     "data": {
      "text/plain": [
       "'TechSupport'"
      ]
     },
     "execution_count": 146,
     "metadata": {},
     "output_type": "execute_result"
    },
    {
     "data": {
      "text/plain": [
       "array([0, 1], dtype=int64)"
      ]
     },
     "execution_count": 146,
     "metadata": {},
     "output_type": "execute_result"
    },
    {
     "data": {
      "text/plain": [
       "'StreamingTV'"
      ]
     },
     "execution_count": 146,
     "metadata": {},
     "output_type": "execute_result"
    },
    {
     "data": {
      "text/plain": [
       "array([0, 1], dtype=int64)"
      ]
     },
     "execution_count": 146,
     "metadata": {},
     "output_type": "execute_result"
    },
    {
     "data": {
      "text/plain": [
       "'StreamingMovies'"
      ]
     },
     "execution_count": 146,
     "metadata": {},
     "output_type": "execute_result"
    },
    {
     "data": {
      "text/plain": [
       "array([0, 1], dtype=int64)"
      ]
     },
     "execution_count": 146,
     "metadata": {},
     "output_type": "execute_result"
    },
    {
     "data": {
      "text/plain": [
       "'Contract'"
      ]
     },
     "execution_count": 146,
     "metadata": {},
     "output_type": "execute_result"
    },
    {
     "data": {
      "text/plain": [
       "array(['Month-to-month', 'One year', 'Two year'], dtype=object)"
      ]
     },
     "execution_count": 146,
     "metadata": {},
     "output_type": "execute_result"
    },
    {
     "data": {
      "text/plain": [
       "'PaperlessBilling'"
      ]
     },
     "execution_count": 146,
     "metadata": {},
     "output_type": "execute_result"
    },
    {
     "data": {
      "text/plain": [
       "array([1, 0], dtype=int64)"
      ]
     },
     "execution_count": 146,
     "metadata": {},
     "output_type": "execute_result"
    },
    {
     "data": {
      "text/plain": [
       "'PaymentMethod'"
      ]
     },
     "execution_count": 146,
     "metadata": {},
     "output_type": "execute_result"
    },
    {
     "data": {
      "text/plain": [
       "array(['Electronic check', 'Mailed check', 'Bank transfer (automatic)',\n",
       "       'Credit card (automatic)'], dtype=object)"
      ]
     },
     "execution_count": 146,
     "metadata": {},
     "output_type": "execute_result"
    },
    {
     "data": {
      "text/plain": [
       "'MonthlyCharges'"
      ]
     },
     "execution_count": 146,
     "metadata": {},
     "output_type": "execute_result"
    },
    {
     "data": {
      "text/plain": [
       "array([29.85, 56.95, 53.85, ..., 63.1 , 44.2 , 78.7 ])"
      ]
     },
     "execution_count": 146,
     "metadata": {},
     "output_type": "execute_result"
    },
    {
     "data": {
      "text/plain": [
       "'TotalCharges'"
      ]
     },
     "execution_count": 146,
     "metadata": {},
     "output_type": "execute_result"
    },
    {
     "data": {
      "text/plain": [
       "array([  29.85, 1889.5 ,  108.15, ...,  346.45,  306.6 , 6844.5 ])"
      ]
     },
     "execution_count": 146,
     "metadata": {},
     "output_type": "execute_result"
    },
    {
     "data": {
      "text/plain": [
       "'Churn'"
      ]
     },
     "execution_count": 146,
     "metadata": {},
     "output_type": "execute_result"
    },
    {
     "data": {
      "text/plain": [
       "array([0, 1], dtype=int64)"
      ]
     },
     "execution_count": 146,
     "metadata": {},
     "output_type": "execute_result"
    },
    {
     "data": {
      "text/plain": [
       "'HasInternetService'"
      ]
     },
     "execution_count": 146,
     "metadata": {},
     "output_type": "execute_result"
    },
    {
     "data": {
      "text/plain": [
       "array([1, 0], dtype=int64)"
      ]
     },
     "execution_count": 146,
     "metadata": {},
     "output_type": "execute_result"
    }
   ],
   "source": [
    "for col in churndata:\n",
    "    col\n",
    "    churndata[col].unique()"
   ]
  },
  {
   "cell_type": "markdown",
   "metadata": {},
   "source": [
    "# Step 3: Exploratory Data Analysis"
   ]
  },
  {
   "cell_type": "markdown",
   "metadata": {},
   "source": [
    "## 3a. Exploratory data analysis of Continuos variables"
   ]
  },
  {
   "cell_type": "markdown",
   "metadata": {},
   "source": [
    "### Tenure \n",
    "As seen below, tenure has a bimodal distribution with spikes on customers less than 5 months old and higher than 65. \n",
    "50% of the customer's tenure is less than 29 months"
   ]
  },
  {
   "cell_type": "code",
   "execution_count": 147,
   "metadata": {},
   "outputs": [],
   "source": [
    "# commnenting this code out since we decided to each variable individually with comments instead of letting the for loop do this\n",
    "\n",
    "#for col in churndata:\n",
    "#    if churndata[col].dtype != np.object:\n",
    "#        col\n",
    "#        plt.figure()\n",
    "#        plt.hist(churndata[col])\n",
    "#        plt.title(col)"
   ]
  },
  {
   "cell_type": "code",
   "execution_count": 148,
   "metadata": {},
   "outputs": [
    {
     "data": {
      "image/png": "[encoded data removed]",
      "text/plain": [
       "<Figure size 432x288 with 1 Axes>"
      ]
     },
     "metadata": {
      "needs_background": "light"
     },
     "output_type": "display_data"
    },
    {
     "data": {
      "image/png": "[encoded data removed]",
      "text/plain": [
       "<Figure size 432x288 with 1 Axes>"
      ]
     },
     "metadata": {
      "needs_background": "light"
     },
     "output_type": "display_data"
    },
    {
     "data": {
      "image/png": "[encoded data removed]",
      "text/plain": [
       "<Figure size 432x288 with 1 Axes>"
      ]
     },
     "metadata": {
      "needs_background": "light"
     },
     "output_type": "display_data"
    },
    {
     "data": {
      "text/plain": [
       "29.0"
      ]
     },
     "execution_count": 148,
     "metadata": {},
     "output_type": "execute_result"
    }
   ],
   "source": [
    "plt.hist(churndata['tenure'],bins=[0,10,20,30,40,50,60,70,80])\n",
    "plt.xlabel('Months')\n",
    "plt.ylabel('# of Customers')\n",
    "plt.show()\n",
    "sns.violinplot(churndata['tenure'])\n",
    "plt.xlabel('Months')\n",
    "plt.show()\n",
    "sns.boxplot(churndata['tenure'])\n",
    "plt.xlabel('Months')\n",
    "plt.show()\n",
    "churndata['tenure'].median()"
   ]
  },
  {
   "cell_type": "markdown",
   "metadata": {},
   "source": [
    "#### The longer tenure reduces the probability of churn. "
   ]
  },
  {
   "cell_type": "code",
   "execution_count": 149,
   "metadata": {},
   "outputs": [
    {
     "data": {
      "text/html": [
       "<div>\n",
       "<style scoped>\n",
       "    .dataframe tbody tr th:only-of-type {\n",
       "        vertical-align: middle;\n",
       "    }\n",
       "\n",
       "    .dataframe tbody tr th {\n",
       "        vertical-align: top;\n",
       "    }\n",
       "\n",
       "    .dataframe thead th {\n",
       "        text-align: right;\n",
       "    }\n",
       "</style>\n",
       "<table border=\"1\" class=\"dataframe\">\n",
       "  <thead>\n",
       "    <tr style=\"text-align: right;\">\n",
       "      <th></th>\n",
       "      <th>mean</th>\n",
       "      <th>std</th>\n",
       "    </tr>\n",
       "    <tr>\n",
       "      <th>Churn</th>\n",
       "      <th></th>\n",
       "      <th></th>\n",
       "    </tr>\n",
       "  </thead>\n",
       "  <tbody>\n",
       "    <tr>\n",
       "      <th>0</th>\n",
       "      <td>37.650010</td>\n",
       "      <td>24.076940</td>\n",
       "    </tr>\n",
       "    <tr>\n",
       "      <th>1</th>\n",
       "      <td>17.979133</td>\n",
       "      <td>19.531123</td>\n",
       "    </tr>\n",
       "  </tbody>\n",
       "</table>\n",
       "</div>"
      ],
      "text/plain": [
       "            mean        std\n",
       "Churn                      \n",
       "0      37.650010  24.076940\n",
       "1      17.979133  19.531123"
      ]
     },
     "execution_count": 149,
     "metadata": {},
     "output_type": "execute_result"
    },
    {
     "data": {
      "image/png": "[encoded data removed]",
      "text/plain": [
       "<Figure size 432x288 with 1 Axes>"
      ]
     },
     "metadata": {
      "needs_background": "light"
     },
     "output_type": "display_data"
    }
   ],
   "source": [
    "churndata.boxplot(column=['tenure'],by = ['Churn']) \n",
    "#.set_yscale('log')\n",
    "plt.title('')\n",
    "pd.DataFrame(churndata.groupby( ['Churn'])['tenure'].describe().loc[:,['mean','std']])"
   ]
  },
  {
   "cell_type": "markdown",
   "metadata": {},
   "source": [
    "For the statistical test, \n",
    "Null hypothesis is that there is no difference between the continous variable values segmented by churn variable\n",
    "Alternate hypothesis is that there is a difference between the continous variable values segmented by churn variable"
   ]
  },
  {
   "cell_type": "markdown",
   "metadata": {},
   "source": [
    "#### Mann Whitney U-test\n",
    "using mann whitney u-test here instead of t-test because the continuos variable isn't normally distributed. Sometimes t-test can still be used if we have large sample and mean/median are close. "
   ]
  },
  {
   "cell_type": "code",
   "execution_count": 150,
   "metadata": {},
   "outputs": [
    {
     "name": "stdout",
     "output_type": "stream",
     "text": [
      "P-value: 3.0215232904413584e-211\n",
      "Statistically significant: True\n"
     ]
    }
   ],
   "source": [
    "#is this difference statistically significant \n",
    "\n",
    "x = churndata['tenure'].loc[churndata['Churn']==0].values\n",
    "y = churndata['tenure'].loc[churndata['Churn']==1].values\n",
    "\n",
    "pvalue = scs.mannwhitneyu(x,y).pvalue \n",
    "\n",
    "print(\"P-value:\",pvalue)\n",
    "\n",
    "flag = pvalue <= 0.05\n",
    "\n",
    "print(\"Statistically significant:\", flag)"
   ]
  },
  {
   "cell_type": "markdown",
   "metadata": {},
   "source": [
    "Since p-value is less 0.05 (which is our alpha), we are rejecting the null and accepting the alternate hypothesis"
   ]
  },
  {
   "cell_type": "markdown",
   "metadata": {},
   "source": [
    "### Monthly Charges\n",
    "The biggest spike is in the # of customers that spend 30 or less a month.\n",
    "Average customer pays ~65 per month"
   ]
  },
  {
   "cell_type": "code",
   "execution_count": 151,
   "metadata": {},
   "outputs": [
    {
     "data": {
      "image/png": "[encoded data removed]",
      "text/plain": [
       "<Figure size 432x288 with 1 Axes>"
      ]
     },
     "metadata": {
      "needs_background": "light"
     },
     "output_type": "display_data"
    },
    {
     "data": {
      "image/png": "[encoded data removed]",
      "text/plain": [
       "<Figure size 432x288 with 1 Axes>"
      ]
     },
     "metadata": {
      "needs_background": "light"
     },
     "output_type": "display_data"
    },
    {
     "data": {
      "image/png": "[encoded data removed]",
      "text/plain": [
       "<Figure size 432x288 with 1 Axes>"
      ]
     },
     "metadata": {
      "needs_background": "light"
     },
     "output_type": "display_data"
    },
    {
     "data": {
      "text/plain": [
       "64.79820819112632"
      ]
     },
     "execution_count": 151,
     "metadata": {},
     "output_type": "execute_result"
    }
   ],
   "source": [
    "plt.hist(churndata['MonthlyCharges'])\n",
    "plt.xlabel('Monthly Charge')\n",
    "plt.ylabel('# of Customers')\n",
    "plt.show()\n",
    "sns.violinplot(churndata['MonthlyCharges'])\n",
    "plt.xlabel('Monthly Charge')\n",
    "plt.show()\n",
    "sns.boxplot(churndata['MonthlyCharges'])\n",
    "plt.xlabel('Monthly Charge')\n",
    "plt.show()\n",
    "churndata['MonthlyCharges'].median()\n",
    "churndata['MonthlyCharges'].mean()"
   ]
  },
  {
   "cell_type": "markdown",
   "metadata": {},
   "source": [
    "#### Higher monthly charges increases the probability of churn"
   ]
  },
  {
   "cell_type": "code",
   "execution_count": 152,
   "metadata": {},
   "outputs": [
    {
     "data": {
      "text/html": [
       "<div>\n",
       "<style scoped>\n",
       "    .dataframe tbody tr th:only-of-type {\n",
       "        vertical-align: middle;\n",
       "    }\n",
       "\n",
       "    .dataframe tbody tr th {\n",
       "        vertical-align: top;\n",
       "    }\n",
       "\n",
       "    .dataframe thead th {\n",
       "        text-align: right;\n",
       "    }\n",
       "</style>\n",
       "<table border=\"1\" class=\"dataframe\">\n",
       "  <thead>\n",
       "    <tr style=\"text-align: right;\">\n",
       "      <th></th>\n",
       "      <th>mean</th>\n",
       "      <th>std</th>\n",
       "    </tr>\n",
       "    <tr>\n",
       "      <th>Churn</th>\n",
       "      <th></th>\n",
       "      <th></th>\n",
       "    </tr>\n",
       "  </thead>\n",
       "  <tbody>\n",
       "    <tr>\n",
       "      <th>0</th>\n",
       "      <td>61.307408</td>\n",
       "      <td>31.094557</td>\n",
       "    </tr>\n",
       "    <tr>\n",
       "      <th>1</th>\n",
       "      <td>74.441332</td>\n",
       "      <td>24.666053</td>\n",
       "    </tr>\n",
       "  </tbody>\n",
       "</table>\n",
       "</div>"
      ],
      "text/plain": [
       "            mean        std\n",
       "Churn                      \n",
       "0      61.307408  31.094557\n",
       "1      74.441332  24.666053"
      ]
     },
     "execution_count": 152,
     "metadata": {},
     "output_type": "execute_result"
    },
    {
     "data": {
      "image/png": "[encoded data removed]",
      "text/plain": [
       "<Figure size 432x288 with 1 Axes>"
      ]
     },
     "metadata": {
      "needs_background": "light"
     },
     "output_type": "display_data"
    }
   ],
   "source": [
    "churndata.boxplot(column=['MonthlyCharges'],by = ['Churn'])\n",
    "#.set_yscale('log')\n",
    "plt.title('')\n",
    "pd.DataFrame(churndata.groupby( ['Churn'])['MonthlyCharges'].describe().loc[:,['mean','std']])"
   ]
  },
  {
   "cell_type": "code",
   "execution_count": 153,
   "metadata": {},
   "outputs": [
    {
     "name": "stdout",
     "output_type": "stream",
     "text": [
      "P-value: 4.2335975222743747e-54\n",
      "Statistically significant: True\n"
     ]
    }
   ],
   "source": [
    "#is this difference statistically significant \n",
    "\n",
    "x = churndata['MonthlyCharges'].loc[churndata['Churn']==0].values\n",
    "y = churndata['MonthlyCharges'].loc[churndata['Churn']==1].values\n",
    "\n",
    "pvalue = scs.mannwhitneyu(x,y).pvalue\n",
    "\n",
    "print(\"P-value:\",pvalue)\n",
    "\n",
    "flag = pvalue <= 0.05\n",
    "\n",
    "print(\"Statistically significant:\", flag)"
   ]
  },
  {
   "cell_type": "markdown",
   "metadata": {},
   "source": [
    "### Total charges\n",
    "Total charges is left skewed with 50% of customers paying ~$1400 "
   ]
  },
  {
   "cell_type": "code",
   "execution_count": 154,
   "metadata": {},
   "outputs": [
    {
     "data": {
      "image/png": "[encoded data removed]",
      "text/plain": [
       "<Figure size 432x288 with 1 Axes>"
      ]
     },
     "metadata": {
      "needs_background": "light"
     },
     "output_type": "display_data"
    },
    {
     "data": {
      "image/png": "[encoded data removed]",
      "text/plain": [
       "<Figure size 432x288 with 1 Axes>"
      ]
     },
     "metadata": {
      "needs_background": "light"
     },
     "output_type": "display_data"
    },
    {
     "data": {
      "image/png": "[encoded data removed]",
      "text/plain": [
       "<Figure size 432x288 with 1 Axes>"
      ]
     },
     "metadata": {
      "needs_background": "light"
     },
     "output_type": "display_data"
    },
    {
     "data": {
      "text/plain": [
       "1397.475"
      ]
     },
     "execution_count": 154,
     "metadata": {},
     "output_type": "execute_result"
    }
   ],
   "source": [
    "plt.hist(churndata['TotalCharges'])\n",
    "plt.xlabel('Total Charge')\n",
    "plt.ylabel('# of Customers')\n",
    "plt.show()\n",
    "sns.violinplot(churndata['TotalCharges'])\n",
    "plt.xlabel('Total Charge')\n",
    "plt.show()\n",
    "sns.boxplot(churndata['TotalCharges'])\n",
    "plt.xlabel('Total Charge')\n",
    "plt.show()\n",
    "churndata['TotalCharges'].median()"
   ]
  },
  {
   "cell_type": "markdown",
   "metadata": {},
   "source": [
    "#### Total charges is multiplication of tenure and monthly charges and we will to remove this variable since it's redundant."
   ]
  },
  {
   "cell_type": "code",
   "execution_count": 155,
   "metadata": {},
   "outputs": [
    {
     "data": {
      "text/html": [
       "<div>\n",
       "<style scoped>\n",
       "    .dataframe tbody tr th:only-of-type {\n",
       "        vertical-align: middle;\n",
       "    }\n",
       "\n",
       "    .dataframe tbody tr th {\n",
       "        vertical-align: top;\n",
       "    }\n",
       "\n",
       "    .dataframe thead th {\n",
       "        text-align: right;\n",
       "    }\n",
       "</style>\n",
       "<table border=\"1\" class=\"dataframe\">\n",
       "  <thead>\n",
       "    <tr style=\"text-align: right;\">\n",
       "      <th></th>\n",
       "      <th>mean</th>\n",
       "      <th>std</th>\n",
       "    </tr>\n",
       "    <tr>\n",
       "      <th>Churn</th>\n",
       "      <th></th>\n",
       "      <th></th>\n",
       "    </tr>\n",
       "  </thead>\n",
       "  <tbody>\n",
       "    <tr>\n",
       "      <th>0</th>\n",
       "      <td>2555.344141</td>\n",
       "      <td>2329.456984</td>\n",
       "    </tr>\n",
       "    <tr>\n",
       "      <th>1</th>\n",
       "      <td>1531.796094</td>\n",
       "      <td>1890.822994</td>\n",
       "    </tr>\n",
       "  </tbody>\n",
       "</table>\n",
       "</div>"
      ],
      "text/plain": [
       "              mean          std\n",
       "Churn                          \n",
       "0      2555.344141  2329.456984\n",
       "1      1531.796094  1890.822994"
      ]
     },
     "execution_count": 155,
     "metadata": {},
     "output_type": "execute_result"
    },
    {
     "data": {
      "image/png": "[encoded data removed]",
      "text/plain": [
       "<Figure size 432x288 with 1 Axes>"
      ]
     },
     "metadata": {
      "needs_background": "light"
     },
     "output_type": "display_data"
    }
   ],
   "source": [
    "churndata.boxplot(column=['TotalCharges'],by = ['Churn']).set_yscale('log')\n",
    "plt.title('')\n",
    "pd.DataFrame(churndata.groupby( ['Churn'])['TotalCharges'].describe().loc[:,['mean','std']])"
   ]
  },
  {
   "cell_type": "code",
   "execution_count": 156,
   "metadata": {},
   "outputs": [
    {
     "name": "stdout",
     "output_type": "stream",
     "text": [
      "P-value: 9.979924469422913e-85\n",
      "Statistically significant: True\n"
     ]
    }
   ],
   "source": [
    "#is this difference statistically significant \n",
    "\n",
    "x = churndata['TotalCharges'].loc[churndata['Churn']==0].values\n",
    "y = churndata['TotalCharges'].loc[churndata['Churn']==1].values\n",
    "\n",
    "pvalue = scs.mannwhitneyu(x,y).pvalue\n",
    "\n",
    "print(\"P-value:\",pvalue)\n",
    "\n",
    "flag = pvalue <= 0.05\n",
    "\n",
    "print(\"Statistically significant:\", flag)"
   ]
  },
  {
   "cell_type": "markdown",
   "metadata": {},
   "source": [
    "## 3b. Exploratory data analysis of categorical variables\n"
   ]
  },
  {
   "cell_type": "code",
   "execution_count": 157,
   "metadata": {},
   "outputs": [],
   "source": [
    "#for col in churndata:\n",
    "#    if churndata[col].dtype == np.object:\n",
    "#        col\n",
    "#        plt.figure()\n",
    "#        sns.countplot(churndata[col])"
   ]
  },
  {
   "cell_type": "markdown",
   "metadata": {},
   "source": [
    "####  gender"
   ]
  },
  {
   "cell_type": "markdown",
   "metadata": {},
   "source": [
    "gender doesn't seem to change churn probability on it's own "
   ]
  },
  {
   "cell_type": "code",
   "execution_count": 158,
   "metadata": {},
   "outputs": [
    {
     "data": {
      "text/html": [
       "<div>\n",
       "<style scoped>\n",
       "    .dataframe tbody tr th:only-of-type {\n",
       "        vertical-align: middle;\n",
       "    }\n",
       "\n",
       "    .dataframe tbody tr th {\n",
       "        vertical-align: top;\n",
       "    }\n",
       "\n",
       "    .dataframe thead th {\n",
       "        text-align: right;\n",
       "    }\n",
       "</style>\n",
       "<table border=\"1\" class=\"dataframe\">\n",
       "  <thead>\n",
       "    <tr style=\"text-align: right;\">\n",
       "      <th></th>\n",
       "      <th>Churn</th>\n",
       "    </tr>\n",
       "    <tr>\n",
       "      <th>gender</th>\n",
       "      <th></th>\n",
       "    </tr>\n",
       "  </thead>\n",
       "  <tbody>\n",
       "    <tr>\n",
       "      <th>Female</th>\n",
       "      <td>0.269595</td>\n",
       "    </tr>\n",
       "    <tr>\n",
       "      <th>Male</th>\n",
       "      <td>0.262046</td>\n",
       "    </tr>\n",
       "  </tbody>\n",
       "</table>\n",
       "</div>"
      ],
      "text/plain": [
       "           Churn\n",
       "gender          \n",
       "Female  0.269595\n",
       "Male    0.262046"
      ]
     },
     "execution_count": 158,
     "metadata": {},
     "output_type": "execute_result"
    },
    {
     "data": {
      "image/png": "[encoded data removed]",
      "text/plain": [
       "<Figure size 432x288 with 1 Axes>"
      ]
     },
     "metadata": {
      "needs_background": "light"
     },
     "output_type": "display_data"
    }
   ],
   "source": [
    "churndata.groupby(['gender'])[['Churn']].mean().plot(kind='bar').set_ylabel('Count')\n",
    "churndata.groupby(['gender' ])[['Churn']].mean()"
   ]
  },
  {
   "cell_type": "code",
   "execution_count": 159,
   "metadata": {},
   "outputs": [
    {
     "data": {
      "text/html": [
       "<table class=\"simpletable\">\n",
       "<caption>OLS Regression Results</caption>\n",
       "<tr>\n",
       "  <th>Dep. Variable:</th>          <td>Churn</td>      <th>  R-squared:         </th> <td>   0.000</td>\n",
       "</tr>\n",
       "<tr>\n",
       "  <th>Model:</th>                   <td>OLS</td>       <th>  Adj. R-squared:    </th> <td>  -0.000</td>\n",
       "</tr>\n",
       "<tr>\n",
       "  <th>Method:</th>             <td>Least Squares</td>  <th>  F-statistic:       </th> <td>  0.5133</td>\n",
       "</tr>\n",
       "<tr>\n",
       "  <th>Date:</th>             <td>Sat, 06 Jul 2019</td> <th>  Prob (F-statistic):</th>  <td> 0.474</td> \n",
       "</tr>\n",
       "<tr>\n",
       "  <th>Time:</th>                 <td>11:00:23</td>     <th>  Log-Likelihood:    </th> <td> -4232.5</td>\n",
       "</tr>\n",
       "<tr>\n",
       "  <th>No. Observations:</th>      <td>  7032</td>      <th>  AIC:               </th> <td>   8469.</td>\n",
       "</tr>\n",
       "<tr>\n",
       "  <th>Df Residuals:</th>          <td>  7030</td>      <th>  BIC:               </th> <td>   8483.</td>\n",
       "</tr>\n",
       "<tr>\n",
       "  <th>Df Model:</th>              <td>     1</td>      <th>                     </th>     <td> </td>   \n",
       "</tr>\n",
       "<tr>\n",
       "  <th>Covariance Type:</th>      <td>nonrobust</td>    <th>                     </th>     <td> </td>   \n",
       "</tr>\n",
       "</table>\n",
       "<table class=\"simpletable\">\n",
       "<tr>\n",
       "         <td></td>           <th>coef</th>     <th>std err</th>      <th>t</th>      <th>P>|t|</th>  <th>[0.025</th>    <th>0.975]</th>  \n",
       "</tr>\n",
       "<tr>\n",
       "  <th>Intercept</th>      <td>    0.2696</td> <td>    0.007</td> <td>   36.014</td> <td> 0.000</td> <td>    0.255</td> <td>    0.284</td>\n",
       "</tr>\n",
       "<tr>\n",
       "  <th>gender[T.Male]</th> <td>   -0.0075</td> <td>    0.011</td> <td>   -0.716</td> <td> 0.474</td> <td>   -0.028</td> <td>    0.013</td>\n",
       "</tr>\n",
       "</table>\n",
       "<table class=\"simpletable\">\n",
       "<tr>\n",
       "  <th>Omnibus:</th>       <td>1761.856</td> <th>  Durbin-Watson:     </th> <td>   2.011</td>\n",
       "</tr>\n",
       "<tr>\n",
       "  <th>Prob(Omnibus):</th>  <td> 0.000</td>  <th>  Jarque-Bera (JB):  </th> <td>1542.104</td>\n",
       "</tr>\n",
       "<tr>\n",
       "  <th>Skew:</th>           <td> 1.060</td>  <th>  Prob(JB):          </th> <td>    0.00</td>\n",
       "</tr>\n",
       "<tr>\n",
       "  <th>Kurtosis:</th>       <td> 2.125</td>  <th>  Cond. No.          </th> <td>    2.63</td>\n",
       "</tr>\n",
       "</table><br/><br/>Warnings:<br/>[1] Standard Errors assume that the covariance matrix of the errors is correctly specified."
      ],
      "text/plain": [
       "<class 'statsmodels.iolib.summary.Summary'>\n",
       "\"\"\"\n",
       "                            OLS Regression Results                            \n",
       "==============================================================================\n",
       "Dep. Variable:                  Churn   R-squared:                       0.000\n",
       "Model:                            OLS   Adj. R-squared:                 -0.000\n",
       "Method:                 Least Squares   F-statistic:                    0.5133\n",
       "Date:                Sat, 06 Jul 2019   Prob (F-statistic):              0.474\n",
       "Time:                        11:00:23   Log-Likelihood:                -4232.5\n",
       "No. Observations:                7032   AIC:                             8469.\n",
       "Df Residuals:                    7030   BIC:                             8483.\n",
       "Df Model:                           1                                         \n",
       "Covariance Type:            nonrobust                                         \n",
       "==================================================================================\n",
       "                     coef    std err          t      P>|t|      [0.025      0.975]\n",
       "----------------------------------------------------------------------------------\n",
       "Intercept          0.2696      0.007     36.014      0.000       0.255       0.284\n",
       "gender[T.Male]    -0.0075      0.011     -0.716      0.474      -0.028       0.013\n",
       "==============================================================================\n",
       "Omnibus:                     1761.856   Durbin-Watson:                   2.011\n",
       "Prob(Omnibus):                  0.000   Jarque-Bera (JB):             1542.104\n",
       "Skew:                           1.060   Prob(JB):                         0.00\n",
       "Kurtosis:                       2.125   Cond. No.                         2.63\n",
       "==============================================================================\n",
       "\n",
       "Warnings:\n",
       "[1] Standard Errors assume that the covariance matrix of the errors is correctly specified.\n",
       "\"\"\""
      ]
     },
     "execution_count": 159,
     "metadata": {},
     "output_type": "execute_result"
    }
   ],
   "source": [
    "#is this statistically significant? \n",
    "m = ols('Churn ~ gender',churndata).fit()\n",
    "m.summary()"
   ]
  },
  {
   "cell_type": "code",
   "execution_count": 160,
   "metadata": {},
   "outputs": [
    {
     "data": {
      "text/plain": [
       "Male      3549\n",
       "Female    3483\n",
       "Name: gender, dtype: int64"
      ]
     },
     "execution_count": 160,
     "metadata": {},
     "output_type": "execute_result"
    },
    {
     "data": {
      "image/png": "[encoded data removed]",
      "text/plain": [
       "<Figure size 432x288 with 1 Axes>"
      ]
     },
     "metadata": {
      "needs_background": "light"
     },
     "output_type": "display_data"
    }
   ],
   "source": [
    "sns.countplot(churndata['gender'])\n",
    "churndata['gender'].value_counts()"
   ]
  },
  {
   "cell_type": "markdown",
   "metadata": {},
   "source": [
    "#### SeniorCitizen\n",
    "\n",
    "A senior citizen is more likely to churn"
   ]
  },
  {
   "cell_type": "code",
   "execution_count": 161,
   "metadata": {},
   "outputs": [
    {
     "data": {
      "text/html": [
       "<div>\n",
       "<style scoped>\n",
       "    .dataframe tbody tr th:only-of-type {\n",
       "        vertical-align: middle;\n",
       "    }\n",
       "\n",
       "    .dataframe tbody tr th {\n",
       "        vertical-align: top;\n",
       "    }\n",
       "\n",
       "    .dataframe thead th {\n",
       "        text-align: right;\n",
       "    }\n",
       "</style>\n",
       "<table border=\"1\" class=\"dataframe\">\n",
       "  <thead>\n",
       "    <tr style=\"text-align: right;\">\n",
       "      <th></th>\n",
       "      <th>Churn</th>\n",
       "    </tr>\n",
       "    <tr>\n",
       "      <th>SeniorCitizen</th>\n",
       "      <th></th>\n",
       "    </tr>\n",
       "  </thead>\n",
       "  <tbody>\n",
       "    <tr>\n",
       "      <th>0</th>\n",
       "      <td>0.236503</td>\n",
       "    </tr>\n",
       "    <tr>\n",
       "      <th>1</th>\n",
       "      <td>0.416813</td>\n",
       "    </tr>\n",
       "  </tbody>\n",
       "</table>\n",
       "</div>"
      ],
      "text/plain": [
       "                  Churn\n",
       "SeniorCitizen          \n",
       "0              0.236503\n",
       "1              0.416813"
      ]
     },
     "execution_count": 161,
     "metadata": {},
     "output_type": "execute_result"
    },
    {
     "data": {
      "image/png": "[encoded data removed]",
      "text/plain": [
       "<Figure size 432x288 with 1 Axes>"
      ]
     },
     "metadata": {
      "needs_background": "light"
     },
     "output_type": "display_data"
    }
   ],
   "source": [
    "churndata.groupby(['SeniorCitizen'])[['Churn']].mean().plot(kind='bar').set_ylabel('Count')\n",
    "churndata.groupby(['SeniorCitizen' ])[['Churn']].mean()"
   ]
  },
  {
   "cell_type": "code",
   "execution_count": 162,
   "metadata": {},
   "outputs": [],
   "source": [
    "#churndata2 = churndata\n",
    "#churndata2['intercept'] = 1 \n",
    "#logit = sm.logit(churndata2['Churn'], churndata2[['intercept','SeniorCitizen']])\n",
    "#result.summary()\n",
    "#df['intercept'] = 1 df['typ_a', 'typ_b', 'typ_c'] = pd.get_dummies(df2['roomtype'])\n",
    "#logit = sm.logit(df2['price'], df2[['intercept','typ_a', 'typ_b']])\n",
    "#result.summary()"
   ]
  },
  {
   "cell_type": "code",
   "execution_count": 163,
   "metadata": {},
   "outputs": [
    {
     "data": {
      "text/html": [
       "<table class=\"simpletable\">\n",
       "<caption>OLS Regression Results</caption>\n",
       "<tr>\n",
       "  <th>Dep. Variable:</th>          <td>Churn</td>      <th>  R-squared:         </th> <td>   0.023</td>\n",
       "</tr>\n",
       "<tr>\n",
       "  <th>Model:</th>                   <td>OLS</td>       <th>  Adj. R-squared:    </th> <td>   0.023</td>\n",
       "</tr>\n",
       "<tr>\n",
       "  <th>Method:</th>             <td>Least Squares</td>  <th>  F-statistic:       </th> <td>   163.0</td>\n",
       "</tr>\n",
       "<tr>\n",
       "  <th>Date:</th>             <td>Sat, 06 Jul 2019</td> <th>  Prob (F-statistic):</th> <td>6.38e-37</td>\n",
       "</tr>\n",
       "<tr>\n",
       "  <th>Time:</th>                 <td>11:00:24</td>     <th>  Log-Likelihood:    </th> <td> -4152.2</td>\n",
       "</tr>\n",
       "<tr>\n",
       "  <th>No. Observations:</th>      <td>  7032</td>      <th>  AIC:               </th> <td>   8308.</td>\n",
       "</tr>\n",
       "<tr>\n",
       "  <th>Df Residuals:</th>          <td>  7030</td>      <th>  BIC:               </th> <td>   8322.</td>\n",
       "</tr>\n",
       "<tr>\n",
       "  <th>Df Model:</th>              <td>     1</td>      <th>                     </th>     <td> </td>   \n",
       "</tr>\n",
       "<tr>\n",
       "  <th>Covariance Type:</th>      <td>nonrobust</td>    <th>                     </th>     <td> </td>   \n",
       "</tr>\n",
       "</table>\n",
       "<table class=\"simpletable\">\n",
       "<tr>\n",
       "        <td></td>           <th>coef</th>     <th>std err</th>      <th>t</th>      <th>P>|t|</th>  <th>[0.025</th>    <th>0.975]</th>  \n",
       "</tr>\n",
       "<tr>\n",
       "  <th>Intercept</th>     <td>    0.2365</td> <td>    0.006</td> <td>   41.556</td> <td> 0.000</td> <td>    0.225</td> <td>    0.248</td>\n",
       "</tr>\n",
       "<tr>\n",
       "  <th>SeniorCitizen</th> <td>    0.1803</td> <td>    0.014</td> <td>   12.768</td> <td> 0.000</td> <td>    0.153</td> <td>    0.208</td>\n",
       "</tr>\n",
       "</table>\n",
       "<table class=\"simpletable\">\n",
       "<tr>\n",
       "  <th>Omnibus:</th>       <td>1474.753</td> <th>  Durbin-Watson:     </th> <td>   2.010</td>\n",
       "</tr>\n",
       "<tr>\n",
       "  <th>Prob(Omnibus):</th>  <td> 0.000</td>  <th>  Jarque-Bera (JB):  </th> <td>1445.216</td>\n",
       "</tr>\n",
       "<tr>\n",
       "  <th>Skew:</th>           <td> 1.036</td>  <th>  Prob(JB):          </th> <td>    0.00</td>\n",
       "</tr>\n",
       "<tr>\n",
       "  <th>Kurtosis:</th>       <td> 2.199</td>  <th>  Cond. No.          </th> <td>    2.79</td>\n",
       "</tr>\n",
       "</table><br/><br/>Warnings:<br/>[1] Standard Errors assume that the covariance matrix of the errors is correctly specified."
      ],
      "text/plain": [
       "<class 'statsmodels.iolib.summary.Summary'>\n",
       "\"\"\"\n",
       "                            OLS Regression Results                            \n",
       "==============================================================================\n",
       "Dep. Variable:                  Churn   R-squared:                       0.023\n",
       "Model:                            OLS   Adj. R-squared:                  0.023\n",
       "Method:                 Least Squares   F-statistic:                     163.0\n",
       "Date:                Sat, 06 Jul 2019   Prob (F-statistic):           6.38e-37\n",
       "Time:                        11:00:24   Log-Likelihood:                -4152.2\n",
       "No. Observations:                7032   AIC:                             8308.\n",
       "Df Residuals:                    7030   BIC:                             8322.\n",
       "Df Model:                           1                                         \n",
       "Covariance Type:            nonrobust                                         \n",
       "=================================================================================\n",
       "                    coef    std err          t      P>|t|      [0.025      0.975]\n",
       "---------------------------------------------------------------------------------\n",
       "Intercept         0.2365      0.006     41.556      0.000       0.225       0.248\n",
       "SeniorCitizen     0.1803      0.014     12.768      0.000       0.153       0.208\n",
       "==============================================================================\n",
       "Omnibus:                     1474.753   Durbin-Watson:                   2.010\n",
       "Prob(Omnibus):                  0.000   Jarque-Bera (JB):             1445.216\n",
       "Skew:                           1.036   Prob(JB):                         0.00\n",
       "Kurtosis:                       2.199   Cond. No.                         2.79\n",
       "==============================================================================\n",
       "\n",
       "Warnings:\n",
       "[1] Standard Errors assume that the covariance matrix of the errors is correctly specified.\n",
       "\"\"\""
      ]
     },
     "execution_count": 163,
     "metadata": {},
     "output_type": "execute_result"
    }
   ],
   "source": [
    "#is this statistically significant? \n",
    "m = ols('Churn ~ SeniorCitizen',churndata).fit()\n",
    "m.summary()"
   ]
  },
  {
   "cell_type": "code",
   "execution_count": 164,
   "metadata": {},
   "outputs": [
    {
     "data": {
      "text/plain": [
       "0    5890\n",
       "1    1142\n",
       "Name: SeniorCitizen, dtype: int64"
      ]
     },
     "execution_count": 164,
     "metadata": {},
     "output_type": "execute_result"
    },
    {
     "data": {
      "image/png": "[encoded data removed]",
      "text/plain": [
       "<Figure size 432x288 with 1 Axes>"
      ]
     },
     "metadata": {
      "needs_background": "light"
     },
     "output_type": "display_data"
    }
   ],
   "source": [
    "sns.countplot(churndata['SeniorCitizen'])\n",
    "churndata['SeniorCitizen'].value_counts()"
   ]
  },
  {
   "cell_type": "markdown",
   "metadata": {},
   "source": [
    "#### Partner\n",
    "\n",
    "customers with parnters are less likely to churn"
   ]
  },
  {
   "cell_type": "code",
   "execution_count": 165,
   "metadata": {},
   "outputs": [
    {
     "data": {
      "text/html": [
       "<div>\n",
       "<style scoped>\n",
       "    .dataframe tbody tr th:only-of-type {\n",
       "        vertical-align: middle;\n",
       "    }\n",
       "\n",
       "    .dataframe tbody tr th {\n",
       "        vertical-align: top;\n",
       "    }\n",
       "\n",
       "    .dataframe thead th {\n",
       "        text-align: right;\n",
       "    }\n",
       "</style>\n",
       "<table border=\"1\" class=\"dataframe\">\n",
       "  <thead>\n",
       "    <tr style=\"text-align: right;\">\n",
       "      <th></th>\n",
       "      <th>Churn</th>\n",
       "    </tr>\n",
       "    <tr>\n",
       "      <th>Partner</th>\n",
       "      <th></th>\n",
       "    </tr>\n",
       "  </thead>\n",
       "  <tbody>\n",
       "    <tr>\n",
       "      <th>0</th>\n",
       "      <td>0.329761</td>\n",
       "    </tr>\n",
       "    <tr>\n",
       "      <th>1</th>\n",
       "      <td>0.197171</td>\n",
       "    </tr>\n",
       "  </tbody>\n",
       "</table>\n",
       "</div>"
      ],
      "text/plain": [
       "            Churn\n",
       "Partner          \n",
       "0        0.329761\n",
       "1        0.197171"
      ]
     },
     "execution_count": 165,
     "metadata": {},
     "output_type": "execute_result"
    },
    {
     "data": {
      "image/png": "[encoded data removed]",
      "text/plain": [
       "<Figure size 432x288 with 1 Axes>"
      ]
     },
     "metadata": {
      "needs_background": "light"
     },
     "output_type": "display_data"
    }
   ],
   "source": [
    "churndata.groupby(['Partner'])[['Churn']].mean().plot(kind='bar').set_ylabel('Count')\n",
    "churndata.groupby(['Partner' ])[['Churn']].mean()"
   ]
  },
  {
   "cell_type": "code",
   "execution_count": 166,
   "metadata": {},
   "outputs": [
    {
     "data": {
      "text/html": [
       "<table class=\"simpletable\">\n",
       "<caption>OLS Regression Results</caption>\n",
       "<tr>\n",
       "  <th>Dep. Variable:</th>          <td>Churn</td>      <th>  R-squared:         </th> <td>   0.022</td>\n",
       "</tr>\n",
       "<tr>\n",
       "  <th>Model:</th>                   <td>OLS</td>       <th>  Adj. R-squared:    </th> <td>   0.022</td>\n",
       "</tr>\n",
       "<tr>\n",
       "  <th>Method:</th>             <td>Least Squares</td>  <th>  F-statistic:       </th> <td>   161.8</td>\n",
       "</tr>\n",
       "<tr>\n",
       "  <th>Date:</th>             <td>Sat, 06 Jul 2019</td> <th>  Prob (F-statistic):</th> <td>1.17e-36</td>\n",
       "</tr>\n",
       "<tr>\n",
       "  <th>Time:</th>                 <td>11:00:24</td>     <th>  Log-Likelihood:    </th> <td> -4152.8</td>\n",
       "</tr>\n",
       "<tr>\n",
       "  <th>No. Observations:</th>      <td>  7032</td>      <th>  AIC:               </th> <td>   8310.</td>\n",
       "</tr>\n",
       "<tr>\n",
       "  <th>Df Residuals:</th>          <td>  7030</td>      <th>  BIC:               </th> <td>   8323.</td>\n",
       "</tr>\n",
       "<tr>\n",
       "  <th>Df Model:</th>              <td>     1</td>      <th>                     </th>     <td> </td>   \n",
       "</tr>\n",
       "<tr>\n",
       "  <th>Covariance Type:</th>      <td>nonrobust</td>    <th>                     </th>     <td> </td>   \n",
       "</tr>\n",
       "</table>\n",
       "<table class=\"simpletable\">\n",
       "<tr>\n",
       "      <td></td>         <th>coef</th>     <th>std err</th>      <th>t</th>      <th>P>|t|</th>  <th>[0.025</th>    <th>0.975]</th>  \n",
       "</tr>\n",
       "<tr>\n",
       "  <th>Intercept</th> <td>    0.3298</td> <td>    0.007</td> <td>   45.540</td> <td> 0.000</td> <td>    0.316</td> <td>    0.344</td>\n",
       "</tr>\n",
       "<tr>\n",
       "  <th>Partner</th>   <td>   -0.1326</td> <td>    0.010</td> <td>  -12.719</td> <td> 0.000</td> <td>   -0.153</td> <td>   -0.112</td>\n",
       "</tr>\n",
       "</table>\n",
       "<table class=\"simpletable\">\n",
       "<tr>\n",
       "  <th>Omnibus:</th>       <td>1576.389</td> <th>  Durbin-Watson:     </th> <td>   2.004</td> \n",
       "</tr>\n",
       "<tr>\n",
       "  <th>Prob(Omnibus):</th>  <td> 0.000</td>  <th>  Jarque-Bera (JB):  </th> <td>1431.822</td> \n",
       "</tr>\n",
       "<tr>\n",
       "  <th>Skew:</th>           <td> 1.023</td>  <th>  Prob(JB):          </th> <td>1.21e-311</td>\n",
       "</tr>\n",
       "<tr>\n",
       "  <th>Kurtosis:</th>       <td> 2.161</td>  <th>  Cond. No.          </th> <td>    2.58</td> \n",
       "</tr>\n",
       "</table><br/><br/>Warnings:<br/>[1] Standard Errors assume that the covariance matrix of the errors is correctly specified."
      ],
      "text/plain": [
       "<class 'statsmodels.iolib.summary.Summary'>\n",
       "\"\"\"\n",
       "                            OLS Regression Results                            \n",
       "==============================================================================\n",
       "Dep. Variable:                  Churn   R-squared:                       0.022\n",
       "Model:                            OLS   Adj. R-squared:                  0.022\n",
       "Method:                 Least Squares   F-statistic:                     161.8\n",
       "Date:                Sat, 06 Jul 2019   Prob (F-statistic):           1.17e-36\n",
       "Time:                        11:00:24   Log-Likelihood:                -4152.8\n",
       "No. Observations:                7032   AIC:                             8310.\n",
       "Df Residuals:                    7030   BIC:                             8323.\n",
       "Df Model:                           1                                         \n",
       "Covariance Type:            nonrobust                                         \n",
       "==============================================================================\n",
       "                 coef    std err          t      P>|t|      [0.025      0.975]\n",
       "------------------------------------------------------------------------------\n",
       "Intercept      0.3298      0.007     45.540      0.000       0.316       0.344\n",
       "Partner       -0.1326      0.010    -12.719      0.000      -0.153      -0.112\n",
       "==============================================================================\n",
       "Omnibus:                     1576.389   Durbin-Watson:                   2.004\n",
       "Prob(Omnibus):                  0.000   Jarque-Bera (JB):             1431.822\n",
       "Skew:                           1.023   Prob(JB):                    1.21e-311\n",
       "Kurtosis:                       2.161   Cond. No.                         2.58\n",
       "==============================================================================\n",
       "\n",
       "Warnings:\n",
       "[1] Standard Errors assume that the covariance matrix of the errors is correctly specified.\n",
       "\"\"\""
      ]
     },
     "execution_count": 166,
     "metadata": {},
     "output_type": "execute_result"
    }
   ],
   "source": [
    "#is this statistically significant? \n",
    "m = ols('Churn ~ Partner',churndata).fit()\n",
    "m.summary()"
   ]
  },
  {
   "cell_type": "code",
   "execution_count": 167,
   "metadata": {},
   "outputs": [
    {
     "data": {
      "text/plain": [
       "0    3639\n",
       "1    3393\n",
       "Name: Partner, dtype: int64"
      ]
     },
     "execution_count": 167,
     "metadata": {},
     "output_type": "execute_result"
    },
    {
     "data": {
      "image/png": "[encoded data removed]",
      "text/plain": [
       "<Figure size 432x288 with 1 Axes>"
      ]
     },
     "metadata": {
      "needs_background": "light"
     },
     "output_type": "display_data"
    }
   ],
   "source": [
    "sns.countplot(churndata['Partner'])\n",
    "churndata['Partner'].value_counts()"
   ]
  },
  {
   "cell_type": "markdown",
   "metadata": {},
   "source": [
    "#### Dependents\n",
    "\n",
    "customers with dependents are less likely to churn"
   ]
  },
  {
   "cell_type": "code",
   "execution_count": 168,
   "metadata": {},
   "outputs": [
    {
     "data": {
      "text/html": [
       "<div>\n",
       "<style scoped>\n",
       "    .dataframe tbody tr th:only-of-type {\n",
       "        vertical-align: middle;\n",
       "    }\n",
       "\n",
       "    .dataframe tbody tr th {\n",
       "        vertical-align: top;\n",
       "    }\n",
       "\n",
       "    .dataframe thead th {\n",
       "        text-align: right;\n",
       "    }\n",
       "</style>\n",
       "<table border=\"1\" class=\"dataframe\">\n",
       "  <thead>\n",
       "    <tr style=\"text-align: right;\">\n",
       "      <th></th>\n",
       "      <th>Churn</th>\n",
       "    </tr>\n",
       "    <tr>\n",
       "      <th>Dependents</th>\n",
       "      <th></th>\n",
       "    </tr>\n",
       "  </thead>\n",
       "  <tbody>\n",
       "    <tr>\n",
       "      <th>0</th>\n",
       "      <td>0.312791</td>\n",
       "    </tr>\n",
       "    <tr>\n",
       "      <th>1</th>\n",
       "      <td>0.155312</td>\n",
       "    </tr>\n",
       "  </tbody>\n",
       "</table>\n",
       "</div>"
      ],
      "text/plain": [
       "               Churn\n",
       "Dependents          \n",
       "0           0.312791\n",
       "1           0.155312"
      ]
     },
     "execution_count": 168,
     "metadata": {},
     "output_type": "execute_result"
    },
    {
     "data": {
      "image/png": "[encoded data removed]",
      "text/plain": [
       "<Figure size 432x288 with 1 Axes>"
      ]
     },
     "metadata": {
      "needs_background": "light"
     },
     "output_type": "display_data"
    }
   ],
   "source": [
    "churndata.groupby(['Dependents'])[['Churn']].mean().plot(kind='bar').set_ylabel('Count')\n",
    "churndata.groupby(['Dependents' ])[['Churn']].mean()"
   ]
  },
  {
   "cell_type": "code",
   "execution_count": 169,
   "metadata": {},
   "outputs": [
    {
     "data": {
      "text/html": [
       "<table class=\"simpletable\">\n",
       "<caption>OLS Regression Results</caption>\n",
       "<tr>\n",
       "  <th>Dep. Variable:</th>          <td>Churn</td>      <th>  R-squared:         </th> <td>   0.027</td>\n",
       "</tr>\n",
       "<tr>\n",
       "  <th>Model:</th>                   <td>OLS</td>       <th>  Adj. R-squared:    </th> <td>   0.026</td>\n",
       "</tr>\n",
       "<tr>\n",
       "  <th>Method:</th>             <td>Least Squares</td>  <th>  F-statistic:       </th> <td>   192.2</td>\n",
       "</tr>\n",
       "<tr>\n",
       "  <th>Date:</th>             <td>Sat, 06 Jul 2019</td> <th>  Prob (F-statistic):</th> <td>3.90e-43</td>\n",
       "</tr>\n",
       "<tr>\n",
       "  <th>Time:</th>                 <td>11:00:25</td>     <th>  Log-Likelihood:    </th> <td> -4137.9</td>\n",
       "</tr>\n",
       "<tr>\n",
       "  <th>No. Observations:</th>      <td>  7032</td>      <th>  AIC:               </th> <td>   8280.</td>\n",
       "</tr>\n",
       "<tr>\n",
       "  <th>Df Residuals:</th>          <td>  7030</td>      <th>  BIC:               </th> <td>   8294.</td>\n",
       "</tr>\n",
       "<tr>\n",
       "  <th>Df Model:</th>              <td>     1</td>      <th>                     </th>     <td> </td>   \n",
       "</tr>\n",
       "<tr>\n",
       "  <th>Covariance Type:</th>      <td>nonrobust</td>    <th>                     </th>     <td> </td>   \n",
       "</tr>\n",
       "</table>\n",
       "<table class=\"simpletable\">\n",
       "<tr>\n",
       "       <td></td>         <th>coef</th>     <th>std err</th>      <th>t</th>      <th>P>|t|</th>  <th>[0.025</th>    <th>0.975]</th>  \n",
       "</tr>\n",
       "<tr>\n",
       "  <th>Intercept</th>  <td>    0.3128</td> <td>    0.006</td> <td>   50.400</td> <td> 0.000</td> <td>    0.301</td> <td>    0.325</td>\n",
       "</tr>\n",
       "<tr>\n",
       "  <th>Dependents</th> <td>   -0.1575</td> <td>    0.011</td> <td>  -13.863</td> <td> 0.000</td> <td>   -0.180</td> <td>   -0.135</td>\n",
       "</tr>\n",
       "</table>\n",
       "<table class=\"simpletable\">\n",
       "<tr>\n",
       "  <th>Omnibus:</th>       <td>1626.003</td> <th>  Durbin-Watson:     </th> <td>   2.017</td> \n",
       "</tr>\n",
       "<tr>\n",
       "  <th>Prob(Omnibus):</th>  <td> 0.000</td>  <th>  Jarque-Bera (JB):  </th> <td>1406.485</td> \n",
       "</tr>\n",
       "<tr>\n",
       "  <th>Skew:</th>           <td> 1.008</td>  <th>  Prob(JB):          </th> <td>3.85e-306</td>\n",
       "</tr>\n",
       "<tr>\n",
       "  <th>Kurtosis:</th>       <td> 2.142</td>  <th>  Cond. No.          </th> <td>    2.43</td> \n",
       "</tr>\n",
       "</table><br/><br/>Warnings:<br/>[1] Standard Errors assume that the covariance matrix of the errors is correctly specified."
      ],
      "text/plain": [
       "<class 'statsmodels.iolib.summary.Summary'>\n",
       "\"\"\"\n",
       "                            OLS Regression Results                            \n",
       "==============================================================================\n",
       "Dep. Variable:                  Churn   R-squared:                       0.027\n",
       "Model:                            OLS   Adj. R-squared:                  0.026\n",
       "Method:                 Least Squares   F-statistic:                     192.2\n",
       "Date:                Sat, 06 Jul 2019   Prob (F-statistic):           3.90e-43\n",
       "Time:                        11:00:25   Log-Likelihood:                -4137.9\n",
       "No. Observations:                7032   AIC:                             8280.\n",
       "Df Residuals:                    7030   BIC:                             8294.\n",
       "Df Model:                           1                                         \n",
       "Covariance Type:            nonrobust                                         \n",
       "==============================================================================\n",
       "                 coef    std err          t      P>|t|      [0.025      0.975]\n",
       "------------------------------------------------------------------------------\n",
       "Intercept      0.3128      0.006     50.400      0.000       0.301       0.325\n",
       "Dependents    -0.1575      0.011    -13.863      0.000      -0.180      -0.135\n",
       "==============================================================================\n",
       "Omnibus:                     1626.003   Durbin-Watson:                   2.017\n",
       "Prob(Omnibus):                  0.000   Jarque-Bera (JB):             1406.485\n",
       "Skew:                           1.008   Prob(JB):                    3.85e-306\n",
       "Kurtosis:                       2.142   Cond. No.                         2.43\n",
       "==============================================================================\n",
       "\n",
       "Warnings:\n",
       "[1] Standard Errors assume that the covariance matrix of the errors is correctly specified.\n",
       "\"\"\""
      ]
     },
     "execution_count": 169,
     "metadata": {},
     "output_type": "execute_result"
    }
   ],
   "source": [
    "#is this statistically significant? \n",
    "m = ols('Churn ~ Dependents',churndata).fit()\n",
    "m.summary()"
   ]
  },
  {
   "cell_type": "code",
   "execution_count": 170,
   "metadata": {},
   "outputs": [
    {
     "data": {
      "text/plain": [
       "0    4933\n",
       "1    2099\n",
       "Name: Dependents, dtype: int64"
      ]
     },
     "execution_count": 170,
     "metadata": {},
     "output_type": "execute_result"
    },
    {
     "data": {
      "image/png": "[encoded data removed]",
      "text/plain": [
       "<Figure size 432x288 with 1 Axes>"
      ]
     },
     "metadata": {
      "needs_background": "light"
     },
     "output_type": "display_data"
    }
   ],
   "source": [
    "sns.countplot(churndata['Dependents'])\n",
    "churndata['Dependents'].value_counts()"
   ]
  },
  {
   "cell_type": "markdown",
   "metadata": {},
   "source": [
    "#### PhoneService\n",
    "\n",
    "Phone service doesn't seem to have a significant enough difference on churn likelihood on it's own"
   ]
  },
  {
   "cell_type": "code",
   "execution_count": 171,
   "metadata": {},
   "outputs": [
    {
     "data": {
      "text/html": [
       "<div>\n",
       "<style scoped>\n",
       "    .dataframe tbody tr th:only-of-type {\n",
       "        vertical-align: middle;\n",
       "    }\n",
       "\n",
       "    .dataframe tbody tr th {\n",
       "        vertical-align: top;\n",
       "    }\n",
       "\n",
       "    .dataframe thead th {\n",
       "        text-align: right;\n",
       "    }\n",
       "</style>\n",
       "<table border=\"1\" class=\"dataframe\">\n",
       "  <thead>\n",
       "    <tr style=\"text-align: right;\">\n",
       "      <th></th>\n",
       "      <th>Churn</th>\n",
       "    </tr>\n",
       "    <tr>\n",
       "      <th>PhoneService</th>\n",
       "      <th></th>\n",
       "    </tr>\n",
       "  </thead>\n",
       "  <tbody>\n",
       "    <tr>\n",
       "      <th>0</th>\n",
       "      <td>0.250000</td>\n",
       "    </tr>\n",
       "    <tr>\n",
       "      <th>1</th>\n",
       "      <td>0.267475</td>\n",
       "    </tr>\n",
       "  </tbody>\n",
       "</table>\n",
       "</div>"
      ],
      "text/plain": [
       "                 Churn\n",
       "PhoneService          \n",
       "0             0.250000\n",
       "1             0.267475"
      ]
     },
     "execution_count": 171,
     "metadata": {},
     "output_type": "execute_result"
    },
    {
     "data": {
      "image/png": "[encoded data removed]",
      "text/plain": [
       "<Figure size 432x288 with 1 Axes>"
      ]
     },
     "metadata": {
      "needs_background": "light"
     },
     "output_type": "display_data"
    }
   ],
   "source": [
    "churndata.groupby(['PhoneService'])[['Churn']].mean().plot(kind='bar').set_ylabel('Count')\n",
    "churndata.groupby(['PhoneService' ])[['Churn']].mean()"
   ]
  },
  {
   "cell_type": "code",
   "execution_count": 172,
   "metadata": {},
   "outputs": [
    {
     "data": {
      "text/html": [
       "<table class=\"simpletable\">\n",
       "<caption>OLS Regression Results</caption>\n",
       "<tr>\n",
       "  <th>Dep. Variable:</th>          <td>Churn</td>      <th>  R-squared:         </th> <td>   0.000</td>\n",
       "</tr>\n",
       "<tr>\n",
       "  <th>Model:</th>                   <td>OLS</td>       <th>  Adj. R-squared:    </th> <td>  -0.000</td>\n",
       "</tr>\n",
       "<tr>\n",
       "  <th>Method:</th>             <td>Least Squares</td>  <th>  F-statistic:       </th> <td>  0.9611</td>\n",
       "</tr>\n",
       "<tr>\n",
       "  <th>Date:</th>             <td>Sat, 06 Jul 2019</td> <th>  Prob (F-statistic):</th>  <td> 0.327</td> \n",
       "</tr>\n",
       "<tr>\n",
       "  <th>Time:</th>                 <td>11:00:25</td>     <th>  Log-Likelihood:    </th> <td> -4232.3</td>\n",
       "</tr>\n",
       "<tr>\n",
       "  <th>No. Observations:</th>      <td>  7032</td>      <th>  AIC:               </th> <td>   8469.</td>\n",
       "</tr>\n",
       "<tr>\n",
       "  <th>Df Residuals:</th>          <td>  7030</td>      <th>  BIC:               </th> <td>   8482.</td>\n",
       "</tr>\n",
       "<tr>\n",
       "  <th>Df Model:</th>              <td>     1</td>      <th>                     </th>     <td> </td>   \n",
       "</tr>\n",
       "<tr>\n",
       "  <th>Covariance Type:</th>      <td>nonrobust</td>    <th>                     </th>     <td> </td>   \n",
       "</tr>\n",
       "</table>\n",
       "<table class=\"simpletable\">\n",
       "<tr>\n",
       "        <td></td>          <th>coef</th>     <th>std err</th>      <th>t</th>      <th>P>|t|</th>  <th>[0.025</th>    <th>0.975]</th>  \n",
       "</tr>\n",
       "<tr>\n",
       "  <th>Intercept</th>    <td>    0.2500</td> <td>    0.017</td> <td>   14.757</td> <td> 0.000</td> <td>    0.217</td> <td>    0.283</td>\n",
       "</tr>\n",
       "<tr>\n",
       "  <th>PhoneService</th> <td>    0.0175</td> <td>    0.018</td> <td>    0.980</td> <td> 0.327</td> <td>   -0.017</td> <td>    0.052</td>\n",
       "</tr>\n",
       "</table>\n",
       "<table class=\"simpletable\">\n",
       "<tr>\n",
       "  <th>Omnibus:</th>       <td>1761.374</td> <th>  Durbin-Watson:     </th> <td>   2.012</td>\n",
       "</tr>\n",
       "<tr>\n",
       "  <th>Prob(Omnibus):</th>  <td> 0.000</td>  <th>  Jarque-Bera (JB):  </th> <td>1541.788</td>\n",
       "</tr>\n",
       "<tr>\n",
       "  <th>Skew:</th>           <td> 1.060</td>  <th>  Prob(JB):          </th> <td>    0.00</td>\n",
       "</tr>\n",
       "<tr>\n",
       "  <th>Kurtosis:</th>       <td> 2.125</td>  <th>  Cond. No.          </th> <td>    6.28</td>\n",
       "</tr>\n",
       "</table><br/><br/>Warnings:<br/>[1] Standard Errors assume that the covariance matrix of the errors is correctly specified."
      ],
      "text/plain": [
       "<class 'statsmodels.iolib.summary.Summary'>\n",
       "\"\"\"\n",
       "                            OLS Regression Results                            \n",
       "==============================================================================\n",
       "Dep. Variable:                  Churn   R-squared:                       0.000\n",
       "Model:                            OLS   Adj. R-squared:                 -0.000\n",
       "Method:                 Least Squares   F-statistic:                    0.9611\n",
       "Date:                Sat, 06 Jul 2019   Prob (F-statistic):              0.327\n",
       "Time:                        11:00:25   Log-Likelihood:                -4232.3\n",
       "No. Observations:                7032   AIC:                             8469.\n",
       "Df Residuals:                    7030   BIC:                             8482.\n",
       "Df Model:                           1                                         \n",
       "Covariance Type:            nonrobust                                         \n",
       "================================================================================\n",
       "                   coef    std err          t      P>|t|      [0.025      0.975]\n",
       "--------------------------------------------------------------------------------\n",
       "Intercept        0.2500      0.017     14.757      0.000       0.217       0.283\n",
       "PhoneService     0.0175      0.018      0.980      0.327      -0.017       0.052\n",
       "==============================================================================\n",
       "Omnibus:                     1761.374   Durbin-Watson:                   2.012\n",
       "Prob(Omnibus):                  0.000   Jarque-Bera (JB):             1541.788\n",
       "Skew:                           1.060   Prob(JB):                         0.00\n",
       "Kurtosis:                       2.125   Cond. No.                         6.28\n",
       "==============================================================================\n",
       "\n",
       "Warnings:\n",
       "[1] Standard Errors assume that the covariance matrix of the errors is correctly specified.\n",
       "\"\"\""
      ]
     },
     "execution_count": 172,
     "metadata": {},
     "output_type": "execute_result"
    }
   ],
   "source": [
    "#is this statistically significant? \n",
    "m = ols('Churn ~ PhoneService',churndata).fit()\n",
    "m.summary()"
   ]
  },
  {
   "cell_type": "code",
   "execution_count": 173,
   "metadata": {},
   "outputs": [
    {
     "data": {
      "text/plain": [
       "1    6352\n",
       "0     680\n",
       "Name: PhoneService, dtype: int64"
      ]
     },
     "execution_count": 173,
     "metadata": {},
     "output_type": "execute_result"
    },
    {
     "data": {
      "image/png": "[encoded data removed]",
      "text/plain": [
       "<Figure size 432x288 with 1 Axes>"
      ]
     },
     "metadata": {
      "needs_background": "light"
     },
     "output_type": "display_data"
    }
   ],
   "source": [
    "sns.countplot(churndata['PhoneService'])\n",
    "churndata['PhoneService'].value_counts()"
   ]
  },
  {
   "cell_type": "markdown",
   "metadata": {},
   "source": [
    "#### MultipleLines\n",
    "\n",
    "Multiple lines customer are slightly higher likely to churn and the difference is statistically significant. "
   ]
  },
  {
   "cell_type": "code",
   "execution_count": 174,
   "metadata": {},
   "outputs": [
    {
     "data": {
      "text/html": [
       "<div>\n",
       "<style scoped>\n",
       "    .dataframe tbody tr th:only-of-type {\n",
       "        vertical-align: middle;\n",
       "    }\n",
       "\n",
       "    .dataframe tbody tr th {\n",
       "        vertical-align: top;\n",
       "    }\n",
       "\n",
       "    .dataframe thead th {\n",
       "        text-align: right;\n",
       "    }\n",
       "</style>\n",
       "<table border=\"1\" class=\"dataframe\">\n",
       "  <thead>\n",
       "    <tr style=\"text-align: right;\">\n",
       "      <th></th>\n",
       "      <th>Churn</th>\n",
       "    </tr>\n",
       "    <tr>\n",
       "      <th>MultipleLines</th>\n",
       "      <th></th>\n",
       "    </tr>\n",
       "  </thead>\n",
       "  <tbody>\n",
       "    <tr>\n",
       "      <th>0</th>\n",
       "      <td>0.250677</td>\n",
       "    </tr>\n",
       "    <tr>\n",
       "      <th>1</th>\n",
       "      <td>0.286485</td>\n",
       "    </tr>\n",
       "  </tbody>\n",
       "</table>\n",
       "</div>"
      ],
      "text/plain": [
       "                  Churn\n",
       "MultipleLines          \n",
       "0              0.250677\n",
       "1              0.286485"
      ]
     },
     "execution_count": 174,
     "metadata": {},
     "output_type": "execute_result"
    },
    {
     "data": {
      "image/png": "[encoded data removed]",
      "text/plain": [
       "<Figure size 432x288 with 1 Axes>"
      ]
     },
     "metadata": {
      "needs_background": "light"
     },
     "output_type": "display_data"
    }
   ],
   "source": [
    "churndata.groupby(['MultipleLines'])[['Churn']].mean().plot(kind='bar').set_ylabel('Count')\n",
    "churndata.groupby(['MultipleLines' ])[['Churn']].mean()"
   ]
  },
  {
   "cell_type": "code",
   "execution_count": 175,
   "metadata": {},
   "outputs": [
    {
     "data": {
      "text/html": [
       "<table class=\"simpletable\">\n",
       "<caption>OLS Regression Results</caption>\n",
       "<tr>\n",
       "  <th>Dep. Variable:</th>          <td>Churn</td>      <th>  R-squared:         </th> <td>   0.002</td>\n",
       "</tr>\n",
       "<tr>\n",
       "  <th>Model:</th>                   <td>OLS</td>       <th>  Adj. R-squared:    </th> <td>   0.001</td>\n",
       "</tr>\n",
       "<tr>\n",
       "  <th>Method:</th>             <td>Least Squares</td>  <th>  F-statistic:       </th> <td>   11.28</td>\n",
       "</tr>\n",
       "<tr>\n",
       "  <th>Date:</th>             <td>Sat, 06 Jul 2019</td> <th>  Prob (F-statistic):</th> <td>0.000786</td>\n",
       "</tr>\n",
       "<tr>\n",
       "  <th>Time:</th>                 <td>11:00:26</td>     <th>  Log-Likelihood:    </th> <td> -4227.1</td>\n",
       "</tr>\n",
       "<tr>\n",
       "  <th>No. Observations:</th>      <td>  7032</td>      <th>  AIC:               </th> <td>   8458.</td>\n",
       "</tr>\n",
       "<tr>\n",
       "  <th>Df Residuals:</th>          <td>  7030</td>      <th>  BIC:               </th> <td>   8472.</td>\n",
       "</tr>\n",
       "<tr>\n",
       "  <th>Df Model:</th>              <td>     1</td>      <th>                     </th>     <td> </td>   \n",
       "</tr>\n",
       "<tr>\n",
       "  <th>Covariance Type:</th>      <td>nonrobust</td>    <th>                     </th>     <td> </td>   \n",
       "</tr>\n",
       "</table>\n",
       "<table class=\"simpletable\">\n",
       "<tr>\n",
       "        <td></td>           <th>coef</th>     <th>std err</th>      <th>t</th>      <th>P>|t|</th>  <th>[0.025</th>    <th>0.975]</th>  \n",
       "</tr>\n",
       "<tr>\n",
       "  <th>Intercept</th>     <td>    0.2507</td> <td>    0.007</td> <td>   36.204</td> <td> 0.000</td> <td>    0.237</td> <td>    0.264</td>\n",
       "</tr>\n",
       "<tr>\n",
       "  <th>MultipleLines</th> <td>    0.0358</td> <td>    0.011</td> <td>    3.359</td> <td> 0.001</td> <td>    0.015</td> <td>    0.057</td>\n",
       "</tr>\n",
       "</table>\n",
       "<table class=\"simpletable\">\n",
       "<tr>\n",
       "  <th>Omnibus:</th>       <td>1747.353</td> <th>  Durbin-Watson:     </th> <td>   2.011</td>\n",
       "</tr>\n",
       "<tr>\n",
       "  <th>Prob(Omnibus):</th>  <td> 0.000</td>  <th>  Jarque-Bera (JB):  </th> <td>1534.712</td>\n",
       "</tr>\n",
       "<tr>\n",
       "  <th>Skew:</th>           <td> 1.058</td>  <th>  Prob(JB):          </th> <td>    0.00</td>\n",
       "</tr>\n",
       "<tr>\n",
       "  <th>Kurtosis:</th>       <td> 2.127</td>  <th>  Cond. No.          </th> <td>    2.48</td>\n",
       "</tr>\n",
       "</table><br/><br/>Warnings:<br/>[1] Standard Errors assume that the covariance matrix of the errors is correctly specified."
      ],
      "text/plain": [
       "<class 'statsmodels.iolib.summary.Summary'>\n",
       "\"\"\"\n",
       "                            OLS Regression Results                            \n",
       "==============================================================================\n",
       "Dep. Variable:                  Churn   R-squared:                       0.002\n",
       "Model:                            OLS   Adj. R-squared:                  0.001\n",
       "Method:                 Least Squares   F-statistic:                     11.28\n",
       "Date:                Sat, 06 Jul 2019   Prob (F-statistic):           0.000786\n",
       "Time:                        11:00:26   Log-Likelihood:                -4227.1\n",
       "No. Observations:                7032   AIC:                             8458.\n",
       "Df Residuals:                    7030   BIC:                             8472.\n",
       "Df Model:                           1                                         \n",
       "Covariance Type:            nonrobust                                         \n",
       "=================================================================================\n",
       "                    coef    std err          t      P>|t|      [0.025      0.975]\n",
       "---------------------------------------------------------------------------------\n",
       "Intercept         0.2507      0.007     36.204      0.000       0.237       0.264\n",
       "MultipleLines     0.0358      0.011      3.359      0.001       0.015       0.057\n",
       "==============================================================================\n",
       "Omnibus:                     1747.353   Durbin-Watson:                   2.011\n",
       "Prob(Omnibus):                  0.000   Jarque-Bera (JB):             1534.712\n",
       "Skew:                           1.058   Prob(JB):                         0.00\n",
       "Kurtosis:                       2.127   Cond. No.                         2.48\n",
       "==============================================================================\n",
       "\n",
       "Warnings:\n",
       "[1] Standard Errors assume that the covariance matrix of the errors is correctly specified.\n",
       "\"\"\""
      ]
     },
     "execution_count": 175,
     "metadata": {},
     "output_type": "execute_result"
    }
   ],
   "source": [
    "#is this statistically significant? \n",
    "m = ols('Churn ~ MultipleLines',churndata).fit()\n",
    "m.summary()"
   ]
  },
  {
   "cell_type": "code",
   "execution_count": 176,
   "metadata": {},
   "outputs": [
    {
     "data": {
      "text/plain": [
       "0    4065\n",
       "1    2967\n",
       "Name: MultipleLines, dtype: int64"
      ]
     },
     "execution_count": 176,
     "metadata": {},
     "output_type": "execute_result"
    },
    {
     "data": {
      "image/png": "[encoded data removed]",
      "text/plain": [
       "<Figure size 432x288 with 1 Axes>"
      ]
     },
     "metadata": {
      "needs_background": "light"
     },
     "output_type": "display_data"
    }
   ],
   "source": [
    "sns.countplot(churndata['MultipleLines'])\n",
    "churndata['MultipleLines'].value_counts()"
   ]
  },
  {
   "cell_type": "markdown",
   "metadata": {},
   "source": [
    "#### InternetService\n",
    "\n",
    "Internet service customers that have Fiber optic are more likely to churn compared to customers that have DSL and don't have internet service"
   ]
  },
  {
   "cell_type": "code",
   "execution_count": 177,
   "metadata": {},
   "outputs": [
    {
     "data": {
      "text/html": [
       "<div>\n",
       "<style scoped>\n",
       "    .dataframe tbody tr th:only-of-type {\n",
       "        vertical-align: middle;\n",
       "    }\n",
       "\n",
       "    .dataframe tbody tr th {\n",
       "        vertical-align: top;\n",
       "    }\n",
       "\n",
       "    .dataframe thead th {\n",
       "        text-align: right;\n",
       "    }\n",
       "</style>\n",
       "<table border=\"1\" class=\"dataframe\">\n",
       "  <thead>\n",
       "    <tr style=\"text-align: right;\">\n",
       "      <th></th>\n",
       "      <th>Churn</th>\n",
       "    </tr>\n",
       "    <tr>\n",
       "      <th>InternetService</th>\n",
       "      <th></th>\n",
       "    </tr>\n",
       "  </thead>\n",
       "  <tbody>\n",
       "    <tr>\n",
       "      <th>DSL</th>\n",
       "      <td>0.189983</td>\n",
       "    </tr>\n",
       "    <tr>\n",
       "      <th>Fiber optic</th>\n",
       "      <td>0.418928</td>\n",
       "    </tr>\n",
       "    <tr>\n",
       "      <th>No</th>\n",
       "      <td>0.074342</td>\n",
       "    </tr>\n",
       "  </tbody>\n",
       "</table>\n",
       "</div>"
      ],
      "text/plain": [
       "                    Churn\n",
       "InternetService          \n",
       "DSL              0.189983\n",
       "Fiber optic      0.418928\n",
       "No               0.074342"
      ]
     },
     "execution_count": 177,
     "metadata": {},
     "output_type": "execute_result"
    },
    {
     "data": {
      "image/png": "[encoded data removed]",
      "text/plain": [
       "<Figure size 432x288 with 1 Axes>"
      ]
     },
     "metadata": {
      "needs_background": "light"
     },
     "output_type": "display_data"
    }
   ],
   "source": [
    "churndata.groupby(['InternetService'])[['Churn']].mean().plot(kind='bar').set_ylabel('Count')\n",
    "churndata.groupby(['InternetService' ])[['Churn']].mean()"
   ]
  },
  {
   "cell_type": "code",
   "execution_count": 178,
   "metadata": {},
   "outputs": [
    {
     "data": {
      "text/html": [
       "<table class=\"simpletable\">\n",
       "<caption>OLS Regression Results</caption>\n",
       "<tr>\n",
       "  <th>Dep. Variable:</th>          <td>Churn</td>      <th>  R-squared:         </th> <td>   0.104</td> \n",
       "</tr>\n",
       "<tr>\n",
       "  <th>Model:</th>                   <td>OLS</td>       <th>  Adj. R-squared:    </th> <td>   0.103</td> \n",
       "</tr>\n",
       "<tr>\n",
       "  <th>Method:</th>             <td>Least Squares</td>  <th>  F-statistic:       </th> <td>   406.3</td> \n",
       "</tr>\n",
       "<tr>\n",
       "  <th>Date:</th>             <td>Sat, 06 Jul 2019</td> <th>  Prob (F-statistic):</th> <td>1.06e-167</td>\n",
       "</tr>\n",
       "<tr>\n",
       "  <th>Time:</th>                 <td>11:00:26</td>     <th>  Log-Likelihood:    </th> <td> -3848.1</td> \n",
       "</tr>\n",
       "<tr>\n",
       "  <th>No. Observations:</th>      <td>  7032</td>      <th>  AIC:               </th> <td>   7702.</td> \n",
       "</tr>\n",
       "<tr>\n",
       "  <th>Df Residuals:</th>          <td>  7029</td>      <th>  BIC:               </th> <td>   7723.</td> \n",
       "</tr>\n",
       "<tr>\n",
       "  <th>Df Model:</th>              <td>     2</td>      <th>                     </th>     <td> </td>    \n",
       "</tr>\n",
       "<tr>\n",
       "  <th>Covariance Type:</th>      <td>nonrobust</td>    <th>                     </th>     <td> </td>    \n",
       "</tr>\n",
       "</table>\n",
       "<table class=\"simpletable\">\n",
       "<tr>\n",
       "                 <td></td>                   <th>coef</th>     <th>std err</th>      <th>t</th>      <th>P>|t|</th>  <th>[0.025</th>    <th>0.975]</th>  \n",
       "</tr>\n",
       "<tr>\n",
       "  <th>Intercept</th>                      <td>    0.1900</td> <td>    0.009</td> <td>   22.323</td> <td> 0.000</td> <td>    0.173</td> <td>    0.207</td>\n",
       "</tr>\n",
       "<tr>\n",
       "  <th>InternetService[T.Fiber optic]</th> <td>    0.2289</td> <td>    0.011</td> <td>   20.161</td> <td> 0.000</td> <td>    0.207</td> <td>    0.251</td>\n",
       "</tr>\n",
       "<tr>\n",
       "  <th>InternetService[T.No]</th>          <td>   -0.1156</td> <td>    0.014</td> <td>   -8.444</td> <td> 0.000</td> <td>   -0.142</td> <td>   -0.089</td>\n",
       "</tr>\n",
       "</table>\n",
       "<table class=\"simpletable\">\n",
       "<tr>\n",
       "  <th>Omnibus:</th>       <td>1105.033</td> <th>  Durbin-Watson:     </th> <td>   2.017</td> \n",
       "</tr>\n",
       "<tr>\n",
       "  <th>Prob(Omnibus):</th>  <td> 0.000</td>  <th>  Jarque-Bera (JB):  </th> <td>1024.373</td> \n",
       "</tr>\n",
       "<tr>\n",
       "  <th>Skew:</th>           <td> 0.859</td>  <th>  Prob(JB):          </th> <td>3.63e-223</td>\n",
       "</tr>\n",
       "<tr>\n",
       "  <th>Kurtosis:</th>       <td> 2.261</td>  <th>  Cond. No.          </th> <td>    3.82</td> \n",
       "</tr>\n",
       "</table><br/><br/>Warnings:<br/>[1] Standard Errors assume that the covariance matrix of the errors is correctly specified."
      ],
      "text/plain": [
       "<class 'statsmodels.iolib.summary.Summary'>\n",
       "\"\"\"\n",
       "                            OLS Regression Results                            \n",
       "==============================================================================\n",
       "Dep. Variable:                  Churn   R-squared:                       0.104\n",
       "Model:                            OLS   Adj. R-squared:                  0.103\n",
       "Method:                 Least Squares   F-statistic:                     406.3\n",
       "Date:                Sat, 06 Jul 2019   Prob (F-statistic):          1.06e-167\n",
       "Time:                        11:00:26   Log-Likelihood:                -3848.1\n",
       "No. Observations:                7032   AIC:                             7702.\n",
       "Df Residuals:                    7029   BIC:                             7723.\n",
       "Df Model:                           2                                         \n",
       "Covariance Type:            nonrobust                                         \n",
       "==================================================================================================\n",
       "                                     coef    std err          t      P>|t|      [0.025      0.975]\n",
       "--------------------------------------------------------------------------------------------------\n",
       "Intercept                          0.1900      0.009     22.323      0.000       0.173       0.207\n",
       "InternetService[T.Fiber optic]     0.2289      0.011     20.161      0.000       0.207       0.251\n",
       "InternetService[T.No]             -0.1156      0.014     -8.444      0.000      -0.142      -0.089\n",
       "==============================================================================\n",
       "Omnibus:                     1105.033   Durbin-Watson:                   2.017\n",
       "Prob(Omnibus):                  0.000   Jarque-Bera (JB):             1024.373\n",
       "Skew:                           0.859   Prob(JB):                    3.63e-223\n",
       "Kurtosis:                       2.261   Cond. No.                         3.82\n",
       "==============================================================================\n",
       "\n",
       "Warnings:\n",
       "[1] Standard Errors assume that the covariance matrix of the errors is correctly specified.\n",
       "\"\"\""
      ]
     },
     "execution_count": 178,
     "metadata": {},
     "output_type": "execute_result"
    }
   ],
   "source": [
    "#is this statistically significant? \n",
    "m = ols('Churn ~ InternetService',churndata).fit()\n",
    "m.summary()"
   ]
  },
  {
   "cell_type": "code",
   "execution_count": 179,
   "metadata": {},
   "outputs": [
    {
     "data": {
      "text/plain": [
       "Fiber optic    3096\n",
       "DSL            2416\n",
       "No             1520\n",
       "Name: InternetService, dtype: int64"
      ]
     },
     "execution_count": 179,
     "metadata": {},
     "output_type": "execute_result"
    },
    {
     "data": {
      "image/png": "[encoded data removed]",
      "text/plain": [
       "<Figure size 432x288 with 1 Axes>"
      ]
     },
     "metadata": {
      "needs_background": "light"
     },
     "output_type": "display_data"
    }
   ],
   "source": [
    "sns.countplot(churndata['InternetService'])\n",
    "churndata['InternetService'].value_counts()"
   ]
  },
  {
   "cell_type": "markdown",
   "metadata": {},
   "source": [
    "#### OnlineSecurity\n",
    "\n",
    "Customers who have online security are less likely to churn. "
   ]
  },
  {
   "cell_type": "code",
   "execution_count": 180,
   "metadata": {},
   "outputs": [
    {
     "data": {
      "text/html": [
       "<div>\n",
       "<style scoped>\n",
       "    .dataframe tbody tr th:only-of-type {\n",
       "        vertical-align: middle;\n",
       "    }\n",
       "\n",
       "    .dataframe tbody tr th {\n",
       "        vertical-align: top;\n",
       "    }\n",
       "\n",
       "    .dataframe thead th {\n",
       "        text-align: right;\n",
       "    }\n",
       "</style>\n",
       "<table border=\"1\" class=\"dataframe\">\n",
       "  <thead>\n",
       "    <tr style=\"text-align: right;\">\n",
       "      <th></th>\n",
       "      <th>Churn</th>\n",
       "    </tr>\n",
       "    <tr>\n",
       "      <th>OnlineSecurity</th>\n",
       "      <th></th>\n",
       "    </tr>\n",
       "  </thead>\n",
       "  <tbody>\n",
       "    <tr>\n",
       "      <th>0</th>\n",
       "      <td>0.313733</td>\n",
       "    </tr>\n",
       "    <tr>\n",
       "      <th>1</th>\n",
       "      <td>0.146402</td>\n",
       "    </tr>\n",
       "  </tbody>\n",
       "</table>\n",
       "</div>"
      ],
      "text/plain": [
       "                   Churn\n",
       "OnlineSecurity          \n",
       "0               0.313733\n",
       "1               0.146402"
      ]
     },
     "execution_count": 180,
     "metadata": {},
     "output_type": "execute_result"
    },
    {
     "data": {
      "image/png": "[encoded data removed]",
      "text/plain": [
       "<Figure size 432x288 with 1 Axes>"
      ]
     },
     "metadata": {
      "needs_background": "light"
     },
     "output_type": "display_data"
    }
   ],
   "source": [
    "churndata.groupby(['OnlineSecurity'])[['Churn']].mean().plot(kind='bar').set_ylabel('Count')\n",
    "churndata.groupby(['OnlineSecurity' ])[['Churn']].mean()"
   ]
  },
  {
   "cell_type": "code",
   "execution_count": 181,
   "metadata": {},
   "outputs": [
    {
     "data": {
      "text/html": [
       "<table class=\"simpletable\">\n",
       "<caption>OLS Regression Results</caption>\n",
       "<tr>\n",
       "  <th>Dep. Variable:</th>          <td>Churn</td>      <th>  R-squared:         </th> <td>   0.029</td>\n",
       "</tr>\n",
       "<tr>\n",
       "  <th>Model:</th>                   <td>OLS</td>       <th>  Adj. R-squared:    </th> <td>   0.029</td>\n",
       "</tr>\n",
       "<tr>\n",
       "  <th>Method:</th>             <td>Least Squares</td>  <th>  F-statistic:       </th> <td>   212.4</td>\n",
       "</tr>\n",
       "<tr>\n",
       "  <th>Date:</th>             <td>Sat, 06 Jul 2019</td> <th>  Prob (F-statistic):</th> <td>1.97e-47</td>\n",
       "</tr>\n",
       "<tr>\n",
       "  <th>Time:</th>                 <td>11:00:27</td>     <th>  Log-Likelihood:    </th> <td> -4128.1</td>\n",
       "</tr>\n",
       "<tr>\n",
       "  <th>No. Observations:</th>      <td>  7032</td>      <th>  AIC:               </th> <td>   8260.</td>\n",
       "</tr>\n",
       "<tr>\n",
       "  <th>Df Residuals:</th>          <td>  7030</td>      <th>  BIC:               </th> <td>   8274.</td>\n",
       "</tr>\n",
       "<tr>\n",
       "  <th>Df Model:</th>              <td>     1</td>      <th>                     </th>     <td> </td>   \n",
       "</tr>\n",
       "<tr>\n",
       "  <th>Covariance Type:</th>      <td>nonrobust</td>    <th>                     </th>     <td> </td>   \n",
       "</tr>\n",
       "</table>\n",
       "<table class=\"simpletable\">\n",
       "<tr>\n",
       "         <td></td>           <th>coef</th>     <th>std err</th>      <th>t</th>      <th>P>|t|</th>  <th>[0.025</th>    <th>0.975]</th>  \n",
       "</tr>\n",
       "<tr>\n",
       "  <th>Intercept</th>      <td>    0.3137</td> <td>    0.006</td> <td>   51.052</td> <td> 0.000</td> <td>    0.302</td> <td>    0.326</td>\n",
       "</tr>\n",
       "<tr>\n",
       "  <th>OnlineSecurity</th> <td>   -0.1673</td> <td>    0.011</td> <td>  -14.576</td> <td> 0.000</td> <td>   -0.190</td> <td>   -0.145</td>\n",
       "</tr>\n",
       "</table>\n",
       "<table class=\"simpletable\">\n",
       "<tr>\n",
       "  <th>Omnibus:</th>       <td>1627.293</td> <th>  Durbin-Watson:     </th> <td>   2.016</td> \n",
       "</tr>\n",
       "<tr>\n",
       "  <th>Prob(Omnibus):</th>  <td> 0.000</td>  <th>  Jarque-Bera (JB):  </th> <td>1391.916</td> \n",
       "</tr>\n",
       "<tr>\n",
       "  <th>Skew:</th>           <td> 1.001</td>  <th>  Prob(JB):          </th> <td>5.62e-303</td>\n",
       "</tr>\n",
       "<tr>\n",
       "  <th>Kurtosis:</th>       <td> 2.140</td>  <th>  Cond. No.          </th> <td>    2.43</td> \n",
       "</tr>\n",
       "</table><br/><br/>Warnings:<br/>[1] Standard Errors assume that the covariance matrix of the errors is correctly specified."
      ],
      "text/plain": [
       "<class 'statsmodels.iolib.summary.Summary'>\n",
       "\"\"\"\n",
       "                            OLS Regression Results                            \n",
       "==============================================================================\n",
       "Dep. Variable:                  Churn   R-squared:                       0.029\n",
       "Model:                            OLS   Adj. R-squared:                  0.029\n",
       "Method:                 Least Squares   F-statistic:                     212.4\n",
       "Date:                Sat, 06 Jul 2019   Prob (F-statistic):           1.97e-47\n",
       "Time:                        11:00:27   Log-Likelihood:                -4128.1\n",
       "No. Observations:                7032   AIC:                             8260.\n",
       "Df Residuals:                    7030   BIC:                             8274.\n",
       "Df Model:                           1                                         \n",
       "Covariance Type:            nonrobust                                         \n",
       "==================================================================================\n",
       "                     coef    std err          t      P>|t|      [0.025      0.975]\n",
       "----------------------------------------------------------------------------------\n",
       "Intercept          0.3137      0.006     51.052      0.000       0.302       0.326\n",
       "OnlineSecurity    -0.1673      0.011    -14.576      0.000      -0.190      -0.145\n",
       "==============================================================================\n",
       "Omnibus:                     1627.293   Durbin-Watson:                   2.016\n",
       "Prob(Omnibus):                  0.000   Jarque-Bera (JB):             1391.916\n",
       "Skew:                           1.001   Prob(JB):                    5.62e-303\n",
       "Kurtosis:                       2.140   Cond. No.                         2.43\n",
       "==============================================================================\n",
       "\n",
       "Warnings:\n",
       "[1] Standard Errors assume that the covariance matrix of the errors is correctly specified.\n",
       "\"\"\""
      ]
     },
     "execution_count": 181,
     "metadata": {},
     "output_type": "execute_result"
    }
   ],
   "source": [
    "#is this statistically significant? \n",
    "m = ols('Churn ~ OnlineSecurity',churndata).fit()\n",
    "m.summary()"
   ]
  },
  {
   "cell_type": "code",
   "execution_count": 182,
   "metadata": {},
   "outputs": [
    {
     "data": {
      "text/plain": [
       "0    5017\n",
       "1    2015\n",
       "Name: OnlineSecurity, dtype: int64"
      ]
     },
     "execution_count": 182,
     "metadata": {},
     "output_type": "execute_result"
    },
    {
     "data": {
      "image/png": "[encoded data removed]",
      "text/plain": [
       "<Figure size 432x288 with 1 Axes>"
      ]
     },
     "metadata": {
      "needs_background": "light"
     },
     "output_type": "display_data"
    }
   ],
   "source": [
    "sns.countplot(churndata['OnlineSecurity'])\n",
    "churndata['OnlineSecurity'].value_counts()"
   ]
  },
  {
   "cell_type": "markdown",
   "metadata": {},
   "source": [
    "#### OnlineBackup\n",
    "\n",
    "Customers who have online backup are less likely to churn"
   ]
  },
  {
   "cell_type": "code",
   "execution_count": 183,
   "metadata": {},
   "outputs": [
    {
     "data": {
      "text/html": [
       "<div>\n",
       "<style scoped>\n",
       "    .dataframe tbody tr th:only-of-type {\n",
       "        vertical-align: middle;\n",
       "    }\n",
       "\n",
       "    .dataframe tbody tr th {\n",
       "        vertical-align: top;\n",
       "    }\n",
       "\n",
       "    .dataframe thead th {\n",
       "        text-align: right;\n",
       "    }\n",
       "</style>\n",
       "<table border=\"1\" class=\"dataframe\">\n",
       "  <thead>\n",
       "    <tr style=\"text-align: right;\">\n",
       "      <th></th>\n",
       "      <th>Churn</th>\n",
       "    </tr>\n",
       "    <tr>\n",
       "      <th>OnlineBackup</th>\n",
       "      <th></th>\n",
       "    </tr>\n",
       "  </thead>\n",
       "  <tbody>\n",
       "    <tr>\n",
       "      <th>0</th>\n",
       "      <td>0.292164</td>\n",
       "    </tr>\n",
       "    <tr>\n",
       "      <th>1</th>\n",
       "      <td>0.215670</td>\n",
       "    </tr>\n",
       "  </tbody>\n",
       "</table>\n",
       "</div>"
      ],
      "text/plain": [
       "                 Churn\n",
       "OnlineBackup          \n",
       "0             0.292164\n",
       "1             0.215670"
      ]
     },
     "execution_count": 183,
     "metadata": {},
     "output_type": "execute_result"
    },
    {
     "data": {
      "image/png": "[encoded data removed]",
      "text/plain": [
       "<Figure size 432x288 with 1 Axes>"
      ]
     },
     "metadata": {
      "needs_background": "light"
     },
     "output_type": "display_data"
    }
   ],
   "source": [
    "churndata.groupby(['OnlineBackup'])[['Churn']].mean().plot(kind='bar').set_ylabel('Count')\n",
    "churndata.groupby(['OnlineBackup' ])[['Churn']].mean()"
   ]
  },
  {
   "cell_type": "code",
   "execution_count": 184,
   "metadata": {},
   "outputs": [
    {
     "data": {
      "text/html": [
       "<table class=\"simpletable\">\n",
       "<caption>OLS Regression Results</caption>\n",
       "<tr>\n",
       "  <th>Dep. Variable:</th>          <td>Churn</td>      <th>  R-squared:         </th> <td>   0.007</td>\n",
       "</tr>\n",
       "<tr>\n",
       "  <th>Model:</th>                   <td>OLS</td>       <th>  Adj. R-squared:    </th> <td>   0.007</td>\n",
       "</tr>\n",
       "<tr>\n",
       "  <th>Method:</th>             <td>Least Squares</td>  <th>  F-statistic:       </th> <td>   47.95</td>\n",
       "</tr>\n",
       "<tr>\n",
       "  <th>Date:</th>             <td>Sat, 06 Jul 2019</td> <th>  Prob (F-statistic):</th> <td>4.76e-12</td>\n",
       "</tr>\n",
       "<tr>\n",
       "  <th>Time:</th>                 <td>11:00:27</td>     <th>  Log-Likelihood:    </th> <td> -4208.9</td>\n",
       "</tr>\n",
       "<tr>\n",
       "  <th>No. Observations:</th>      <td>  7032</td>      <th>  AIC:               </th> <td>   8422.</td>\n",
       "</tr>\n",
       "<tr>\n",
       "  <th>Df Residuals:</th>          <td>  7030</td>      <th>  BIC:               </th> <td>   8435.</td>\n",
       "</tr>\n",
       "<tr>\n",
       "  <th>Df Model:</th>              <td>     1</td>      <th>                     </th>     <td> </td>   \n",
       "</tr>\n",
       "<tr>\n",
       "  <th>Covariance Type:</th>      <td>nonrobust</td>    <th>                     </th>     <td> </td>   \n",
       "</tr>\n",
       "</table>\n",
       "<table class=\"simpletable\">\n",
       "<tr>\n",
       "        <td></td>          <th>coef</th>     <th>std err</th>      <th>t</th>      <th>P>|t|</th>  <th>[0.025</th>    <th>0.975]</th>  \n",
       "</tr>\n",
       "<tr>\n",
       "  <th>Intercept</th>    <td>    0.2922</td> <td>    0.006</td> <td>   45.037</td> <td> 0.000</td> <td>    0.279</td> <td>    0.305</td>\n",
       "</tr>\n",
       "<tr>\n",
       "  <th>OnlineBackup</th> <td>   -0.0765</td> <td>    0.011</td> <td>   -6.925</td> <td> 0.000</td> <td>   -0.098</td> <td>   -0.055</td>\n",
       "</tr>\n",
       "</table>\n",
       "<table class=\"simpletable\">\n",
       "<tr>\n",
       "  <th>Omnibus:</th>       <td>1710.077</td> <th>  Durbin-Watson:     </th> <td>   2.010</td>\n",
       "</tr>\n",
       "<tr>\n",
       "  <th>Prob(Omnibus):</th>  <td> 0.000</td>  <th>  Jarque-Bera (JB):  </th> <td>1508.899</td>\n",
       "</tr>\n",
       "<tr>\n",
       "  <th>Skew:</th>           <td> 1.049</td>  <th>  Prob(JB):          </th> <td>    0.00</td>\n",
       "</tr>\n",
       "<tr>\n",
       "  <th>Kurtosis:</th>       <td> 2.134</td>  <th>  Cond. No.          </th> <td>    2.42</td>\n",
       "</tr>\n",
       "</table><br/><br/>Warnings:<br/>[1] Standard Errors assume that the covariance matrix of the errors is correctly specified."
      ],
      "text/plain": [
       "<class 'statsmodels.iolib.summary.Summary'>\n",
       "\"\"\"\n",
       "                            OLS Regression Results                            \n",
       "==============================================================================\n",
       "Dep. Variable:                  Churn   R-squared:                       0.007\n",
       "Model:                            OLS   Adj. R-squared:                  0.007\n",
       "Method:                 Least Squares   F-statistic:                     47.95\n",
       "Date:                Sat, 06 Jul 2019   Prob (F-statistic):           4.76e-12\n",
       "Time:                        11:00:27   Log-Likelihood:                -4208.9\n",
       "No. Observations:                7032   AIC:                             8422.\n",
       "Df Residuals:                    7030   BIC:                             8435.\n",
       "Df Model:                           1                                         \n",
       "Covariance Type:            nonrobust                                         \n",
       "================================================================================\n",
       "                   coef    std err          t      P>|t|      [0.025      0.975]\n",
       "--------------------------------------------------------------------------------\n",
       "Intercept        0.2922      0.006     45.037      0.000       0.279       0.305\n",
       "OnlineBackup    -0.0765      0.011     -6.925      0.000      -0.098      -0.055\n",
       "==============================================================================\n",
       "Omnibus:                     1710.077   Durbin-Watson:                   2.010\n",
       "Prob(Omnibus):                  0.000   Jarque-Bera (JB):             1508.899\n",
       "Skew:                           1.049   Prob(JB):                         0.00\n",
       "Kurtosis:                       2.134   Cond. No.                         2.42\n",
       "==============================================================================\n",
       "\n",
       "Warnings:\n",
       "[1] Standard Errors assume that the covariance matrix of the errors is correctly specified.\n",
       "\"\"\""
      ]
     },
     "execution_count": 184,
     "metadata": {},
     "output_type": "execute_result"
    }
   ],
   "source": [
    "#is this statistically significant? \n",
    "m = ols('Churn ~ OnlineBackup',churndata).fit()\n",
    "m.summary()"
   ]
  },
  {
   "cell_type": "code",
   "execution_count": 185,
   "metadata": {},
   "outputs": [
    {
     "data": {
      "text/plain": [
       "0    4607\n",
       "1    2425\n",
       "Name: OnlineBackup, dtype: int64"
      ]
     },
     "execution_count": 185,
     "metadata": {},
     "output_type": "execute_result"
    },
    {
     "data": {
      "image/png": "[encoded data removed]",
      "text/plain": [
       "<Figure size 432x288 with 1 Axes>"
      ]
     },
     "metadata": {
      "needs_background": "light"
     },
     "output_type": "display_data"
    }
   ],
   "source": [
    "sns.countplot(churndata['OnlineBackup'])\n",
    "churndata['OnlineBackup'].value_counts()\n"
   ]
  },
  {
   "cell_type": "markdown",
   "metadata": {},
   "source": [
    "#### Device Protection\n",
    "\n",
    "Customers who have device protection are less likely to churn. "
   ]
  },
  {
   "cell_type": "code",
   "execution_count": 186,
   "metadata": {},
   "outputs": [
    {
     "data": {
      "text/html": [
       "<div>\n",
       "<style scoped>\n",
       "    .dataframe tbody tr th:only-of-type {\n",
       "        vertical-align: middle;\n",
       "    }\n",
       "\n",
       "    .dataframe tbody tr th {\n",
       "        vertical-align: top;\n",
       "    }\n",
       "\n",
       "    .dataframe thead th {\n",
       "        text-align: right;\n",
       "    }\n",
       "</style>\n",
       "<table border=\"1\" class=\"dataframe\">\n",
       "  <thead>\n",
       "    <tr style=\"text-align: right;\">\n",
       "      <th></th>\n",
       "      <th>Churn</th>\n",
       "    </tr>\n",
       "    <tr>\n",
       "      <th>DeviceProtection</th>\n",
       "      <th></th>\n",
       "    </tr>\n",
       "  </thead>\n",
       "  <tbody>\n",
       "    <tr>\n",
       "      <th>0</th>\n",
       "      <td>0.286953</td>\n",
       "    </tr>\n",
       "    <tr>\n",
       "      <th>1</th>\n",
       "      <td>0.225393</td>\n",
       "    </tr>\n",
       "  </tbody>\n",
       "</table>\n",
       "</div>"
      ],
      "text/plain": [
       "                     Churn\n",
       "DeviceProtection          \n",
       "0                 0.286953\n",
       "1                 0.225393"
      ]
     },
     "execution_count": 186,
     "metadata": {},
     "output_type": "execute_result"
    },
    {
     "data": {
      "image/png": "[encoded data removed]",
      "text/plain": [
       "<Figure size 432x288 with 1 Axes>"
      ]
     },
     "metadata": {
      "needs_background": "light"
     },
     "output_type": "display_data"
    }
   ],
   "source": [
    "churndata.groupby(['DeviceProtection'])[['Churn']].mean().plot(kind='bar').set_ylabel('Count')\n",
    "churndata.groupby(['DeviceProtection'])[['Churn']].mean()"
   ]
  },
  {
   "cell_type": "code",
   "execution_count": 187,
   "metadata": {},
   "outputs": [
    {
     "data": {
      "text/html": [
       "<table class=\"simpletable\">\n",
       "<caption>OLS Regression Results</caption>\n",
       "<tr>\n",
       "  <th>Dep. Variable:</th>          <td>Churn</td>      <th>  R-squared:         </th> <td>   0.004</td>\n",
       "</tr>\n",
       "<tr>\n",
       "  <th>Model:</th>                   <td>OLS</td>       <th>  Adj. R-squared:    </th> <td>   0.004</td>\n",
       "</tr>\n",
       "<tr>\n",
       "  <th>Method:</th>             <td>Least Squares</td>  <th>  F-statistic:       </th> <td>   30.94</td>\n",
       "</tr>\n",
       "<tr>\n",
       "  <th>Date:</th>             <td>Sat, 06 Jul 2019</td> <th>  Prob (F-statistic):</th> <td>2.76e-08</td>\n",
       "</tr>\n",
       "<tr>\n",
       "  <th>Time:</th>                 <td>11:00:28</td>     <th>  Log-Likelihood:    </th> <td> -4217.3</td>\n",
       "</tr>\n",
       "<tr>\n",
       "  <th>No. Observations:</th>      <td>  7032</td>      <th>  AIC:               </th> <td>   8439.</td>\n",
       "</tr>\n",
       "<tr>\n",
       "  <th>Df Residuals:</th>          <td>  7030</td>      <th>  BIC:               </th> <td>   8452.</td>\n",
       "</tr>\n",
       "<tr>\n",
       "  <th>Df Model:</th>              <td>     1</td>      <th>                     </th>     <td> </td>   \n",
       "</tr>\n",
       "<tr>\n",
       "  <th>Covariance Type:</th>      <td>nonrobust</td>    <th>                     </th>     <td> </td>   \n",
       "</tr>\n",
       "</table>\n",
       "<table class=\"simpletable\">\n",
       "<tr>\n",
       "          <td></td>            <th>coef</th>     <th>std err</th>      <th>t</th>      <th>P>|t|</th>  <th>[0.025</th>    <th>0.975]</th>  \n",
       "</tr>\n",
       "<tr>\n",
       "  <th>Intercept</th>        <td>    0.2870</td> <td>    0.006</td> <td>   44.214</td> <td> 0.000</td> <td>    0.274</td> <td>    0.300</td>\n",
       "</tr>\n",
       "<tr>\n",
       "  <th>DeviceProtection</th> <td>   -0.0616</td> <td>    0.011</td> <td>   -5.562</td> <td> 0.000</td> <td>   -0.083</td> <td>   -0.040</td>\n",
       "</tr>\n",
       "</table>\n",
       "<table class=\"simpletable\">\n",
       "<tr>\n",
       "  <th>Omnibus:</th>       <td>1727.245</td> <th>  Durbin-Watson:     </th> <td>   2.008</td>\n",
       "</tr>\n",
       "<tr>\n",
       "  <th>Prob(Omnibus):</th>  <td> 0.000</td>  <th>  Jarque-Bera (JB):  </th> <td>1520.845</td>\n",
       "</tr>\n",
       "<tr>\n",
       "  <th>Skew:</th>           <td> 1.053</td>  <th>  Prob(JB):          </th> <td>    0.00</td>\n",
       "</tr>\n",
       "<tr>\n",
       "  <th>Kurtosis:</th>       <td> 2.131</td>  <th>  Cond. No.          </th> <td>    2.42</td>\n",
       "</tr>\n",
       "</table><br/><br/>Warnings:<br/>[1] Standard Errors assume that the covariance matrix of the errors is correctly specified."
      ],
      "text/plain": [
       "<class 'statsmodels.iolib.summary.Summary'>\n",
       "\"\"\"\n",
       "                            OLS Regression Results                            \n",
       "==============================================================================\n",
       "Dep. Variable:                  Churn   R-squared:                       0.004\n",
       "Model:                            OLS   Adj. R-squared:                  0.004\n",
       "Method:                 Least Squares   F-statistic:                     30.94\n",
       "Date:                Sat, 06 Jul 2019   Prob (F-statistic):           2.76e-08\n",
       "Time:                        11:00:28   Log-Likelihood:                -4217.3\n",
       "No. Observations:                7032   AIC:                             8439.\n",
       "Df Residuals:                    7030   BIC:                             8452.\n",
       "Df Model:                           1                                         \n",
       "Covariance Type:            nonrobust                                         \n",
       "====================================================================================\n",
       "                       coef    std err          t      P>|t|      [0.025      0.975]\n",
       "------------------------------------------------------------------------------------\n",
       "Intercept            0.2870      0.006     44.214      0.000       0.274       0.300\n",
       "DeviceProtection    -0.0616      0.011     -5.562      0.000      -0.083      -0.040\n",
       "==============================================================================\n",
       "Omnibus:                     1727.245   Durbin-Watson:                   2.008\n",
       "Prob(Omnibus):                  0.000   Jarque-Bera (JB):             1520.845\n",
       "Skew:                           1.053   Prob(JB):                         0.00\n",
       "Kurtosis:                       2.131   Cond. No.                         2.42\n",
       "==============================================================================\n",
       "\n",
       "Warnings:\n",
       "[1] Standard Errors assume that the covariance matrix of the errors is correctly specified.\n",
       "\"\"\""
      ]
     },
     "execution_count": 187,
     "metadata": {},
     "output_type": "execute_result"
    }
   ],
   "source": [
    "#is this statistically significant? \n",
    "m = ols('Churn ~ DeviceProtection',churndata).fit()\n",
    "m.summary()"
   ]
  },
  {
   "cell_type": "code",
   "execution_count": 188,
   "metadata": {},
   "outputs": [
    {
     "data": {
      "text/plain": [
       "0    4614\n",
       "1    2418\n",
       "Name: DeviceProtection, dtype: int64"
      ]
     },
     "execution_count": 188,
     "metadata": {},
     "output_type": "execute_result"
    },
    {
     "data": {
      "image/png": "[encoded data removed]",
      "text/plain": [
       "<Figure size 432x288 with 1 Axes>"
      ]
     },
     "metadata": {
      "needs_background": "light"
     },
     "output_type": "display_data"
    }
   ],
   "source": [
    "sns.countplot(churndata['DeviceProtection'])\n",
    "churndata['DeviceProtection'].value_counts()"
   ]
  },
  {
   "cell_type": "markdown",
   "metadata": {},
   "source": [
    "#### TechSupport\n",
    "\n",
    "Customers who have tech support are less likely to churn"
   ]
  },
  {
   "cell_type": "code",
   "execution_count": 189,
   "metadata": {},
   "outputs": [
    {
     "data": {
      "text/html": [
       "<div>\n",
       "<style scoped>\n",
       "    .dataframe tbody tr th:only-of-type {\n",
       "        vertical-align: middle;\n",
       "    }\n",
       "\n",
       "    .dataframe tbody tr th {\n",
       "        vertical-align: top;\n",
       "    }\n",
       "\n",
       "    .dataframe thead th {\n",
       "        text-align: right;\n",
       "    }\n",
       "</style>\n",
       "<table border=\"1\" class=\"dataframe\">\n",
       "  <thead>\n",
       "    <tr style=\"text-align: right;\">\n",
       "      <th></th>\n",
       "      <th>Churn</th>\n",
       "    </tr>\n",
       "    <tr>\n",
       "      <th>TechSupport</th>\n",
       "      <th></th>\n",
       "    </tr>\n",
       "  </thead>\n",
       "  <tbody>\n",
       "    <tr>\n",
       "      <th>0</th>\n",
       "      <td>0.312300</td>\n",
       "    </tr>\n",
       "    <tr>\n",
       "      <th>1</th>\n",
       "      <td>0.151961</td>\n",
       "    </tr>\n",
       "  </tbody>\n",
       "</table>\n",
       "</div>"
      ],
      "text/plain": [
       "                Churn\n",
       "TechSupport          \n",
       "0            0.312300\n",
       "1            0.151961"
      ]
     },
     "execution_count": 189,
     "metadata": {},
     "output_type": "execute_result"
    },
    {
     "data": {
      "image/png": "[encoded data removed]",
      "text/plain": [
       "<Figure size 432x288 with 1 Axes>"
      ]
     },
     "metadata": {
      "needs_background": "light"
     },
     "output_type": "display_data"
    }
   ],
   "source": [
    "churndata.groupby(['TechSupport'])[['Churn']].mean().plot(kind='bar').set_ylabel('Count')\n",
    "churndata.groupby(['TechSupport' ])[['Churn']].mean()"
   ]
  },
  {
   "cell_type": "code",
   "execution_count": 190,
   "metadata": {},
   "outputs": [
    {
     "data": {
      "text/html": [
       "<table class=\"simpletable\">\n",
       "<caption>OLS Regression Results</caption>\n",
       "<tr>\n",
       "  <th>Dep. Variable:</th>          <td>Churn</td>      <th>  R-squared:         </th> <td>   0.027</td>\n",
       "</tr>\n",
       "<tr>\n",
       "  <th>Model:</th>                   <td>OLS</td>       <th>  Adj. R-squared:    </th> <td>   0.027</td>\n",
       "</tr>\n",
       "<tr>\n",
       "  <th>Method:</th>             <td>Least Squares</td>  <th>  F-statistic:       </th> <td>   196.1</td>\n",
       "</tr>\n",
       "<tr>\n",
       "  <th>Date:</th>             <td>Sat, 06 Jul 2019</td> <th>  Prob (F-statistic):</th> <td>5.89e-44</td>\n",
       "</tr>\n",
       "<tr>\n",
       "  <th>Time:</th>                 <td>11:00:28</td>     <th>  Log-Likelihood:    </th> <td> -4136.0</td>\n",
       "</tr>\n",
       "<tr>\n",
       "  <th>No. Observations:</th>      <td>  7032</td>      <th>  AIC:               </th> <td>   8276.</td>\n",
       "</tr>\n",
       "<tr>\n",
       "  <th>Df Residuals:</th>          <td>  7030</td>      <th>  BIC:               </th> <td>   8290.</td>\n",
       "</tr>\n",
       "<tr>\n",
       "  <th>Df Model:</th>              <td>     1</td>      <th>                     </th>     <td> </td>   \n",
       "</tr>\n",
       "<tr>\n",
       "  <th>Covariance Type:</th>      <td>nonrobust</td>    <th>                     </th>     <td> </td>   \n",
       "</tr>\n",
       "</table>\n",
       "<table class=\"simpletable\">\n",
       "<tr>\n",
       "       <td></td>          <th>coef</th>     <th>std err</th>      <th>t</th>      <th>P>|t|</th>  <th>[0.025</th>    <th>0.975]</th>  \n",
       "</tr>\n",
       "<tr>\n",
       "  <th>Intercept</th>   <td>    0.3123</td> <td>    0.006</td> <td>   50.634</td> <td> 0.000</td> <td>    0.300</td> <td>    0.324</td>\n",
       "</tr>\n",
       "<tr>\n",
       "  <th>TechSupport</th> <td>   -0.1603</td> <td>    0.011</td> <td>  -14.002</td> <td> 0.000</td> <td>   -0.183</td> <td>   -0.138</td>\n",
       "</tr>\n",
       "</table>\n",
       "<table class=\"simpletable\">\n",
       "<tr>\n",
       "  <th>Omnibus:</th>       <td>1629.751</td> <th>  Durbin-Watson:     </th> <td>   2.008</td> \n",
       "</tr>\n",
       "<tr>\n",
       "  <th>Prob(Omnibus):</th>  <td> 0.000</td>  <th>  Jarque-Bera (JB):  </th> <td>1403.553</td> \n",
       "</tr>\n",
       "<tr>\n",
       "  <th>Skew:</th>           <td> 1.007</td>  <th>  Prob(JB):          </th> <td>1.67e-305</td>\n",
       "</tr>\n",
       "<tr>\n",
       "  <th>Kurtosis:</th>       <td> 2.141</td>  <th>  Cond. No.          </th> <td>    2.43</td> \n",
       "</tr>\n",
       "</table><br/><br/>Warnings:<br/>[1] Standard Errors assume that the covariance matrix of the errors is correctly specified."
      ],
      "text/plain": [
       "<class 'statsmodels.iolib.summary.Summary'>\n",
       "\"\"\"\n",
       "                            OLS Regression Results                            \n",
       "==============================================================================\n",
       "Dep. Variable:                  Churn   R-squared:                       0.027\n",
       "Model:                            OLS   Adj. R-squared:                  0.027\n",
       "Method:                 Least Squares   F-statistic:                     196.1\n",
       "Date:                Sat, 06 Jul 2019   Prob (F-statistic):           5.89e-44\n",
       "Time:                        11:00:28   Log-Likelihood:                -4136.0\n",
       "No. Observations:                7032   AIC:                             8276.\n",
       "Df Residuals:                    7030   BIC:                             8290.\n",
       "Df Model:                           1                                         \n",
       "Covariance Type:            nonrobust                                         \n",
       "===============================================================================\n",
       "                  coef    std err          t      P>|t|      [0.025      0.975]\n",
       "-------------------------------------------------------------------------------\n",
       "Intercept       0.3123      0.006     50.634      0.000       0.300       0.324\n",
       "TechSupport    -0.1603      0.011    -14.002      0.000      -0.183      -0.138\n",
       "==============================================================================\n",
       "Omnibus:                     1629.751   Durbin-Watson:                   2.008\n",
       "Prob(Omnibus):                  0.000   Jarque-Bera (JB):             1403.553\n",
       "Skew:                           1.007   Prob(JB):                    1.67e-305\n",
       "Kurtosis:                       2.141   Cond. No.                         2.43\n",
       "==============================================================================\n",
       "\n",
       "Warnings:\n",
       "[1] Standard Errors assume that the covariance matrix of the errors is correctly specified.\n",
       "\"\"\""
      ]
     },
     "execution_count": 190,
     "metadata": {},
     "output_type": "execute_result"
    }
   ],
   "source": [
    "#is this statistically significant? \n",
    "m = ols('Churn ~ TechSupport',churndata).fit()\n",
    "m.summary()"
   ]
  },
  {
   "cell_type": "code",
   "execution_count": 191,
   "metadata": {},
   "outputs": [
    {
     "data": {
      "text/plain": [
       "0    4992\n",
       "1    2040\n",
       "Name: TechSupport, dtype: int64"
      ]
     },
     "execution_count": 191,
     "metadata": {},
     "output_type": "execute_result"
    },
    {
     "data": {
      "image/png": "[encoded data removed]",
      "text/plain": [
       "<Figure size 432x288 with 1 Axes>"
      ]
     },
     "metadata": {
      "needs_background": "light"
     },
     "output_type": "display_data"
    }
   ],
   "source": [
    "sns.countplot(churndata['TechSupport'])\n",
    "churndata['TechSupport'].value_counts()"
   ]
  },
  {
   "cell_type": "markdown",
   "metadata": {},
   "source": [
    "#### StreamingTV\n",
    "\n",
    "Customers who have Steaming TV are more likely to churn"
   ]
  },
  {
   "cell_type": "code",
   "execution_count": 192,
   "metadata": {},
   "outputs": [
    {
     "data": {
      "text/html": [
       "<div>\n",
       "<style scoped>\n",
       "    .dataframe tbody tr th:only-of-type {\n",
       "        vertical-align: middle;\n",
       "    }\n",
       "\n",
       "    .dataframe tbody tr th {\n",
       "        vertical-align: top;\n",
       "    }\n",
       "\n",
       "    .dataframe thead th {\n",
       "        text-align: right;\n",
       "    }\n",
       "</style>\n",
       "<table border=\"1\" class=\"dataframe\">\n",
       "  <thead>\n",
       "    <tr style=\"text-align: right;\">\n",
       "      <th></th>\n",
       "      <th>Churn</th>\n",
       "    </tr>\n",
       "    <tr>\n",
       "      <th>StreamingTV</th>\n",
       "      <th></th>\n",
       "    </tr>\n",
       "  </thead>\n",
       "  <tbody>\n",
       "    <tr>\n",
       "      <th>0</th>\n",
       "      <td>0.243705</td>\n",
       "    </tr>\n",
       "    <tr>\n",
       "      <th>1</th>\n",
       "      <td>0.301147</td>\n",
       "    </tr>\n",
       "  </tbody>\n",
       "</table>\n",
       "</div>"
      ],
      "text/plain": [
       "                Churn\n",
       "StreamingTV          \n",
       "0            0.243705\n",
       "1            0.301147"
      ]
     },
     "execution_count": 192,
     "metadata": {},
     "output_type": "execute_result"
    },
    {
     "data": {
      "image/png": "[encoded data removed]",
      "text/plain": [
       "<Figure size 432x288 with 1 Axes>"
      ]
     },
     "metadata": {
      "needs_background": "light"
     },
     "output_type": "display_data"
    }
   ],
   "source": [
    "churndata.groupby(['StreamingTV'])[['Churn']].mean().plot(kind='bar').set_ylabel('Count')\n",
    "churndata.groupby(['StreamingTV' ])[['Churn']].mean()"
   ]
  },
  {
   "cell_type": "code",
   "execution_count": 193,
   "metadata": {},
   "outputs": [
    {
     "data": {
      "text/html": [
       "<table class=\"simpletable\">\n",
       "<caption>OLS Regression Results</caption>\n",
       "<tr>\n",
       "  <th>Dep. Variable:</th>          <td>Churn</td>      <th>  R-squared:         </th> <td>   0.004</td>\n",
       "</tr>\n",
       "<tr>\n",
       "  <th>Model:</th>                   <td>OLS</td>       <th>  Adj. R-squared:    </th> <td>   0.004</td>\n",
       "</tr>\n",
       "<tr>\n",
       "  <th>Method:</th>             <td>Least Squares</td>  <th>  F-statistic:       </th> <td>   28.24</td>\n",
       "</tr>\n",
       "<tr>\n",
       "  <th>Date:</th>             <td>Sat, 06 Jul 2019</td> <th>  Prob (F-statistic):</th> <td>1.10e-07</td>\n",
       "</tr>\n",
       "<tr>\n",
       "  <th>Time:</th>                 <td>11:00:29</td>     <th>  Log-Likelihood:    </th> <td> -4218.7</td>\n",
       "</tr>\n",
       "<tr>\n",
       "  <th>No. Observations:</th>      <td>  7032</td>      <th>  AIC:               </th> <td>   8441.</td>\n",
       "</tr>\n",
       "<tr>\n",
       "  <th>Df Residuals:</th>          <td>  7030</td>      <th>  BIC:               </th> <td>   8455.</td>\n",
       "</tr>\n",
       "<tr>\n",
       "  <th>Df Model:</th>              <td>     1</td>      <th>                     </th>     <td> </td>   \n",
       "</tr>\n",
       "<tr>\n",
       "  <th>Covariance Type:</th>      <td>nonrobust</td>    <th>                     </th>     <td> </td>   \n",
       "</tr>\n",
       "</table>\n",
       "<table class=\"simpletable\">\n",
       "<tr>\n",
       "       <td></td>          <th>coef</th>     <th>std err</th>      <th>t</th>      <th>P>|t|</th>  <th>[0.025</th>    <th>0.975]</th>  \n",
       "</tr>\n",
       "<tr>\n",
       "  <th>Intercept</th>   <td>    0.2437</td> <td>    0.007</td> <td>   36.366</td> <td> 0.000</td> <td>    0.231</td> <td>    0.257</td>\n",
       "</tr>\n",
       "<tr>\n",
       "  <th>StreamingTV</th> <td>    0.0574</td> <td>    0.011</td> <td>    5.314</td> <td> 0.000</td> <td>    0.036</td> <td>    0.079</td>\n",
       "</tr>\n",
       "</table>\n",
       "<table class=\"simpletable\">\n",
       "<tr>\n",
       "  <th>Omnibus:</th>       <td>1723.447</td> <th>  Durbin-Watson:     </th> <td>   2.012</td>\n",
       "</tr>\n",
       "<tr>\n",
       "  <th>Prob(Omnibus):</th>  <td> 0.000</td>  <th>  Jarque-Bera (JB):  </th> <td>1523.221</td>\n",
       "</tr>\n",
       "<tr>\n",
       "  <th>Skew:</th>           <td> 1.054</td>  <th>  Prob(JB):          </th> <td>    0.00</td>\n",
       "</tr>\n",
       "<tr>\n",
       "  <th>Kurtosis:</th>       <td> 2.132</td>  <th>  Cond. No.          </th> <td>    2.44</td>\n",
       "</tr>\n",
       "</table><br/><br/>Warnings:<br/>[1] Standard Errors assume that the covariance matrix of the errors is correctly specified."
      ],
      "text/plain": [
       "<class 'statsmodels.iolib.summary.Summary'>\n",
       "\"\"\"\n",
       "                            OLS Regression Results                            \n",
       "==============================================================================\n",
       "Dep. Variable:                  Churn   R-squared:                       0.004\n",
       "Model:                            OLS   Adj. R-squared:                  0.004\n",
       "Method:                 Least Squares   F-statistic:                     28.24\n",
       "Date:                Sat, 06 Jul 2019   Prob (F-statistic):           1.10e-07\n",
       "Time:                        11:00:29   Log-Likelihood:                -4218.7\n",
       "No. Observations:                7032   AIC:                             8441.\n",
       "Df Residuals:                    7030   BIC:                             8455.\n",
       "Df Model:                           1                                         \n",
       "Covariance Type:            nonrobust                                         \n",
       "===============================================================================\n",
       "                  coef    std err          t      P>|t|      [0.025      0.975]\n",
       "-------------------------------------------------------------------------------\n",
       "Intercept       0.2437      0.007     36.366      0.000       0.231       0.257\n",
       "StreamingTV     0.0574      0.011      5.314      0.000       0.036       0.079\n",
       "==============================================================================\n",
       "Omnibus:                     1723.447   Durbin-Watson:                   2.012\n",
       "Prob(Omnibus):                  0.000   Jarque-Bera (JB):             1523.221\n",
       "Skew:                           1.054   Prob(JB):                         0.00\n",
       "Kurtosis:                       2.132   Cond. No.                         2.44\n",
       "==============================================================================\n",
       "\n",
       "Warnings:\n",
       "[1] Standard Errors assume that the covariance matrix of the errors is correctly specified.\n",
       "\"\"\""
      ]
     },
     "execution_count": 193,
     "metadata": {},
     "output_type": "execute_result"
    }
   ],
   "source": [
    "#is this statistically significant? \n",
    "m = ols('Churn ~ StreamingTV',churndata).fit()\n",
    "m.summary()"
   ]
  },
  {
   "cell_type": "code",
   "execution_count": 194,
   "metadata": {},
   "outputs": [
    {
     "data": {
      "text/plain": [
       "0    4329\n",
       "1    2703\n",
       "Name: StreamingTV, dtype: int64"
      ]
     },
     "execution_count": 194,
     "metadata": {},
     "output_type": "execute_result"
    },
    {
     "data": {
      "image/png": "[encoded data removed]",
      "text/plain": [
       "<Figure size 432x288 with 1 Axes>"
      ]
     },
     "metadata": {
      "needs_background": "light"
     },
     "output_type": "display_data"
    }
   ],
   "source": [
    "sns.countplot(churndata['StreamingTV'])\n",
    "churndata['StreamingTV'].value_counts()"
   ]
  },
  {
   "cell_type": "markdown",
   "metadata": {},
   "source": [
    "#### StreamingMovies\n",
    "\n",
    "Customers who have streaming movies are more likley to churn"
   ]
  },
  {
   "cell_type": "code",
   "execution_count": 195,
   "metadata": {},
   "outputs": [
    {
     "data": {
      "text/html": [
       "<div>\n",
       "<style scoped>\n",
       "    .dataframe tbody tr th:only-of-type {\n",
       "        vertical-align: middle;\n",
       "    }\n",
       "\n",
       "    .dataframe tbody tr th {\n",
       "        vertical-align: top;\n",
       "    }\n",
       "\n",
       "    .dataframe thead th {\n",
       "        text-align: right;\n",
       "    }\n",
       "</style>\n",
       "<table border=\"1\" class=\"dataframe\">\n",
       "  <thead>\n",
       "    <tr style=\"text-align: right;\">\n",
       "      <th></th>\n",
       "      <th>Churn</th>\n",
       "    </tr>\n",
       "    <tr>\n",
       "      <th>StreamingMovies</th>\n",
       "      <th></th>\n",
       "    </tr>\n",
       "  </thead>\n",
       "  <tbody>\n",
       "    <tr>\n",
       "      <th>0</th>\n",
       "      <td>0.244362</td>\n",
       "    </tr>\n",
       "    <tr>\n",
       "      <th>1</th>\n",
       "      <td>0.299524</td>\n",
       "    </tr>\n",
       "  </tbody>\n",
       "</table>\n",
       "</div>"
      ],
      "text/plain": [
       "                    Churn\n",
       "StreamingMovies          \n",
       "0                0.244362\n",
       "1                0.299524"
      ]
     },
     "execution_count": 195,
     "metadata": {},
     "output_type": "execute_result"
    },
    {
     "data": {
      "image/png": "[encoded data removed]",
      "text/plain": [
       "<Figure size 432x288 with 1 Axes>"
      ]
     },
     "metadata": {
      "needs_background": "light"
     },
     "output_type": "display_data"
    }
   ],
   "source": [
    "churndata.groupby(['StreamingMovies'])[['Churn']].mean().plot(kind='bar').set_ylabel('Count')\n",
    "churndata.groupby(['StreamingMovies' ])[['Churn']].mean()"
   ]
  },
  {
   "cell_type": "code",
   "execution_count": 196,
   "metadata": {},
   "outputs": [
    {
     "data": {
      "text/html": [
       "<table class=\"simpletable\">\n",
       "<caption>OLS Regression Results</caption>\n",
       "<tr>\n",
       "  <th>Dep. Variable:</th>          <td>Churn</td>      <th>  R-squared:         </th> <td>   0.004</td>\n",
       "</tr>\n",
       "<tr>\n",
       "  <th>Model:</th>                   <td>OLS</td>       <th>  Adj. R-squared:    </th> <td>   0.004</td>\n",
       "</tr>\n",
       "<tr>\n",
       "  <th>Method:</th>             <td>Least Squares</td>  <th>  F-statistic:       </th> <td>   26.14</td>\n",
       "</tr>\n",
       "<tr>\n",
       "  <th>Date:</th>             <td>Sat, 06 Jul 2019</td> <th>  Prob (F-statistic):</th> <td>3.27e-07</td>\n",
       "</tr>\n",
       "<tr>\n",
       "  <th>Time:</th>                 <td>11:00:30</td>     <th>  Log-Likelihood:    </th> <td> -4219.7</td>\n",
       "</tr>\n",
       "<tr>\n",
       "  <th>No. Observations:</th>      <td>  7032</td>      <th>  AIC:               </th> <td>   8443.</td>\n",
       "</tr>\n",
       "<tr>\n",
       "  <th>Df Residuals:</th>          <td>  7030</td>      <th>  BIC:               </th> <td>   8457.</td>\n",
       "</tr>\n",
       "<tr>\n",
       "  <th>Df Model:</th>              <td>     1</td>      <th>                     </th>     <td> </td>   \n",
       "</tr>\n",
       "<tr>\n",
       "  <th>Covariance Type:</th>      <td>nonrobust</td>    <th>                     </th>     <td> </td>   \n",
       "</tr>\n",
       "</table>\n",
       "<table class=\"simpletable\">\n",
       "<tr>\n",
       "         <td></td>            <th>coef</th>     <th>std err</th>      <th>t</th>      <th>P>|t|</th>  <th>[0.025</th>    <th>0.975]</th>  \n",
       "</tr>\n",
       "<tr>\n",
       "  <th>Intercept</th>       <td>    0.2444</td> <td>    0.007</td> <td>   36.340</td> <td> 0.000</td> <td>    0.231</td> <td>    0.258</td>\n",
       "</tr>\n",
       "<tr>\n",
       "  <th>StreamingMovies</th> <td>    0.0552</td> <td>    0.011</td> <td>    5.112</td> <td> 0.000</td> <td>    0.034</td> <td>    0.076</td>\n",
       "</tr>\n",
       "</table>\n",
       "<table class=\"simpletable\">\n",
       "<tr>\n",
       "  <th>Omnibus:</th>       <td>1726.484</td> <th>  Durbin-Watson:     </th> <td>   2.013</td>\n",
       "</tr>\n",
       "<tr>\n",
       "  <th>Prob(Omnibus):</th>  <td> 0.000</td>  <th>  Jarque-Bera (JB):  </th> <td>1524.637</td>\n",
       "</tr>\n",
       "<tr>\n",
       "  <th>Skew:</th>           <td> 1.055</td>  <th>  Prob(JB):          </th> <td>    0.00</td>\n",
       "</tr>\n",
       "<tr>\n",
       "  <th>Kurtosis:</th>       <td> 2.132</td>  <th>  Cond. No.          </th> <td>    2.44</td>\n",
       "</tr>\n",
       "</table><br/><br/>Warnings:<br/>[1] Standard Errors assume that the covariance matrix of the errors is correctly specified."
      ],
      "text/plain": [
       "<class 'statsmodels.iolib.summary.Summary'>\n",
       "\"\"\"\n",
       "                            OLS Regression Results                            \n",
       "==============================================================================\n",
       "Dep. Variable:                  Churn   R-squared:                       0.004\n",
       "Model:                            OLS   Adj. R-squared:                  0.004\n",
       "Method:                 Least Squares   F-statistic:                     26.14\n",
       "Date:                Sat, 06 Jul 2019   Prob (F-statistic):           3.27e-07\n",
       "Time:                        11:00:30   Log-Likelihood:                -4219.7\n",
       "No. Observations:                7032   AIC:                             8443.\n",
       "Df Residuals:                    7030   BIC:                             8457.\n",
       "Df Model:                           1                                         \n",
       "Covariance Type:            nonrobust                                         \n",
       "===================================================================================\n",
       "                      coef    std err          t      P>|t|      [0.025      0.975]\n",
       "-----------------------------------------------------------------------------------\n",
       "Intercept           0.2444      0.007     36.340      0.000       0.231       0.258\n",
       "StreamingMovies     0.0552      0.011      5.112      0.000       0.034       0.076\n",
       "==============================================================================\n",
       "Omnibus:                     1726.484   Durbin-Watson:                   2.013\n",
       "Prob(Omnibus):                  0.000   Jarque-Bera (JB):             1524.637\n",
       "Skew:                           1.055   Prob(JB):                         0.00\n",
       "Kurtosis:                       2.132   Cond. No.                         2.44\n",
       "==============================================================================\n",
       "\n",
       "Warnings:\n",
       "[1] Standard Errors assume that the covariance matrix of the errors is correctly specified.\n",
       "\"\"\""
      ]
     },
     "execution_count": 196,
     "metadata": {},
     "output_type": "execute_result"
    }
   ],
   "source": [
    "#is this statistically significant? \n",
    "m = ols('Churn ~ StreamingMovies',churndata).fit()\n",
    "m.summary()"
   ]
  },
  {
   "cell_type": "code",
   "execution_count": 197,
   "metadata": {},
   "outputs": [
    {
     "data": {
      "text/plain": [
       "0    4301\n",
       "1    2731\n",
       "Name: StreamingMovies, dtype: int64"
      ]
     },
     "execution_count": 197,
     "metadata": {},
     "output_type": "execute_result"
    },
    {
     "data": {
      "image/png": "[encoded data removed]",
      "text/plain": [
       "<Figure size 432x288 with 1 Axes>"
      ]
     },
     "metadata": {
      "needs_background": "light"
     },
     "output_type": "display_data"
    }
   ],
   "source": [
    "sns.countplot(churndata['StreamingMovies'])\n",
    "churndata['StreamingMovies'].value_counts()"
   ]
  },
  {
   "cell_type": "markdown",
   "metadata": {},
   "source": [
    "#### Contract\n",
    "\n",
    "Customers who are on month-to-month compared to 1/2 year contracts are more likely to churn"
   ]
  },
  {
   "cell_type": "code",
   "execution_count": 198,
   "metadata": {},
   "outputs": [
    {
     "data": {
      "text/html": [
       "<div>\n",
       "<style scoped>\n",
       "    .dataframe tbody tr th:only-of-type {\n",
       "        vertical-align: middle;\n",
       "    }\n",
       "\n",
       "    .dataframe tbody tr th {\n",
       "        vertical-align: top;\n",
       "    }\n",
       "\n",
       "    .dataframe thead th {\n",
       "        text-align: right;\n",
       "    }\n",
       "</style>\n",
       "<table border=\"1\" class=\"dataframe\">\n",
       "  <thead>\n",
       "    <tr style=\"text-align: right;\">\n",
       "      <th></th>\n",
       "      <th>Churn</th>\n",
       "    </tr>\n",
       "    <tr>\n",
       "      <th>Contract</th>\n",
       "      <th></th>\n",
       "    </tr>\n",
       "  </thead>\n",
       "  <tbody>\n",
       "    <tr>\n",
       "      <th>Month-to-month</th>\n",
       "      <td>0.427097</td>\n",
       "    </tr>\n",
       "    <tr>\n",
       "      <th>One year</th>\n",
       "      <td>0.112772</td>\n",
       "    </tr>\n",
       "    <tr>\n",
       "      <th>Two year</th>\n",
       "      <td>0.028487</td>\n",
       "    </tr>\n",
       "  </tbody>\n",
       "</table>\n",
       "</div>"
      ],
      "text/plain": [
       "                   Churn\n",
       "Contract                \n",
       "Month-to-month  0.427097\n",
       "One year        0.112772\n",
       "Two year        0.028487"
      ]
     },
     "execution_count": 198,
     "metadata": {},
     "output_type": "execute_result"
    },
    {
     "data": {
      "image/png": "[encoded data removed]",
      "text/plain": [
       "<Figure size 432x288 with 1 Axes>"
      ]
     },
     "metadata": {
      "needs_background": "light"
     },
     "output_type": "display_data"
    }
   ],
   "source": [
    "churndata.groupby(['Contract'])[['Churn']].mean().plot(kind='bar').set_ylabel('Count')\n",
    "churndata.groupby(['Contract'])[['Churn']].mean()"
   ]
  },
  {
   "cell_type": "code",
   "execution_count": 199,
   "metadata": {},
   "outputs": [
    {
     "data": {
      "text/html": [
       "<table class=\"simpletable\">\n",
       "<caption>OLS Regression Results</caption>\n",
       "<tr>\n",
       "  <th>Dep. Variable:</th>          <td>Churn</td>      <th>  R-squared:         </th> <td>   0.168</td> \n",
       "</tr>\n",
       "<tr>\n",
       "  <th>Model:</th>                   <td>OLS</td>       <th>  Adj. R-squared:    </th> <td>   0.168</td> \n",
       "</tr>\n",
       "<tr>\n",
       "  <th>Method:</th>             <td>Least Squares</td>  <th>  F-statistic:       </th> <td>   708.3</td> \n",
       "</tr>\n",
       "<tr>\n",
       "  <th>Date:</th>             <td>Sat, 06 Jul 2019</td> <th>  Prob (F-statistic):</th> <td>5.63e-281</td>\n",
       "</tr>\n",
       "<tr>\n",
       "  <th>Time:</th>                 <td>11:00:31</td>     <th>  Log-Likelihood:    </th> <td> -3587.2</td> \n",
       "</tr>\n",
       "<tr>\n",
       "  <th>No. Observations:</th>      <td>  7032</td>      <th>  AIC:               </th> <td>   7180.</td> \n",
       "</tr>\n",
       "<tr>\n",
       "  <th>Df Residuals:</th>          <td>  7029</td>      <th>  BIC:               </th> <td>   7201.</td> \n",
       "</tr>\n",
       "<tr>\n",
       "  <th>Df Model:</th>              <td>     2</td>      <th>                     </th>     <td> </td>    \n",
       "</tr>\n",
       "<tr>\n",
       "  <th>Covariance Type:</th>      <td>nonrobust</td>    <th>                     </th>     <td> </td>    \n",
       "</tr>\n",
       "</table>\n",
       "<table class=\"simpletable\">\n",
       "<tr>\n",
       "            <td></td>              <th>coef</th>     <th>std err</th>      <th>t</th>      <th>P>|t|</th>  <th>[0.025</th>    <th>0.975]</th>  \n",
       "</tr>\n",
       "<tr>\n",
       "  <th>Intercept</th>            <td>    0.4271</td> <td>    0.006</td> <td>   65.957</td> <td> 0.000</td> <td>    0.414</td> <td>    0.440</td>\n",
       "</tr>\n",
       "<tr>\n",
       "  <th>Contract[T.One year]</th> <td>   -0.3143</td> <td>    0.012</td> <td>  -25.469</td> <td> 0.000</td> <td>   -0.339</td> <td>   -0.290</td>\n",
       "</tr>\n",
       "<tr>\n",
       "  <th>Contract[T.Two year]</th> <td>   -0.3986</td> <td>    0.012</td> <td>  -33.888</td> <td> 0.000</td> <td>   -0.422</td> <td>   -0.376</td>\n",
       "</tr>\n",
       "</table>\n",
       "<table class=\"simpletable\">\n",
       "<tr>\n",
       "  <th>Omnibus:</th>       <td>1179.599</td> <th>  Durbin-Watson:     </th> <td>   2.014</td> \n",
       "</tr>\n",
       "<tr>\n",
       "  <th>Prob(Omnibus):</th>  <td> 0.000</td>  <th>  Jarque-Bera (JB):  </th> <td> 699.524</td> \n",
       "</tr>\n",
       "<tr>\n",
       "  <th>Skew:</th>           <td> 0.644</td>  <th>  Prob(JB):          </th> <td>1.26e-152</td>\n",
       "</tr>\n",
       "<tr>\n",
       "  <th>Kurtosis:</th>       <td> 2.146</td>  <th>  Cond. No.          </th> <td>    3.17</td> \n",
       "</tr>\n",
       "</table><br/><br/>Warnings:<br/>[1] Standard Errors assume that the covariance matrix of the errors is correctly specified."
      ],
      "text/plain": [
       "<class 'statsmodels.iolib.summary.Summary'>\n",
       "\"\"\"\n",
       "                            OLS Regression Results                            \n",
       "==============================================================================\n",
       "Dep. Variable:                  Churn   R-squared:                       0.168\n",
       "Model:                            OLS   Adj. R-squared:                  0.168\n",
       "Method:                 Least Squares   F-statistic:                     708.3\n",
       "Date:                Sat, 06 Jul 2019   Prob (F-statistic):          5.63e-281\n",
       "Time:                        11:00:31   Log-Likelihood:                -3587.2\n",
       "No. Observations:                7032   AIC:                             7180.\n",
       "Df Residuals:                    7029   BIC:                             7201.\n",
       "Df Model:                           2                                         \n",
       "Covariance Type:            nonrobust                                         \n",
       "========================================================================================\n",
       "                           coef    std err          t      P>|t|      [0.025      0.975]\n",
       "----------------------------------------------------------------------------------------\n",
       "Intercept                0.4271      0.006     65.957      0.000       0.414       0.440\n",
       "Contract[T.One year]    -0.3143      0.012    -25.469      0.000      -0.339      -0.290\n",
       "Contract[T.Two year]    -0.3986      0.012    -33.888      0.000      -0.422      -0.376\n",
       "==============================================================================\n",
       "Omnibus:                     1179.599   Durbin-Watson:                   2.014\n",
       "Prob(Omnibus):                  0.000   Jarque-Bera (JB):              699.524\n",
       "Skew:                           0.644   Prob(JB):                    1.26e-152\n",
       "Kurtosis:                       2.146   Cond. No.                         3.17\n",
       "==============================================================================\n",
       "\n",
       "Warnings:\n",
       "[1] Standard Errors assume that the covariance matrix of the errors is correctly specified.\n",
       "\"\"\""
      ]
     },
     "execution_count": 199,
     "metadata": {},
     "output_type": "execute_result"
    }
   ],
   "source": [
    "#is this statistically significant? \n",
    "m = ols('Churn ~ Contract',churndata).fit()\n",
    "m.summary()"
   ]
  },
  {
   "cell_type": "code",
   "execution_count": 200,
   "metadata": {},
   "outputs": [
    {
     "data": {
      "text/plain": [
       "Month-to-month    3875\n",
       "Two year          1685\n",
       "One year          1472\n",
       "Name: Contract, dtype: int64"
      ]
     },
     "execution_count": 200,
     "metadata": {},
     "output_type": "execute_result"
    },
    {
     "data": {
      "image/png": "[encoded data removed]",
      "text/plain": [
       "<Figure size 432x288 with 1 Axes>"
      ]
     },
     "metadata": {
      "needs_background": "light"
     },
     "output_type": "display_data"
    }
   ],
   "source": [
    "sns.countplot(churndata['Contract'])\n",
    "churndata['Contract'].value_counts()"
   ]
  },
  {
   "cell_type": "markdown",
   "metadata": {},
   "source": [
    "#### PaperlessBilling\n",
    "\n",
    "Customers with Paperless Billing have higher likelihood to churn"
   ]
  },
  {
   "cell_type": "code",
   "execution_count": 201,
   "metadata": {},
   "outputs": [
    {
     "data": {
      "text/html": [
       "<div>\n",
       "<style scoped>\n",
       "    .dataframe tbody tr th:only-of-type {\n",
       "        vertical-align: middle;\n",
       "    }\n",
       "\n",
       "    .dataframe tbody tr th {\n",
       "        vertical-align: top;\n",
       "    }\n",
       "\n",
       "    .dataframe thead th {\n",
       "        text-align: right;\n",
       "    }\n",
       "</style>\n",
       "<table border=\"1\" class=\"dataframe\">\n",
       "  <thead>\n",
       "    <tr style=\"text-align: right;\">\n",
       "      <th></th>\n",
       "      <th>Churn</th>\n",
       "    </tr>\n",
       "    <tr>\n",
       "      <th>PaperlessBilling</th>\n",
       "      <th></th>\n",
       "    </tr>\n",
       "  </thead>\n",
       "  <tbody>\n",
       "    <tr>\n",
       "      <th>0</th>\n",
       "      <td>0.163757</td>\n",
       "    </tr>\n",
       "    <tr>\n",
       "      <th>1</th>\n",
       "      <td>0.335893</td>\n",
       "    </tr>\n",
       "  </tbody>\n",
       "</table>\n",
       "</div>"
      ],
      "text/plain": [
       "                     Churn\n",
       "PaperlessBilling          \n",
       "0                 0.163757\n",
       "1                 0.335893"
      ]
     },
     "execution_count": 201,
     "metadata": {},
     "output_type": "execute_result"
    },
    {
     "data": {
      "image/png": "[encoded data removed]",
      "text/plain": [
       "<Figure size 432x288 with 1 Axes>"
      ]
     },
     "metadata": {
      "needs_background": "light"
     },
     "output_type": "display_data"
    }
   ],
   "source": [
    "churndata.groupby(['PaperlessBilling'])[['Churn']].mean().plot(kind='bar').set_ylabel('Count')\n",
    "churndata.groupby(['PaperlessBilling'])[['Churn']].mean()"
   ]
  },
  {
   "cell_type": "code",
   "execution_count": 202,
   "metadata": {},
   "outputs": [
    {
     "data": {
      "text/html": [
       "<table class=\"simpletable\">\n",
       "<caption>OLS Regression Results</caption>\n",
       "<tr>\n",
       "  <th>Dep. Variable:</th>          <td>Churn</td>      <th>  R-squared:         </th> <td>   0.037</td>\n",
       "</tr>\n",
       "<tr>\n",
       "  <th>Model:</th>                   <td>OLS</td>       <th>  Adj. R-squared:    </th> <td>   0.037</td>\n",
       "</tr>\n",
       "<tr>\n",
       "  <th>Method:</th>             <td>Least Squares</td>  <th>  F-statistic:       </th> <td>   267.5</td>\n",
       "</tr>\n",
       "<tr>\n",
       "  <th>Date:</th>             <td>Sat, 06 Jul 2019</td> <th>  Prob (F-statistic):</th> <td>4.88e-59</td>\n",
       "</tr>\n",
       "<tr>\n",
       "  <th>Time:</th>                 <td>11:00:31</td>     <th>  Log-Likelihood:    </th> <td> -4101.5</td>\n",
       "</tr>\n",
       "<tr>\n",
       "  <th>No. Observations:</th>      <td>  7032</td>      <th>  AIC:               </th> <td>   8207.</td>\n",
       "</tr>\n",
       "<tr>\n",
       "  <th>Df Residuals:</th>          <td>  7030</td>      <th>  BIC:               </th> <td>   8221.</td>\n",
       "</tr>\n",
       "<tr>\n",
       "  <th>Df Model:</th>              <td>     1</td>      <th>                     </th>     <td> </td>   \n",
       "</tr>\n",
       "<tr>\n",
       "  <th>Covariance Type:</th>      <td>nonrobust</td>    <th>                     </th>     <td> </td>   \n",
       "</tr>\n",
       "</table>\n",
       "<table class=\"simpletable\">\n",
       "<tr>\n",
       "          <td></td>            <th>coef</th>     <th>std err</th>      <th>t</th>      <th>P>|t|</th>  <th>[0.025</th>    <th>0.975]</th>  \n",
       "</tr>\n",
       "<tr>\n",
       "  <th>Intercept</th>        <td>    0.1638</td> <td>    0.008</td> <td>   20.210</td> <td> 0.000</td> <td>    0.148</td> <td>    0.180</td>\n",
       "</tr>\n",
       "<tr>\n",
       "  <th>PaperlessBilling</th> <td>    0.1721</td> <td>    0.011</td> <td>   16.355</td> <td> 0.000</td> <td>    0.152</td> <td>    0.193</td>\n",
       "</tr>\n",
       "</table>\n",
       "<table class=\"simpletable\">\n",
       "<tr>\n",
       "  <th>Omnibus:</th>       <td>1518.339</td> <th>  Durbin-Watson:     </th> <td>   2.006</td> \n",
       "</tr>\n",
       "<tr>\n",
       "  <th>Prob(Omnibus):</th>  <td> 0.000</td>  <th>  Jarque-Bera (JB):  </th> <td>1357.742</td> \n",
       "</tr>\n",
       "<tr>\n",
       "  <th>Skew:</th>           <td> 0.993</td>  <th>  Prob(JB):          </th> <td>1.48e-295</td>\n",
       "</tr>\n",
       "<tr>\n",
       "  <th>Kurtosis:</th>       <td> 2.167</td>  <th>  Cond. No.          </th> <td>    2.90</td> \n",
       "</tr>\n",
       "</table><br/><br/>Warnings:<br/>[1] Standard Errors assume that the covariance matrix of the errors is correctly specified."
      ],
      "text/plain": [
       "<class 'statsmodels.iolib.summary.Summary'>\n",
       "\"\"\"\n",
       "                            OLS Regression Results                            \n",
       "==============================================================================\n",
       "Dep. Variable:                  Churn   R-squared:                       0.037\n",
       "Model:                            OLS   Adj. R-squared:                  0.037\n",
       "Method:                 Least Squares   F-statistic:                     267.5\n",
       "Date:                Sat, 06 Jul 2019   Prob (F-statistic):           4.88e-59\n",
       "Time:                        11:00:31   Log-Likelihood:                -4101.5\n",
       "No. Observations:                7032   AIC:                             8207.\n",
       "Df Residuals:                    7030   BIC:                             8221.\n",
       "Df Model:                           1                                         \n",
       "Covariance Type:            nonrobust                                         \n",
       "====================================================================================\n",
       "                       coef    std err          t      P>|t|      [0.025      0.975]\n",
       "------------------------------------------------------------------------------------\n",
       "Intercept            0.1638      0.008     20.210      0.000       0.148       0.180\n",
       "PaperlessBilling     0.1721      0.011     16.355      0.000       0.152       0.193\n",
       "==============================================================================\n",
       "Omnibus:                     1518.339   Durbin-Watson:                   2.006\n",
       "Prob(Omnibus):                  0.000   Jarque-Bera (JB):             1357.742\n",
       "Skew:                           0.993   Prob(JB):                    1.48e-295\n",
       "Kurtosis:                       2.167   Cond. No.                         2.90\n",
       "==============================================================================\n",
       "\n",
       "Warnings:\n",
       "[1] Standard Errors assume that the covariance matrix of the errors is correctly specified.\n",
       "\"\"\""
      ]
     },
     "execution_count": 202,
     "metadata": {},
     "output_type": "execute_result"
    }
   ],
   "source": [
    "#is this statistically significant? \n",
    "m = ols('Churn ~ PaperlessBilling',churndata).fit()\n",
    "m.summary()"
   ]
  },
  {
   "cell_type": "code",
   "execution_count": 203,
   "metadata": {},
   "outputs": [
    {
     "data": {
      "text/plain": [
       "1    4168\n",
       "0    2864\n",
       "Name: PaperlessBilling, dtype: int64"
      ]
     },
     "execution_count": 203,
     "metadata": {},
     "output_type": "execute_result"
    },
    {
     "data": {
      "image/png": "[encoded data removed]",
      "text/plain": [
       "<Figure size 432x288 with 1 Axes>"
      ]
     },
     "metadata": {
      "needs_background": "light"
     },
     "output_type": "display_data"
    }
   ],
   "source": [
    "sns.countplot(churndata['PaperlessBilling'])\n",
    "churndata['PaperlessBilling'].value_counts()"
   ]
  },
  {
   "cell_type": "markdown",
   "metadata": {},
   "source": [
    "#### PaymentMethod\n",
    "\n",
    "Customers with eletronic check have higher likelihood to churn compared to other payment methods"
   ]
  },
  {
   "cell_type": "code",
   "execution_count": 204,
   "metadata": {},
   "outputs": [
    {
     "data": {
      "text/html": [
       "<div>\n",
       "<style scoped>\n",
       "    .dataframe tbody tr th:only-of-type {\n",
       "        vertical-align: middle;\n",
       "    }\n",
       "\n",
       "    .dataframe tbody tr th {\n",
       "        vertical-align: top;\n",
       "    }\n",
       "\n",
       "    .dataframe thead th {\n",
       "        text-align: right;\n",
       "    }\n",
       "</style>\n",
       "<table border=\"1\" class=\"dataframe\">\n",
       "  <thead>\n",
       "    <tr style=\"text-align: right;\">\n",
       "      <th></th>\n",
       "      <th>Churn</th>\n",
       "    </tr>\n",
       "    <tr>\n",
       "      <th>PaymentMethod</th>\n",
       "      <th></th>\n",
       "    </tr>\n",
       "  </thead>\n",
       "  <tbody>\n",
       "    <tr>\n",
       "      <th>Bank transfer (automatic)</th>\n",
       "      <td>0.167315</td>\n",
       "    </tr>\n",
       "    <tr>\n",
       "      <th>Credit card (automatic)</th>\n",
       "      <td>0.152531</td>\n",
       "    </tr>\n",
       "    <tr>\n",
       "      <th>Electronic check</th>\n",
       "      <td>0.452854</td>\n",
       "    </tr>\n",
       "    <tr>\n",
       "      <th>Mailed check</th>\n",
       "      <td>0.192020</td>\n",
       "    </tr>\n",
       "  </tbody>\n",
       "</table>\n",
       "</div>"
      ],
      "text/plain": [
       "                              Churn\n",
       "PaymentMethod                      \n",
       "Bank transfer (automatic)  0.167315\n",
       "Credit card (automatic)    0.152531\n",
       "Electronic check           0.452854\n",
       "Mailed check               0.192020"
      ]
     },
     "execution_count": 204,
     "metadata": {},
     "output_type": "execute_result"
    },
    {
     "data": {
      "image/png": "[encoded data removed]",
      "text/plain": [
       "<Figure size 432x288 with 1 Axes>"
      ]
     },
     "metadata": {
      "needs_background": "light"
     },
     "output_type": "display_data"
    }
   ],
   "source": [
    "churndata.groupby(['PaymentMethod'])[['Churn']].mean().plot(kind='bar').set_ylabel('Count')\n",
    "churndata.groupby(['PaymentMethod'])[['Churn']].mean()"
   ]
  },
  {
   "cell_type": "code",
   "execution_count": 205,
   "metadata": {},
   "outputs": [
    {
     "data": {
      "text/html": [
       "<table class=\"simpletable\">\n",
       "<caption>OLS Regression Results</caption>\n",
       "<tr>\n",
       "  <th>Dep. Variable:</th>          <td>Churn</td>      <th>  R-squared:         </th> <td>   0.092</td> \n",
       "</tr>\n",
       "<tr>\n",
       "  <th>Model:</th>                   <td>OLS</td>       <th>  Adj. R-squared:    </th> <td>   0.091</td> \n",
       "</tr>\n",
       "<tr>\n",
       "  <th>Method:</th>             <td>Least Squares</td>  <th>  F-statistic:       </th> <td>   236.8</td> \n",
       "</tr>\n",
       "<tr>\n",
       "  <th>Date:</th>             <td>Sat, 06 Jul 2019</td> <th>  Prob (F-statistic):</th> <td>2.41e-146</td>\n",
       "</tr>\n",
       "<tr>\n",
       "  <th>Time:</th>                 <td>11:00:32</td>     <th>  Log-Likelihood:    </th> <td> -3894.3</td> \n",
       "</tr>\n",
       "<tr>\n",
       "  <th>No. Observations:</th>      <td>  7032</td>      <th>  AIC:               </th> <td>   7797.</td> \n",
       "</tr>\n",
       "<tr>\n",
       "  <th>Df Residuals:</th>          <td>  7028</td>      <th>  BIC:               </th> <td>   7824.</td> \n",
       "</tr>\n",
       "<tr>\n",
       "  <th>Df Model:</th>              <td>     3</td>      <th>                     </th>     <td> </td>    \n",
       "</tr>\n",
       "<tr>\n",
       "  <th>Covariance Type:</th>      <td>nonrobust</td>    <th>                     </th>     <td> </td>    \n",
       "</tr>\n",
       "</table>\n",
       "<table class=\"simpletable\">\n",
       "<tr>\n",
       "                      <td></td>                        <th>coef</th>     <th>std err</th>      <th>t</th>      <th>P>|t|</th>  <th>[0.025</th>    <th>0.975]</th>  \n",
       "</tr>\n",
       "<tr>\n",
       "  <th>Intercept</th>                                <td>    0.1673</td> <td>    0.011</td> <td>   15.602</td> <td> 0.000</td> <td>    0.146</td> <td>    0.188</td>\n",
       "</tr>\n",
       "<tr>\n",
       "  <th>PaymentMethod[T.Credit card (automatic)]</th> <td>   -0.0148</td> <td>    0.015</td> <td>   -0.971</td> <td> 0.331</td> <td>   -0.045</td> <td>    0.015</td>\n",
       "</tr>\n",
       "<tr>\n",
       "  <th>PaymentMethod[T.Electronic check]</th>        <td>    0.2855</td> <td>    0.014</td> <td>   20.716</td> <td> 0.000</td> <td>    0.259</td> <td>    0.313</td>\n",
       "</tr>\n",
       "<tr>\n",
       "  <th>PaymentMethod[T.Mailed check]</th>            <td>    0.0247</td> <td>    0.015</td> <td>    1.645</td> <td> 0.100</td> <td>   -0.005</td> <td>    0.054</td>\n",
       "</tr>\n",
       "</table>\n",
       "<table class=\"simpletable\">\n",
       "<tr>\n",
       "  <th>Omnibus:</th>       <td>980.531</td> <th>  Durbin-Watson:     </th> <td>   2.006</td> \n",
       "</tr>\n",
       "<tr>\n",
       "  <th>Prob(Omnibus):</th> <td> 0.000</td>  <th>  Jarque-Bera (JB):  </th> <td>1121.884</td> \n",
       "</tr>\n",
       "<tr>\n",
       "  <th>Skew:</th>          <td> 0.930</td>  <th>  Prob(JB):          </th> <td>2.43e-244</td>\n",
       "</tr>\n",
       "<tr>\n",
       "  <th>Kurtosis:</th>      <td> 2.394</td>  <th>  Cond. No.          </th> <td>    5.12</td> \n",
       "</tr>\n",
       "</table><br/><br/>Warnings:<br/>[1] Standard Errors assume that the covariance matrix of the errors is correctly specified."
      ],
      "text/plain": [
       "<class 'statsmodels.iolib.summary.Summary'>\n",
       "\"\"\"\n",
       "                            OLS Regression Results                            \n",
       "==============================================================================\n",
       "Dep. Variable:                  Churn   R-squared:                       0.092\n",
       "Model:                            OLS   Adj. R-squared:                  0.091\n",
       "Method:                 Least Squares   F-statistic:                     236.8\n",
       "Date:                Sat, 06 Jul 2019   Prob (F-statistic):          2.41e-146\n",
       "Time:                        11:00:32   Log-Likelihood:                -3894.3\n",
       "No. Observations:                7032   AIC:                             7797.\n",
       "Df Residuals:                    7028   BIC:                             7824.\n",
       "Df Model:                           3                                         \n",
       "Covariance Type:            nonrobust                                         \n",
       "============================================================================================================\n",
       "                                               coef    std err          t      P>|t|      [0.025      0.975]\n",
       "------------------------------------------------------------------------------------------------------------\n",
       "Intercept                                    0.1673      0.011     15.602      0.000       0.146       0.188\n",
       "PaymentMethod[T.Credit card (automatic)]    -0.0148      0.015     -0.971      0.331      -0.045       0.015\n",
       "PaymentMethod[T.Electronic check]            0.2855      0.014     20.716      0.000       0.259       0.313\n",
       "PaymentMethod[T.Mailed check]                0.0247      0.015      1.645      0.100      -0.005       0.054\n",
       "==============================================================================\n",
       "Omnibus:                      980.531   Durbin-Watson:                   2.006\n",
       "Prob(Omnibus):                  0.000   Jarque-Bera (JB):             1121.884\n",
       "Skew:                           0.930   Prob(JB):                    2.43e-244\n",
       "Kurtosis:                       2.394   Cond. No.                         5.12\n",
       "==============================================================================\n",
       "\n",
       "Warnings:\n",
       "[1] Standard Errors assume that the covariance matrix of the errors is correctly specified.\n",
       "\"\"\""
      ]
     },
     "execution_count": 205,
     "metadata": {},
     "output_type": "execute_result"
    }
   ],
   "source": [
    "#is this statistically significant? \n",
    "m = ols('Churn ~ PaymentMethod',churndata).fit()\n",
    "m.summary()"
   ]
  },
  {
   "cell_type": "code",
   "execution_count": 206,
   "metadata": {},
   "outputs": [
    {
     "data": {
      "text/plain": [
       "Electronic check             2365\n",
       "Mailed check                 1604\n",
       "Bank transfer (automatic)    1542\n",
       "Credit card (automatic)      1521\n",
       "Name: PaymentMethod, dtype: int64"
      ]
     },
     "execution_count": 206,
     "metadata": {},
     "output_type": "execute_result"
    },
    {
     "data": {
      "image/png": "[encoded data removed]",
      "text/plain": [
       "<Figure size 432x288 with 1 Axes>"
      ]
     },
     "metadata": {
      "needs_background": "light"
     },
     "output_type": "display_data"
    }
   ],
   "source": [
    "sns.countplot(churndata['PaymentMethod'])\n",
    "plt.xticks(rotation=90)\n",
    "churndata['PaymentMethod'].value_counts()"
   ]
  },
  {
   "cell_type": "markdown",
   "metadata": {},
   "source": [
    "### Churn (Target variable)"
   ]
  },
  {
   "cell_type": "code",
   "execution_count": 207,
   "metadata": {},
   "outputs": [
    {
     "data": {
      "text/plain": [
       "<matplotlib.axes._subplots.AxesSubplot at 0x29480be82b0>"
      ]
     },
     "execution_count": 207,
     "metadata": {},
     "output_type": "execute_result"
    },
    {
     "data": {
      "image/png": "[encoded data removed]",
      "text/plain": [
       "<Figure size 432x288 with 1 Axes>"
      ]
     },
     "metadata": {
      "needs_background": "light"
     },
     "output_type": "display_data"
    }
   ],
   "source": [
    "sns.countplot(churndata['Churn'])"
   ]
  },
  {
   "cell_type": "code",
   "execution_count": 208,
   "metadata": {},
   "outputs": [
    {
     "name": "stdout",
     "output_type": "stream",
     "text": [
      "overall counts:\n"
     ]
    },
    {
     "data": {
      "text/plain": [
       "0    5163\n",
       "1    1869\n",
       "Name: Churn, dtype: int64"
      ]
     },
     "execution_count": 208,
     "metadata": {},
     "output_type": "execute_result"
    }
   ],
   "source": [
    "print(\"overall counts:\")\n",
    "churndata['Churn'].value_counts()"
   ]
  },
  {
   "cell_type": "code",
   "execution_count": 209,
   "metadata": {},
   "outputs": [
    {
     "name": "stdout",
     "output_type": "stream",
     "text": [
      "frequency counts:\n"
     ]
    },
    {
     "data": {
      "text/plain": [
       "0    0.734215\n",
       "1    0.265785\n",
       "Name: Churn, dtype: float64"
      ]
     },
     "execution_count": 209,
     "metadata": {},
     "output_type": "execute_result"
    }
   ],
   "source": [
    "print(\"frequency counts:\")\n",
    "churndata['Churn'].value_counts(normalize=True)"
   ]
  },
  {
   "cell_type": "markdown",
   "metadata": {},
   "source": [
    "## Step 4. Machine Learning (Model Training & Testing)"
   ]
  },
  {
   "cell_type": "markdown",
   "metadata": {},
   "source": [
    "### 4a. Train & Test set\n",
    "\n",
    "- Adding Dummy variables\n",
    "- Removing columns that aren't needed"
   ]
  },
  {
   "cell_type": "code",
   "execution_count": 210,
   "metadata": {},
   "outputs": [
    {
     "name": "stdout",
     "output_type": "stream",
     "text": [
      "<class 'pandas.core.frame.DataFrame'>\n",
      "Int64Index: 7032 entries, 0 to 7042\n",
      "Data columns (total 22 columns):\n",
      "customerID            7032 non-null object\n",
      "gender                7032 non-null object\n",
      "SeniorCitizen         7032 non-null int64\n",
      "Partner               7032 non-null int64\n",
      "Dependents            7032 non-null int64\n",
      "tenure                7032 non-null int64\n",
      "PhoneService          7032 non-null int64\n",
      "MultipleLines         7032 non-null int64\n",
      "InternetService       7032 non-null object\n",
      "OnlineSecurity        7032 non-null int64\n",
      "OnlineBackup          7032 non-null int64\n",
      "DeviceProtection      7032 non-null int64\n",
      "TechSupport           7032 non-null int64\n",
      "StreamingTV           7032 non-null int64\n",
      "StreamingMovies       7032 non-null int64\n",
      "Contract              7032 non-null object\n",
      "PaperlessBilling      7032 non-null int64\n",
      "PaymentMethod         7032 non-null object\n",
      "MonthlyCharges        7032 non-null float64\n",
      "TotalCharges          7032 non-null float64\n",
      "Churn                 7032 non-null int64\n",
      "HasInternetService    7032 non-null int64\n",
      "dtypes: float64(2), int64(15), object(5)\n",
      "memory usage: 1.5+ MB\n"
     ]
    },
    {
     "data": {
      "text/html": [
       "<div>\n",
       "<style scoped>\n",
       "    .dataframe tbody tr th:only-of-type {\n",
       "        vertical-align: middle;\n",
       "    }\n",
       "\n",
       "    .dataframe tbody tr th {\n",
       "        vertical-align: top;\n",
       "    }\n",
       "\n",
       "    .dataframe thead th {\n",
       "        text-align: right;\n",
       "    }\n",
       "</style>\n",
       "<table border=\"1\" class=\"dataframe\">\n",
       "  <thead>\n",
       "    <tr style=\"text-align: right;\">\n",
       "      <th></th>\n",
       "      <th>customerID</th>\n",
       "      <th>gender</th>\n",
       "      <th>SeniorCitizen</th>\n",
       "      <th>Partner</th>\n",
       "      <th>Dependents</th>\n",
       "      <th>tenure</th>\n",
       "      <th>PhoneService</th>\n",
       "      <th>MultipleLines</th>\n",
       "      <th>InternetService</th>\n",
       "      <th>OnlineSecurity</th>\n",
       "      <th>...</th>\n",
       "      <th>TechSupport</th>\n",
       "      <th>StreamingTV</th>\n",
       "      <th>StreamingMovies</th>\n",
       "      <th>Contract</th>\n",
       "      <th>PaperlessBilling</th>\n",
       "      <th>PaymentMethod</th>\n",
       "      <th>MonthlyCharges</th>\n",
       "      <th>TotalCharges</th>\n",
       "      <th>Churn</th>\n",
       "      <th>HasInternetService</th>\n",
       "    </tr>\n",
       "  </thead>\n",
       "  <tbody>\n",
       "    <tr>\n",
       "      <th>0</th>\n",
       "      <td>7590-VHVEG</td>\n",
       "      <td>Female</td>\n",
       "      <td>0</td>\n",
       "      <td>1</td>\n",
       "      <td>0</td>\n",
       "      <td>1</td>\n",
       "      <td>0</td>\n",
       "      <td>0</td>\n",
       "      <td>DSL</td>\n",
       "      <td>0</td>\n",
       "      <td>...</td>\n",
       "      <td>0</td>\n",
       "      <td>0</td>\n",
       "      <td>0</td>\n",
       "      <td>Month-to-month</td>\n",
       "      <td>1</td>\n",
       "      <td>Electronic check</td>\n",
       "      <td>29.85</td>\n",
       "      <td>29.85</td>\n",
       "      <td>0</td>\n",
       "      <td>1</td>\n",
       "    </tr>\n",
       "    <tr>\n",
       "      <th>1</th>\n",
       "      <td>5575-GNVDE</td>\n",
       "      <td>Male</td>\n",
       "      <td>0</td>\n",
       "      <td>0</td>\n",
       "      <td>0</td>\n",
       "      <td>34</td>\n",
       "      <td>1</td>\n",
       "      <td>0</td>\n",
       "      <td>DSL</td>\n",
       "      <td>1</td>\n",
       "      <td>...</td>\n",
       "      <td>0</td>\n",
       "      <td>0</td>\n",
       "      <td>0</td>\n",
       "      <td>One year</td>\n",
       "      <td>0</td>\n",
       "      <td>Mailed check</td>\n",
       "      <td>56.95</td>\n",
       "      <td>1889.50</td>\n",
       "      <td>0</td>\n",
       "      <td>1</td>\n",
       "    </tr>\n",
       "    <tr>\n",
       "      <th>2</th>\n",
       "      <td>3668-QPYBK</td>\n",
       "      <td>Male</td>\n",
       "      <td>0</td>\n",
       "      <td>0</td>\n",
       "      <td>0</td>\n",
       "      <td>2</td>\n",
       "      <td>1</td>\n",
       "      <td>0</td>\n",
       "      <td>DSL</td>\n",
       "      <td>1</td>\n",
       "      <td>...</td>\n",
       "      <td>0</td>\n",
       "      <td>0</td>\n",
       "      <td>0</td>\n",
       "      <td>Month-to-month</td>\n",
       "      <td>1</td>\n",
       "      <td>Mailed check</td>\n",
       "      <td>53.85</td>\n",
       "      <td>108.15</td>\n",
       "      <td>1</td>\n",
       "      <td>1</td>\n",
       "    </tr>\n",
       "    <tr>\n",
       "      <th>3</th>\n",
       "      <td>7795-CFOCW</td>\n",
       "      <td>Male</td>\n",
       "      <td>0</td>\n",
       "      <td>0</td>\n",
       "      <td>0</td>\n",
       "      <td>45</td>\n",
       "      <td>0</td>\n",
       "      <td>0</td>\n",
       "      <td>DSL</td>\n",
       "      <td>1</td>\n",
       "      <td>...</td>\n",
       "      <td>1</td>\n",
       "      <td>0</td>\n",
       "      <td>0</td>\n",
       "      <td>One year</td>\n",
       "      <td>0</td>\n",
       "      <td>Bank transfer (automatic)</td>\n",
       "      <td>42.30</td>\n",
       "      <td>1840.75</td>\n",
       "      <td>0</td>\n",
       "      <td>1</td>\n",
       "    </tr>\n",
       "    <tr>\n",
       "      <th>4</th>\n",
       "      <td>9237-HQITU</td>\n",
       "      <td>Female</td>\n",
       "      <td>0</td>\n",
       "      <td>0</td>\n",
       "      <td>0</td>\n",
       "      <td>2</td>\n",
       "      <td>1</td>\n",
       "      <td>0</td>\n",
       "      <td>Fiber optic</td>\n",
       "      <td>0</td>\n",
       "      <td>...</td>\n",
       "      <td>0</td>\n",
       "      <td>0</td>\n",
       "      <td>0</td>\n",
       "      <td>Month-to-month</td>\n",
       "      <td>1</td>\n",
       "      <td>Electronic check</td>\n",
       "      <td>70.70</td>\n",
       "      <td>151.65</td>\n",
       "      <td>1</td>\n",
       "      <td>1</td>\n",
       "    </tr>\n",
       "  </tbody>\n",
       "</table>\n",
       "<p>5 rows × 22 columns</p>\n",
       "</div>"
      ],
      "text/plain": [
       "   customerID  gender  SeniorCitizen  Partner  Dependents  tenure  \\\n",
       "0  7590-VHVEG  Female              0        1           0       1   \n",
       "1  5575-GNVDE    Male              0        0           0      34   \n",
       "2  3668-QPYBK    Male              0        0           0       2   \n",
       "3  7795-CFOCW    Male              0        0           0      45   \n",
       "4  9237-HQITU  Female              0        0           0       2   \n",
       "\n",
       "   PhoneService  MultipleLines InternetService  OnlineSecurity  \\\n",
       "0             0              0             DSL               0   \n",
       "1             1              0             DSL               1   \n",
       "2             1              0             DSL               1   \n",
       "3             0              0             DSL               1   \n",
       "4             1              0     Fiber optic               0   \n",
       "\n",
       "          ...          TechSupport  StreamingTV  StreamingMovies  \\\n",
       "0         ...                    0            0                0   \n",
       "1         ...                    0            0                0   \n",
       "2         ...                    0            0                0   \n",
       "3         ...                    1            0                0   \n",
       "4         ...                    0            0                0   \n",
       "\n",
       "         Contract  PaperlessBilling              PaymentMethod  \\\n",
       "0  Month-to-month                 1           Electronic check   \n",
       "1        One year                 0               Mailed check   \n",
       "2  Month-to-month                 1               Mailed check   \n",
       "3        One year                 0  Bank transfer (automatic)   \n",
       "4  Month-to-month                 1           Electronic check   \n",
       "\n",
       "   MonthlyCharges TotalCharges  Churn  HasInternetService  \n",
       "0           29.85        29.85      0                   1  \n",
       "1           56.95      1889.50      0                   1  \n",
       "2           53.85       108.15      1                   1  \n",
       "3           42.30      1840.75      0                   1  \n",
       "4           70.70       151.65      1                   1  \n",
       "\n",
       "[5 rows x 22 columns]"
      ]
     },
     "execution_count": 210,
     "metadata": {},
     "output_type": "execute_result"
    }
   ],
   "source": [
    "churndata.info()\n",
    "churndata.head()"
   ]
  },
  {
   "cell_type": "code",
   "execution_count": 211,
   "metadata": {},
   "outputs": [
    {
     "name": "stdout",
     "output_type": "stream",
     "text": [
      "<class 'pandas.core.frame.DataFrame'>\n",
      "Int64Index: 7032 entries, 0 to 7042\n",
      "Data columns (total 26 columns):\n",
      "customerID                               7032 non-null object\n",
      "SeniorCitizen                            7032 non-null int64\n",
      "Partner                                  7032 non-null int64\n",
      "Dependents                               7032 non-null int64\n",
      "tenure                                   7032 non-null int64\n",
      "PhoneService                             7032 non-null int64\n",
      "MultipleLines                            7032 non-null int64\n",
      "OnlineSecurity                           7032 non-null int64\n",
      "OnlineBackup                             7032 non-null int64\n",
      "DeviceProtection                         7032 non-null int64\n",
      "TechSupport                              7032 non-null int64\n",
      "StreamingTV                              7032 non-null int64\n",
      "StreamingMovies                          7032 non-null int64\n",
      "PaperlessBilling                         7032 non-null int64\n",
      "MonthlyCharges                           7032 non-null float64\n",
      "TotalCharges                             7032 non-null float64\n",
      "Churn                                    7032 non-null int64\n",
      "HasInternetService                       7032 non-null int64\n",
      "gender_Male                              7032 non-null uint8\n",
      "InternetService_Fiber optic              7032 non-null uint8\n",
      "InternetService_No                       7032 non-null uint8\n",
      "Contract_One year                        7032 non-null uint8\n",
      "Contract_Two year                        7032 non-null uint8\n",
      "PaymentMethod_Credit card (automatic)    7032 non-null uint8\n",
      "PaymentMethod_Electronic check           7032 non-null uint8\n",
      "PaymentMethod_Mailed check               7032 non-null uint8\n",
      "dtypes: float64(2), int64(15), object(1), uint8(8)\n",
      "memory usage: 1.4+ MB\n"
     ]
    },
    {
     "data": {
      "text/html": [
       "<div>\n",
       "<style scoped>\n",
       "    .dataframe tbody tr th:only-of-type {\n",
       "        vertical-align: middle;\n",
       "    }\n",
       "\n",
       "    .dataframe tbody tr th {\n",
       "        vertical-align: top;\n",
       "    }\n",
       "\n",
       "    .dataframe thead th {\n",
       "        text-align: right;\n",
       "    }\n",
       "</style>\n",
       "<table border=\"1\" class=\"dataframe\">\n",
       "  <thead>\n",
       "    <tr style=\"text-align: right;\">\n",
       "      <th></th>\n",
       "      <th>customerID</th>\n",
       "      <th>SeniorCitizen</th>\n",
       "      <th>Partner</th>\n",
       "      <th>Dependents</th>\n",
       "      <th>tenure</th>\n",
       "      <th>PhoneService</th>\n",
       "      <th>MultipleLines</th>\n",
       "      <th>OnlineSecurity</th>\n",
       "      <th>OnlineBackup</th>\n",
       "      <th>DeviceProtection</th>\n",
       "      <th>...</th>\n",
       "      <th>Churn</th>\n",
       "      <th>HasInternetService</th>\n",
       "      <th>gender_Male</th>\n",
       "      <th>InternetService_Fiber optic</th>\n",
       "      <th>InternetService_No</th>\n",
       "      <th>Contract_One year</th>\n",
       "      <th>Contract_Two year</th>\n",
       "      <th>PaymentMethod_Credit card (automatic)</th>\n",
       "      <th>PaymentMethod_Electronic check</th>\n",
       "      <th>PaymentMethod_Mailed check</th>\n",
       "    </tr>\n",
       "  </thead>\n",
       "  <tbody>\n",
       "    <tr>\n",
       "      <th>0</th>\n",
       "      <td>7590-VHVEG</td>\n",
       "      <td>0</td>\n",
       "      <td>1</td>\n",
       "      <td>0</td>\n",
       "      <td>1</td>\n",
       "      <td>0</td>\n",
       "      <td>0</td>\n",
       "      <td>0</td>\n",
       "      <td>1</td>\n",
       "      <td>0</td>\n",
       "      <td>...</td>\n",
       "      <td>0</td>\n",
       "      <td>1</td>\n",
       "      <td>0</td>\n",
       "      <td>0</td>\n",
       "      <td>0</td>\n",
       "      <td>0</td>\n",
       "      <td>0</td>\n",
       "      <td>0</td>\n",
       "      <td>1</td>\n",
       "      <td>0</td>\n",
       "    </tr>\n",
       "    <tr>\n",
       "      <th>1</th>\n",
       "      <td>5575-GNVDE</td>\n",
       "      <td>0</td>\n",
       "      <td>0</td>\n",
       "      <td>0</td>\n",
       "      <td>34</td>\n",
       "      <td>1</td>\n",
       "      <td>0</td>\n",
       "      <td>1</td>\n",
       "      <td>0</td>\n",
       "      <td>1</td>\n",
       "      <td>...</td>\n",
       "      <td>0</td>\n",
       "      <td>1</td>\n",
       "      <td>1</td>\n",
       "      <td>0</td>\n",
       "      <td>0</td>\n",
       "      <td>1</td>\n",
       "      <td>0</td>\n",
       "      <td>0</td>\n",
       "      <td>0</td>\n",
       "      <td>1</td>\n",
       "    </tr>\n",
       "    <tr>\n",
       "      <th>2</th>\n",
       "      <td>3668-QPYBK</td>\n",
       "      <td>0</td>\n",
       "      <td>0</td>\n",
       "      <td>0</td>\n",
       "      <td>2</td>\n",
       "      <td>1</td>\n",
       "      <td>0</td>\n",
       "      <td>1</td>\n",
       "      <td>1</td>\n",
       "      <td>0</td>\n",
       "      <td>...</td>\n",
       "      <td>1</td>\n",
       "      <td>1</td>\n",
       "      <td>1</td>\n",
       "      <td>0</td>\n",
       "      <td>0</td>\n",
       "      <td>0</td>\n",
       "      <td>0</td>\n",
       "      <td>0</td>\n",
       "      <td>0</td>\n",
       "      <td>1</td>\n",
       "    </tr>\n",
       "    <tr>\n",
       "      <th>3</th>\n",
       "      <td>7795-CFOCW</td>\n",
       "      <td>0</td>\n",
       "      <td>0</td>\n",
       "      <td>0</td>\n",
       "      <td>45</td>\n",
       "      <td>0</td>\n",
       "      <td>0</td>\n",
       "      <td>1</td>\n",
       "      <td>0</td>\n",
       "      <td>1</td>\n",
       "      <td>...</td>\n",
       "      <td>0</td>\n",
       "      <td>1</td>\n",
       "      <td>1</td>\n",
       "      <td>0</td>\n",
       "      <td>0</td>\n",
       "      <td>1</td>\n",
       "      <td>0</td>\n",
       "      <td>0</td>\n",
       "      <td>0</td>\n",
       "      <td>0</td>\n",
       "    </tr>\n",
       "    <tr>\n",
       "      <th>4</th>\n",
       "      <td>9237-HQITU</td>\n",
       "      <td>0</td>\n",
       "      <td>0</td>\n",
       "      <td>0</td>\n",
       "      <td>2</td>\n",
       "      <td>1</td>\n",
       "      <td>0</td>\n",
       "      <td>0</td>\n",
       "      <td>0</td>\n",
       "      <td>0</td>\n",
       "      <td>...</td>\n",
       "      <td>1</td>\n",
       "      <td>1</td>\n",
       "      <td>0</td>\n",
       "      <td>1</td>\n",
       "      <td>0</td>\n",
       "      <td>0</td>\n",
       "      <td>0</td>\n",
       "      <td>0</td>\n",
       "      <td>1</td>\n",
       "      <td>0</td>\n",
       "    </tr>\n",
       "  </tbody>\n",
       "</table>\n",
       "<p>5 rows × 26 columns</p>\n",
       "</div>"
      ],
      "text/plain": [
       "   customerID  SeniorCitizen  Partner  Dependents  tenure  PhoneService  \\\n",
       "0  7590-VHVEG              0        1           0       1             0   \n",
       "1  5575-GNVDE              0        0           0      34             1   \n",
       "2  3668-QPYBK              0        0           0       2             1   \n",
       "3  7795-CFOCW              0        0           0      45             0   \n",
       "4  9237-HQITU              0        0           0       2             1   \n",
       "\n",
       "   MultipleLines  OnlineSecurity  OnlineBackup  DeviceProtection  \\\n",
       "0              0               0             1                 0   \n",
       "1              0               1             0                 1   \n",
       "2              0               1             1                 0   \n",
       "3              0               1             0                 1   \n",
       "4              0               0             0                 0   \n",
       "\n",
       "              ...              Churn  HasInternetService  gender_Male  \\\n",
       "0             ...                  0                   1            0   \n",
       "1             ...                  0                   1            1   \n",
       "2             ...                  1                   1            1   \n",
       "3             ...                  0                   1            1   \n",
       "4             ...                  1                   1            0   \n",
       "\n",
       "   InternetService_Fiber optic  InternetService_No  Contract_One year  \\\n",
       "0                            0                   0                  0   \n",
       "1                            0                   0                  1   \n",
       "2                            0                   0                  0   \n",
       "3                            0                   0                  1   \n",
       "4                            1                   0                  0   \n",
       "\n",
       "   Contract_Two year  PaymentMethod_Credit card (automatic)  \\\n",
       "0                  0                                      0   \n",
       "1                  0                                      0   \n",
       "2                  0                                      0   \n",
       "3                  0                                      0   \n",
       "4                  0                                      0   \n",
       "\n",
       "   PaymentMethod_Electronic check  PaymentMethod_Mailed check  \n",
       "0                               1                           0  \n",
       "1                               0                           1  \n",
       "2                               0                           1  \n",
       "3                               0                           0  \n",
       "4                               1                           0  \n",
       "\n",
       "[5 rows x 26 columns]"
      ]
     },
     "execution_count": 211,
     "metadata": {},
     "output_type": "execute_result"
    }
   ],
   "source": [
    "#Get Dummy variables\n",
    "cols_to_transform = [ 'gender', 'InternetService', 'Contract', 'PaymentMethod']\n",
    "churndata = pd.get_dummies(data=churndata, columns = cols_to_transform,drop_first=True)\n",
    "churndata.info()\n",
    "churndata.head()"
   ]
  },
  {
   "cell_type": "code",
   "execution_count": 212,
   "metadata": {},
   "outputs": [
    {
     "name": "stdout",
     "output_type": "stream",
     "text": [
      "<class 'pandas.core.frame.DataFrame'>\n",
      "Int64Index: 7032 entries, 0 to 7042\n",
      "Data columns (total 25 columns):\n",
      "SeniorCitizen                            7032 non-null int64\n",
      "Partner                                  7032 non-null int64\n",
      "Dependents                               7032 non-null int64\n",
      "tenure                                   7032 non-null int64\n",
      "PhoneService                             7032 non-null int64\n",
      "MultipleLines                            7032 non-null int64\n",
      "OnlineSecurity                           7032 non-null int64\n",
      "OnlineBackup                             7032 non-null int64\n",
      "DeviceProtection                         7032 non-null int64\n",
      "TechSupport                              7032 non-null int64\n",
      "StreamingTV                              7032 non-null int64\n",
      "StreamingMovies                          7032 non-null int64\n",
      "PaperlessBilling                         7032 non-null int64\n",
      "MonthlyCharges                           7032 non-null float64\n",
      "TotalCharges                             7032 non-null float64\n",
      "Churn                                    7032 non-null int64\n",
      "HasInternetService                       7032 non-null int64\n",
      "gender_Male                              7032 non-null uint8\n",
      "InternetService_Fiber optic              7032 non-null uint8\n",
      "InternetService_No                       7032 non-null uint8\n",
      "Contract_One year                        7032 non-null uint8\n",
      "Contract_Two year                        7032 non-null uint8\n",
      "PaymentMethod_Credit card (automatic)    7032 non-null uint8\n",
      "PaymentMethod_Electronic check           7032 non-null uint8\n",
      "PaymentMethod_Mailed check               7032 non-null uint8\n",
      "dtypes: float64(2), int64(15), uint8(8)\n",
      "memory usage: 1.3 MB\n"
     ]
    }
   ],
   "source": [
    "churndata=churndata.drop(['customerID'], axis=1)\n",
    "churndata.info()"
   ]
  },
  {
   "cell_type": "code",
   "execution_count": 213,
   "metadata": {},
   "outputs": [
    {
     "name": "stdout",
     "output_type": "stream",
     "text": [
      "<class 'pandas.core.frame.DataFrame'>\n",
      "Int64Index: 7032 entries, 0 to 7042\n",
      "Data columns (total 24 columns):\n",
      "SeniorCitizen                            7032 non-null int64\n",
      "Partner                                  7032 non-null int64\n",
      "Dependents                               7032 non-null int64\n",
      "tenure                                   7032 non-null int64\n",
      "PhoneService                             7032 non-null int64\n",
      "MultipleLines                            7032 non-null int64\n",
      "OnlineSecurity                           7032 non-null int64\n",
      "OnlineBackup                             7032 non-null int64\n",
      "DeviceProtection                         7032 non-null int64\n",
      "TechSupport                              7032 non-null int64\n",
      "StreamingTV                              7032 non-null int64\n",
      "StreamingMovies                          7032 non-null int64\n",
      "PaperlessBilling                         7032 non-null int64\n",
      "MonthlyCharges                           7032 non-null float64\n",
      "Churn                                    7032 non-null int64\n",
      "HasInternetService                       7032 non-null int64\n",
      "gender_Male                              7032 non-null uint8\n",
      "InternetService_Fiber optic              7032 non-null uint8\n",
      "InternetService_No                       7032 non-null uint8\n",
      "Contract_One year                        7032 non-null uint8\n",
      "Contract_Two year                        7032 non-null uint8\n",
      "PaymentMethod_Credit card (automatic)    7032 non-null uint8\n",
      "PaymentMethod_Electronic check           7032 non-null uint8\n",
      "PaymentMethod_Mailed check               7032 non-null uint8\n",
      "dtypes: float64(1), int64(15), uint8(8)\n",
      "memory usage: 1.3 MB\n"
     ]
    }
   ],
   "source": [
    "churndata=churndata.drop(['TotalCharges'], axis=1)\n",
    "churndata.info()"
   ]
  },
  {
   "cell_type": "code",
   "execution_count": 214,
   "metadata": {},
   "outputs": [],
   "source": [
    "y = churndata['Churn']\n",
    "x = churndata.drop(['Churn'], axis=1)\n",
    "\n",
    "# Split the data into a training and test set.\n",
    "xtrain, xtest, ytrain, ytest = train_test_split(x,y,random_state=5)"
   ]
  },
  {
   "cell_type": "markdown",
   "metadata": {},
   "source": [
    "### 4b. Logistic Regression"
   ]
  },
  {
   "cell_type": "code",
   "execution_count": 215,
   "metadata": {},
   "outputs": [],
   "source": [
    "clf = LogisticRegression()\n",
    "# Fit the model on the trainng data.\n",
    "clf.fit(xtrain, ytrain)\n",
    "# Print the accuracy from the testing data.\n",
    "ypred = clf.predict(xtest)"
   ]
  },
  {
   "cell_type": "code",
   "execution_count": 216,
   "metadata": {},
   "outputs": [
    {
     "name": "stdout",
     "output_type": "stream",
     "text": [
      "Confusion Matrix:\n",
      "[[1114  153]\n",
      " [ 221  270]]\n"
     ]
    }
   ],
   "source": [
    "#print confusion matrix\n",
    "print(\"Confusion Matrix:\")\n",
    "print(confusion_matrix(ytest,ypred))"
   ]
  },
  {
   "cell_type": "code",
   "execution_count": 217,
   "metadata": {},
   "outputs": [
    {
     "name": "stdout",
     "output_type": "stream",
     "text": [
      "Accuracy:\n",
      "0.7872582480091013\n"
     ]
    }
   ],
   "source": [
    "#print accuracy\n",
    "print(\"Accuracy:\")\n",
    "print(accuracy_score(ypred, ytest))"
   ]
  },
  {
   "cell_type": "code",
   "execution_count": 218,
   "metadata": {},
   "outputs": [
    {
     "name": "stdout",
     "output_type": "stream",
     "text": [
      "Classification Report:\n",
      "              precision    recall  f1-score   support\n",
      "\n",
      "           0       0.83      0.88      0.86      1267\n",
      "           1       0.64      0.55      0.59       491\n",
      "\n",
      "   micro avg       0.79      0.79      0.79      1758\n",
      "   macro avg       0.74      0.71      0.72      1758\n",
      "weighted avg       0.78      0.79      0.78      1758\n",
      "\n"
     ]
    }
   ],
   "source": [
    "print(\"Classification Report:\")\n",
    "print(classification_report(ytest, ypred))"
   ]
  },
  {
   "cell_type": "code",
   "execution_count": 219,
   "metadata": {},
   "outputs": [
    {
     "name": "stdout",
     "output_type": "stream",
     "text": [
      "Roc Curve:\n"
     ]
    },
    {
     "data": {
      "image/png": "[encoded data removed]",
      "text/plain": [
       "<Figure size 432x288 with 1 Axes>"
      ]
     },
     "metadata": {
      "needs_background": "light"
     },
     "output_type": "display_data"
    }
   ],
   "source": [
    "print(\"Roc Curve:\")\n",
    "fpr, tpr, threshold = roc_curve(ytest,ypred)\n",
    "roc_auc = auc(fpr, tpr)\n",
    "\n",
    "plt.title('Receiver Operating Characteristic')\n",
    "plt.plot(fpr, tpr, 'b', label = 'AUC = %0.2f' % roc_auc)\n",
    "plt.legend(loc = 'lower right')\n",
    "plt.plot([0, 1], [0, 1],'r--')\n",
    "plt.xlim([0, 1])\n",
    "plt.ylim([0, 1])\n",
    "plt.ylabel('True Positive Rate')\n",
    "plt.xlabel('False Positive Rate')\n",
    "plt.show()"
   ]
  },
  {
   "cell_type": "markdown",
   "metadata": {},
   "source": [
    "### 4c. Decision Tree"
   ]
  },
  {
   "cell_type": "code",
   "execution_count": 220,
   "metadata": {},
   "outputs": [],
   "source": [
    "#we will try both balanced and imbalanced decision trees"
   ]
  },
  {
   "cell_type": "markdown",
   "metadata": {},
   "source": [
    "#### Imbalanced Decision Tree"
   ]
  },
  {
   "cell_type": "code",
   "execution_count": 221,
   "metadata": {},
   "outputs": [],
   "source": [
    "#first imbalanced\n",
    "\n",
    "clf = DecisionTreeClassifier()\n",
    "# Fit the model on the trainng data.\n",
    "clf.fit(xtrain, ytrain)\n",
    "ypred = clf.predict(xtest)"
   ]
  },
  {
   "cell_type": "code",
   "execution_count": 222,
   "metadata": {},
   "outputs": [
    {
     "name": "stdout",
     "output_type": "stream",
     "text": [
      "Confusion Matrix:\n",
      "[[1036  231]\n",
      " [ 231  260]]\n"
     ]
    }
   ],
   "source": [
    "#print confusion matrix\n",
    "print(\"Confusion Matrix:\")\n",
    "print(confusion_matrix(ytest,ypred))"
   ]
  },
  {
   "cell_type": "code",
   "execution_count": 223,
   "metadata": {},
   "outputs": [
    {
     "name": "stdout",
     "output_type": "stream",
     "text": [
      "Accuracy:\n",
      "0.7372013651877133\n"
     ]
    }
   ],
   "source": [
    "#print accuracy\n",
    "print(\"Accuracy:\")\n",
    "print(accuracy_score(ypred, ytest))"
   ]
  },
  {
   "cell_type": "code",
   "execution_count": 224,
   "metadata": {},
   "outputs": [
    {
     "name": "stdout",
     "output_type": "stream",
     "text": [
      "Classification Report:\n",
      "              precision    recall  f1-score   support\n",
      "\n",
      "           0       0.82      0.82      0.82      1267\n",
      "           1       0.53      0.53      0.53       491\n",
      "\n",
      "   micro avg       0.74      0.74      0.74      1758\n",
      "   macro avg       0.67      0.67      0.67      1758\n",
      "weighted avg       0.74      0.74      0.74      1758\n",
      "\n"
     ]
    }
   ],
   "source": [
    "print(\"Classification Report:\")\n",
    "print(classification_report(ytest, ypred))"
   ]
  },
  {
   "cell_type": "code",
   "execution_count": 225,
   "metadata": {},
   "outputs": [
    {
     "name": "stdout",
     "output_type": "stream",
     "text": [
      "Roc Curve:\n"
     ]
    },
    {
     "data": {
      "image/png": "[encoded data removed]",
      "text/plain": [
       "<Figure size 432x288 with 1 Axes>"
      ]
     },
     "metadata": {
      "needs_background": "light"
     },
     "output_type": "display_data"
    }
   ],
   "source": [
    "print(\"Roc Curve:\")\n",
    "fpr, tpr, threshold = roc_curve(ytest,ypred)\n",
    "roc_auc = auc(fpr, tpr)\n",
    "\n",
    "plt.title('Receiver Operating Characteristic')\n",
    "plt.plot(fpr, tpr, 'b', label = 'AUC = %0.2f' % roc_auc)\n",
    "plt.legend(loc = 'lower right')\n",
    "plt.plot([0, 1], [0, 1],'r--')\n",
    "plt.xlim([0, 1])\n",
    "plt.ylim([0, 1])\n",
    "plt.ylabel('True Positive Rate')\n",
    "plt.xlabel('False Positive Rate')\n",
    "plt.show()"
   ]
  },
  {
   "cell_type": "markdown",
   "metadata": {},
   "source": [
    "#### balanced Decision Tree"
   ]
  },
  {
   "cell_type": "code",
   "execution_count": 226,
   "metadata": {},
   "outputs": [],
   "source": [
    "#second balanced\n",
    "\n",
    "clf = DecisionTreeClassifier(class_weight=\"balanced\")\n",
    "# Fit the model on the trainng data.\n",
    "clf.fit(xtrain, ytrain)\n",
    "# Print the accuracy from the testing data.\n",
    "ypred = clf.predict(xtest)"
   ]
  },
  {
   "cell_type": "code",
   "execution_count": 227,
   "metadata": {},
   "outputs": [
    {
     "name": "stdout",
     "output_type": "stream",
     "text": [
      "Confusion Matrix:\n",
      "[[1037  230]\n",
      " [ 252  239]]\n"
     ]
    }
   ],
   "source": [
    "#print confusion matrix\n",
    "print(\"Confusion Matrix:\")\n",
    "print(confusion_matrix(ytest,ypred))"
   ]
  },
  {
   "cell_type": "code",
   "execution_count": 228,
   "metadata": {},
   "outputs": [
    {
     "name": "stdout",
     "output_type": "stream",
     "text": [
      "Accuracy:\n",
      "0.7258248009101251\n"
     ]
    }
   ],
   "source": [
    "#print accuracy\n",
    "print(\"Accuracy:\")\n",
    "print(accuracy_score(ypred, ytest))"
   ]
  },
  {
   "cell_type": "code",
   "execution_count": 229,
   "metadata": {},
   "outputs": [
    {
     "name": "stdout",
     "output_type": "stream",
     "text": [
      "Classification Report:\n",
      "              precision    recall  f1-score   support\n",
      "\n",
      "           0       0.80      0.82      0.81      1267\n",
      "           1       0.51      0.49      0.50       491\n",
      "\n",
      "   micro avg       0.73      0.73      0.73      1758\n",
      "   macro avg       0.66      0.65      0.65      1758\n",
      "weighted avg       0.72      0.73      0.72      1758\n",
      "\n"
     ]
    }
   ],
   "source": [
    "print(\"Classification Report:\")\n",
    "print(classification_report(ytest, ypred))"
   ]
  },
  {
   "cell_type": "code",
   "execution_count": 230,
   "metadata": {},
   "outputs": [
    {
     "name": "stdout",
     "output_type": "stream",
     "text": [
      "Roc Curve:\n"
     ]
    },
    {
     "data": {
      "image/png": "[encoded data removed]",
      "text/plain": [
       "<Figure size 432x288 with 1 Axes>"
      ]
     },
     "metadata": {
      "needs_background": "light"
     },
     "output_type": "display_data"
    }
   ],
   "source": [
    "print(\"Roc Curve:\")\n",
    "fpr, tpr, threshold = roc_curve(ytest,ypred)\n",
    "roc_auc = auc(fpr, tpr)\n",
    "\n",
    "plt.title('Receiver Operating Characteristic')\n",
    "plt.plot(fpr, tpr, 'b', label = 'AUC = %0.2f' % roc_auc)\n",
    "plt.legend(loc = 'lower right')\n",
    "plt.plot([0, 1], [0, 1],'r--')\n",
    "plt.xlim([0, 1])\n",
    "plt.ylim([0, 1])\n",
    "plt.ylabel('True Positive Rate')\n",
    "plt.xlabel('False Positive Rate')\n",
    "plt.show()"
   ]
  },
  {
   "cell_type": "markdown",
   "metadata": {},
   "source": [
    "### 4d. Random Forest & Feature Importance"
   ]
  },
  {
   "cell_type": "code",
   "execution_count": 231,
   "metadata": {},
   "outputs": [],
   "source": [
    "clf=RandomForestClassifier()\n",
    "clf.fit(xtrain,ytrain)\n",
    "ypred=clf.predict(xtest)\n"
   ]
  },
  {
   "cell_type": "code",
   "execution_count": 232,
   "metadata": {},
   "outputs": [
    {
     "name": "stdout",
     "output_type": "stream",
     "text": [
      "RF Accuracy: 0.7753128555176336\n"
     ]
    }
   ],
   "source": [
    "print(\"RF Accuracy:\",metrics.accuracy_score(ytest, ypred))"
   ]
  },
  {
   "cell_type": "code",
   "execution_count": 233,
   "metadata": {},
   "outputs": [
    {
     "data": {
      "text/plain": [
       "0.6825824590055891"
      ]
     },
     "execution_count": 233,
     "metadata": {},
     "output_type": "execute_result"
    }
   ],
   "source": [
    "metrics.roc_auc_score(ytest, ypred)"
   ]
  },
  {
   "cell_type": "code",
   "execution_count": 234,
   "metadata": {},
   "outputs": [
    {
     "name": "stdout",
     "output_type": "stream",
     "text": [
      "Confusion Matrix:\n",
      "[[1131  136]\n",
      " [ 259  232]]\n"
     ]
    }
   ],
   "source": [
    "#print confusion matrix\n",
    "print(\"Confusion Matrix:\")\n",
    "print(confusion_matrix(ytest,ypred))"
   ]
  },
  {
   "cell_type": "code",
   "execution_count": 235,
   "metadata": {},
   "outputs": [
    {
     "name": "stdout",
     "output_type": "stream",
     "text": [
      "Classification Report:\n",
      "              precision    recall  f1-score   support\n",
      "\n",
      "           0       0.81      0.89      0.85      1267\n",
      "           1       0.63      0.47      0.54       491\n",
      "\n",
      "   micro avg       0.78      0.78      0.78      1758\n",
      "   macro avg       0.72      0.68      0.70      1758\n",
      "weighted avg       0.76      0.78      0.76      1758\n",
      "\n"
     ]
    }
   ],
   "source": [
    "print(\"Classification Report:\")\n",
    "print(classification_report(ytest, ypred))"
   ]
  },
  {
   "cell_type": "code",
   "execution_count": 236,
   "metadata": {},
   "outputs": [
    {
     "name": "stdout",
     "output_type": "stream",
     "text": [
      "Roc Curve:\n"
     ]
    },
    {
     "data": {
      "image/png": "[encoded data removed]",
      "text/plain": [
       "<Figure size 432x288 with 1 Axes>"
      ]
     },
     "metadata": {
      "needs_background": "light"
     },
     "output_type": "display_data"
    }
   ],
   "source": [
    "print(\"Roc Curve:\")\n",
    "fpr, tpr, threshold = roc_curve(ytest,ypred)\n",
    "roc_auc = auc(fpr, tpr)\n",
    "\n",
    "plt.title('Receiver Operating Characteristic')\n",
    "plt.plot(fpr, tpr, 'b', label = 'AUC = %0.2f' % roc_auc)\n",
    "plt.legend(loc = 'lower right')\n",
    "plt.plot([0, 1], [0, 1],'r--')\n",
    "plt.xlim([0, 1])\n",
    "plt.ylim([0, 1])\n",
    "plt.ylabel('True Positive Rate')\n",
    "plt.xlabel('False Positive Rate')\n",
    "plt.show()"
   ]
  },
  {
   "cell_type": "code",
   "execution_count": 237,
   "metadata": {},
   "outputs": [
    {
     "data": {
      "text/plain": [
       "tenure                                   0.239277\n",
       "MonthlyCharges                           0.232252\n",
       "PaymentMethod_Electronic check           0.047831\n",
       "InternetService_Fiber optic              0.035636\n",
       "Contract_Two year                        0.033213\n",
       "gender_Male                              0.031120\n",
       "OnlineSecurity                           0.030893\n",
       "SeniorCitizen                            0.029849\n",
       "TechSupport                              0.029513\n",
       "PaperlessBilling                         0.028533\n",
       "Partner                                  0.027201\n",
       "OnlineBackup                             0.026530\n",
       "DeviceProtection                         0.024575\n",
       "Dependents                               0.024217\n",
       "MultipleLines                            0.023426\n",
       "Contract_One year                        0.022147\n",
       "StreamingTV                              0.021377\n",
       "HasInternetService                       0.020901\n",
       "StreamingMovies                          0.020292\n",
       "PaymentMethod_Credit card (automatic)    0.017018\n",
       "InternetService_No                       0.012612\n",
       "PaymentMethod_Mailed check               0.012283\n",
       "PhoneService                             0.009306\n",
       "dtype: float64"
      ]
     },
     "execution_count": 237,
     "metadata": {},
     "output_type": "execute_result"
    }
   ],
   "source": [
    "features_df = churndata.drop(['Churn'],axis=1)\n",
    "feature_imp = pd.Series(clf.feature_importances_,index=features_df.columns.values).sort_values(ascending=False)\n",
    "feature_imp"
   ]
  },
  {
   "cell_type": "code",
   "execution_count": 238,
   "metadata": {},
   "outputs": [
    {
     "data": {
      "image/png": "[encoded data removed]",
      "text/plain": [
       "<Figure size 842.4x595.44 with 1 Axes>"
      ]
     },
     "metadata": {},
     "output_type": "display_data"
    }
   ],
   "source": [
    "%matplotlib inline\n",
    "sns.set(rc={'figure.figsize':(11.7,8.27)})\n",
    "sns.barplot(x=feature_imp, y=feature_imp.index)\n",
    "plt.xlabel('Feature Importance Score')\n",
    "plt.ylabel('Features')\n",
    "plt.title(\"Visualizing Important Features\")\n",
    "plt.show()"
   ]
  },
  {
   "cell_type": "markdown",
   "metadata": {},
   "source": [
    "#### 4e. Gaussian process"
   ]
  },
  {
   "cell_type": "code",
   "execution_count": 239,
   "metadata": {},
   "outputs": [],
   "source": [
    "from sklearn.gaussian_process import GaussianProcessClassifier\n",
    "#https://scikit-learn.org/stable/modules/generated/sklearn.gaussian_process.GaussianProcessClassifier.html "
   ]
  },
  {
   "cell_type": "code",
   "execution_count": 240,
   "metadata": {},
   "outputs": [],
   "source": [
    "clf=GaussianProcessClassifier()\n",
    "clf.fit(xtrain,ytrain)\n",
    "ypred=clf.predict(xtest)"
   ]
  },
  {
   "cell_type": "code",
   "execution_count": 241,
   "metadata": {},
   "outputs": [
    {
     "name": "stdout",
     "output_type": "stream",
     "text": [
      "Accuracy: 0.7633674630261661\n"
     ]
    }
   ],
   "source": [
    "print(\"Accuracy:\",metrics.accuracy_score(ytest, ypred))"
   ]
  },
  {
   "cell_type": "code",
   "execution_count": 242,
   "metadata": {},
   "outputs": [
    {
     "data": {
      "text/plain": [
       "0.6892638929298808"
      ]
     },
     "execution_count": 242,
     "metadata": {},
     "output_type": "execute_result"
    }
   ],
   "source": [
    "metrics.roc_auc_score(ytest, ypred)"
   ]
  },
  {
   "cell_type": "code",
   "execution_count": 243,
   "metadata": {},
   "outputs": [
    {
     "name": "stdout",
     "output_type": "stream",
     "text": [
      "Confusion Matrix:\n",
      "[[1086  181]\n",
      " [ 235  256]]\n"
     ]
    }
   ],
   "source": [
    "#print confusion matrix\n",
    "print(\"Confusion Matrix:\")\n",
    "print(confusion_matrix(ytest,ypred))"
   ]
  },
  {
   "cell_type": "code",
   "execution_count": 244,
   "metadata": {},
   "outputs": [
    {
     "name": "stdout",
     "output_type": "stream",
     "text": [
      "Classification Report:\n",
      "              precision    recall  f1-score   support\n",
      "\n",
      "           0       0.82      0.86      0.84      1267\n",
      "           1       0.59      0.52      0.55       491\n",
      "\n",
      "   micro avg       0.76      0.76      0.76      1758\n",
      "   macro avg       0.70      0.69      0.70      1758\n",
      "weighted avg       0.76      0.76      0.76      1758\n",
      "\n"
     ]
    }
   ],
   "source": [
    "print(\"Classification Report:\")\n",
    "print(classification_report(ytest, ypred))"
   ]
  },
  {
   "cell_type": "markdown",
   "metadata": {},
   "source": [
    "#### 4f XGBoost"
   ]
  },
  {
   "cell_type": "code",
   "execution_count": 245,
   "metadata": {},
   "outputs": [],
   "source": [
    "import xgboost as xgb"
   ]
  },
  {
   "cell_type": "code",
   "execution_count": 246,
   "metadata": {},
   "outputs": [],
   "source": [
    "clf=xgb.XGBClassifier()\n",
    "clf.fit(xtrain,ytrain)\n",
    "ypred=clf.predict(xtest)"
   ]
  },
  {
   "cell_type": "code",
   "execution_count": 247,
   "metadata": {},
   "outputs": [
    {
     "name": "stdout",
     "output_type": "stream",
     "text": [
      "Accuracy: 0.7918088737201365\n"
     ]
    }
   ],
   "source": [
    "print(\"Accuracy:\",metrics.accuracy_score(ytest, ypred))"
   ]
  },
  {
   "cell_type": "code",
   "execution_count": 248,
   "metadata": {},
   "outputs": [
    {
     "data": {
      "text/plain": [
       "0.7083718455482023"
      ]
     },
     "execution_count": 248,
     "metadata": {},
     "output_type": "execute_result"
    }
   ],
   "source": [
    "metrics.roc_auc_score(ytest, ypred)"
   ]
  },
  {
   "cell_type": "code",
   "execution_count": 249,
   "metadata": {},
   "outputs": [
    {
     "name": "stdout",
     "output_type": "stream",
     "text": [
      "Confusion Matrix:\n",
      "[[1137  130]\n",
      " [ 236  255]]\n"
     ]
    }
   ],
   "source": [
    "#print confusion matrix\n",
    "print(\"Confusion Matrix:\")\n",
    "print(confusion_matrix(ytest,ypred))"
   ]
  },
  {
   "cell_type": "code",
   "execution_count": 250,
   "metadata": {},
   "outputs": [
    {
     "name": "stdout",
     "output_type": "stream",
     "text": [
      "Classification Report:\n",
      "              precision    recall  f1-score   support\n",
      "\n",
      "           0       0.83      0.90      0.86      1267\n",
      "           1       0.66      0.52      0.58       491\n",
      "\n",
      "   micro avg       0.79      0.79      0.79      1758\n",
      "   macro avg       0.75      0.71      0.72      1758\n",
      "weighted avg       0.78      0.79      0.78      1758\n",
      "\n"
     ]
    }
   ],
   "source": [
    "print(\"Classification Report:\")\n",
    "print(classification_report(ytest, ypred))"
   ]
  },
  {
   "cell_type": "markdown",
   "metadata": {},
   "source": [
    "## Step 5. Inference"
   ]
  },
  {
   "cell_type": "markdown",
   "metadata": {},
   "source": [
    "### What is question that we asking? What is the business action taken based on the data? \n",
    "\n",
    "With the help of this model, we are identifying customers that are at-risk of churning. Based on this, we will target these customer cohort with marketing & product-based incentives to retain using our products. "
   ]
  },
  {
   "cell_type": "markdown",
   "metadata": {},
   "source": [
    "### What performance metric is important? \n",
    "\n",
    "Based on the business goal, we determined that it's very important that we identify all customers that are at-risk. As a part of this process, it will be acceptable if we target some customers that were not likely to churn but we still give them incentives. \n",
    "\n",
    "So, false positives are acceptable but false negatives (customers who eventually churned but the model didn't identify them) are not acceptable. \n",
    "\n",
    "With the goal of minimizing false negatives, we will identify models that have the lowest false negatives in the classification report. And since: Recall = True Positive / (True Positive + False Negative), we will use the classification report and identify models that have **higher Recall** but at the same time look at other metrics to ensure that the model is acceptable\n",
    "\n",
    "Conclusion: we will pick the winning model that \n",
    "- Maximize recall\n",
    "- Acceptable Accuracy, Precision, F1 Score, AUC"
   ]
  },
  {
   "cell_type": "markdown",
   "metadata": {},
   "source": [
    "Since 73.4% of customers do NOT churn, the baseline accuracy without a predictive models which predicts that none of the customers churn is 0.734. A machine learning model should have a higher accuracy then the baseline. \n",
    "\n",
    "Winninig model should maximize recall and have an accuracy higher than 0.734"
   ]
  },
  {
   "cell_type": "markdown",
   "metadata": {},
   "source": [
    "### Summarizing Model Preformance"
   ]
  },
  {
   "cell_type": "markdown",
   "metadata": {},
   "source": [
    "| Model                | Recall | Accuracy | Precision | F1 Score | AUC    | \n",
    "|----------------------|--------|----------|-----------|----------|--------| \n",
    "| Logistic Regression  |  0.79  |  0.79    | 0.78      | 0.79     | 0.71   |  \n",
    "| Decision Tree        |  0.74  |  0.74    | 0.74      | 0.74     | 0.68   |  \n",
    "| Random Forest        |  0.77  |  0.77    | 0.75      | 0.77     | 0.67   |  \n",
    "| Gaussian Process     |  0.76  |  0.76    | 0.76      | 0.76     | 0.69   |\n",
    "| XGBoost              |  0.79  |  0.79    | 0.78      | 0.78     | 0.71   |"
   ]
  },
  {
   "cell_type": "markdown",
   "metadata": {},
   "source": [
    "### Selecting two models for Hypertuning"
   ]
  },
  {
   "cell_type": "markdown",
   "metadata": {},
   "source": [
    "Out of the models above, Logistic regression & XGBoost outperforms with highest recall while matching/excedding other models at other performance criteria's like Accuracy, Precision, F1 Score & AUC"
   ]
  },
  {
   "cell_type": "markdown",
   "metadata": {},
   "source": [
    "So, let's tune logistic regression and XGBoost"
   ]
  },
  {
   "cell_type": "markdown",
   "metadata": {},
   "source": [
    "### Tuning Logistic Regression"
   ]
  },
  {
   "cell_type": "markdown",
   "metadata": {},
   "source": [
    "#### baseline model"
   ]
  },
  {
   "cell_type": "code",
   "execution_count": 251,
   "metadata": {},
   "outputs": [
    {
     "name": "stdout",
     "output_type": "stream",
     "text": [
      "Accuracy:\n",
      "0.7872582480091013\n",
      "Classification Report:\n",
      "              precision    recall  f1-score   support\n",
      "\n",
      "           0       0.83      0.88      0.86      1267\n",
      "           1       0.64      0.55      0.59       491\n",
      "\n",
      "   micro avg       0.79      0.79      0.79      1758\n",
      "   macro avg       0.74      0.71      0.72      1758\n",
      "weighted avg       0.78      0.79      0.78      1758\n",
      "\n"
     ]
    }
   ],
   "source": [
    "clf = LogisticRegression()\n",
    "# Fit the model on the trainng data.\n",
    "clf.fit(xtrain, ytrain)\n",
    "# Print the accuracy from the testing data.\n",
    "ypred = clf.predict(xtest)\n",
    "\n",
    "#print accuracy\n",
    "print(\"Accuracy:\")\n",
    "print(accuracy_score(ypred, ytest))\n",
    "\n",
    "print(\"Classification Report:\")\n",
    "print(classification_report(ytest, ypred))"
   ]
  },
  {
   "cell_type": "markdown",
   "metadata": {},
   "source": [
    "#### hypertuned model"
   ]
  },
  {
   "cell_type": "code",
   "execution_count": 252,
   "metadata": {},
   "outputs": [],
   "source": [
    "# Create regularization penalty space\n",
    "penalty = ['l1', 'l2']\n",
    "\n",
    "# Create regularization hyperparameter space\n",
    "C = [0.001, 0.1, 1, 10, 100, 1000]\n",
    "\n",
    "# Create hyperparameter options\n",
    "hyperparameters = dict(C=C, penalty=penalty)"
   ]
  },
  {
   "cell_type": "code",
   "execution_count": 253,
   "metadata": {},
   "outputs": [],
   "source": [
    "import warnings\n",
    "warnings.simplefilter(action='ignore', category=FutureWarning)"
   ]
  },
  {
   "cell_type": "code",
   "execution_count": 254,
   "metadata": {},
   "outputs": [
    {
     "name": "stderr",
     "output_type": "stream",
     "text": [
      "C:\\Users\\doshpara\\AppData\\Local\\Continuum\\anaconda3\\lib\\site-packages\\sklearn\\svm\\base.py:922: ConvergenceWarning: Liblinear failed to converge, increase the number of iterations.\n",
      "  \"the number of iterations.\", ConvergenceWarning)\n"
     ]
    }
   ],
   "source": [
    "from sklearn.model_selection import GridSearchCV\n",
    "from sklearn import linear_model\n",
    "# Create logistic regression\n",
    "logistic = linear_model.LogisticRegression()\n",
    "\n",
    "# Create grid search using 5-fold cross validation\n",
    "clf = GridSearchCV(logistic, hyperparameters, cv=5, verbose=0)\n",
    "\n",
    "# Fit grid search\n",
    "best_model = clf.fit(xtrain, ytrain)"
   ]
  },
  {
   "cell_type": "code",
   "execution_count": 255,
   "metadata": {},
   "outputs": [
    {
     "name": "stdout",
     "output_type": "stream",
     "text": [
      "Best Penalty: l2\n",
      "Best C: 0.1\n"
     ]
    }
   ],
   "source": [
    "# View best hyperparameters\n",
    "print('Best Penalty:', best_model.best_estimator_.get_params()['penalty'])\n",
    "print('Best C:', best_model.best_estimator_.get_params()['C'])"
   ]
  },
  {
   "cell_type": "code",
   "execution_count": 256,
   "metadata": {},
   "outputs": [
    {
     "name": "stdout",
     "output_type": "stream",
     "text": [
      "Accuracy:\n",
      "0.7889647326507395\n",
      "Classification Report:\n",
      "              precision    recall  f1-score   support\n",
      "\n",
      "           0       0.83      0.88      0.86      1267\n",
      "           1       0.64      0.55      0.59       491\n",
      "\n",
      "   micro avg       0.79      0.79      0.79      1758\n",
      "   macro avg       0.74      0.71      0.72      1758\n",
      "weighted avg       0.78      0.79      0.78      1758\n",
      "\n"
     ]
    }
   ],
   "source": [
    "#ypred = clf.predict(xtest)\n",
    "ypred = best_model.predict(xtest)\n",
    "\n",
    "#print accuracy\n",
    "print(\"Accuracy:\")\n",
    "print(accuracy_score(ypred, ytest))\n",
    "\n",
    "print(\"Classification Report:\")\n",
    "print(classification_report(ytest, ypred))"
   ]
  },
  {
   "cell_type": "markdown",
   "metadata": {},
   "source": [
    "### Tuning XGBoost"
   ]
  },
  {
   "cell_type": "code",
   "execution_count": 257,
   "metadata": {},
   "outputs": [],
   "source": [
    "clf=xgb.XGBClassifier()\n",
    "clf.fit(xtrain,ytrain)\n",
    "ypred=clf.predict(xtest)"
   ]
  },
  {
   "cell_type": "code",
   "execution_count": 258,
   "metadata": {},
   "outputs": [
    {
     "name": "stdout",
     "output_type": "stream",
     "text": [
      "[0]\tvalidation_0-auc:0.812683\tvalidation_0-error:0.204968\tvalidation_1-auc:0.804689\tvalidation_1-error:0.225256\n",
      "[1]\tvalidation_0-auc:0.824871\tvalidation_0-error:0.204968\tvalidation_1-auc:0.819016\tvalidation_1-error:0.225256\n",
      "[2]\tvalidation_0-auc:0.827754\tvalidation_0-error:0.204968\tvalidation_1-auc:0.820055\tvalidation_1-error:0.225256\n",
      "[3]\tvalidation_0-auc:0.830469\tvalidation_0-error:0.204968\tvalidation_1-auc:0.820855\tvalidation_1-error:0.225256\n",
      "[4]\tvalidation_0-auc:0.835012\tvalidation_0-error:0.20383\tvalidation_1-auc:0.823942\tvalidation_1-error:0.225825\n",
      "[5]\tvalidation_0-auc:0.836265\tvalidation_0-error:0.202882\tvalidation_1-auc:0.825133\tvalidation_1-error:0.227531\n",
      "[6]\tvalidation_0-auc:0.842219\tvalidation_0-error:0.202882\tvalidation_1-auc:0.833442\tvalidation_1-error:0.227531\n",
      "[7]\tvalidation_0-auc:0.842885\tvalidation_0-error:0.202503\tvalidation_1-auc:0.83351\tvalidation_1-error:0.227531\n",
      "[8]\tvalidation_0-auc:0.843388\tvalidation_0-error:0.202313\tvalidation_1-auc:0.833806\tvalidation_1-error:0.226962\n",
      "[9]\tvalidation_0-auc:0.843673\tvalidation_0-error:0.202313\tvalidation_1-auc:0.834704\tvalidation_1-error:0.225256\n",
      "[10]\tvalidation_0-auc:0.845718\tvalidation_0-error:0.202503\tvalidation_1-auc:0.835976\tvalidation_1-error:0.225825\n",
      "[11]\tvalidation_0-auc:0.847106\tvalidation_0-error:0.202503\tvalidation_1-auc:0.83947\tvalidation_1-error:0.226394\n",
      "[12]\tvalidation_0-auc:0.848237\tvalidation_0-error:0.202503\tvalidation_1-auc:0.840387\tvalidation_1-error:0.226394\n",
      "[13]\tvalidation_0-auc:0.848089\tvalidation_0-error:0.202503\tvalidation_1-auc:0.839812\tvalidation_1-error:0.226394\n",
      "[14]\tvalidation_0-auc:0.848475\tvalidation_0-error:0.200228\tvalidation_1-auc:0.840952\tvalidation_1-error:0.224118\n",
      "[15]\tvalidation_0-auc:0.849405\tvalidation_0-error:0.200228\tvalidation_1-auc:0.841107\tvalidation_1-error:0.223549\n",
      "[16]\tvalidation_0-auc:0.84932\tvalidation_0-error:0.200607\tvalidation_1-auc:0.841333\tvalidation_1-error:0.224687\n",
      "[17]\tvalidation_0-auc:0.850378\tvalidation_0-error:0.200228\tvalidation_1-auc:0.842512\tvalidation_1-error:0.224118\n",
      "[18]\tvalidation_0-auc:0.851018\tvalidation_0-error:0.200417\tvalidation_1-auc:0.843019\tvalidation_1-error:0.223549\n",
      "[19]\tvalidation_0-auc:0.851927\tvalidation_0-error:0.200607\tvalidation_1-auc:0.843348\tvalidation_1-error:0.222981\n",
      "[20]\tvalidation_0-auc:0.852181\tvalidation_0-error:0.197383\tvalidation_1-auc:0.842779\tvalidation_1-error:0.223549\n",
      "[21]\tvalidation_0-auc:0.85267\tvalidation_0-error:0.198142\tvalidation_1-auc:0.843086\tvalidation_1-error:0.222981\n",
      "[22]\tvalidation_0-auc:0.85313\tvalidation_0-error:0.197952\tvalidation_1-auc:0.843093\tvalidation_1-error:0.222981\n",
      "[23]\tvalidation_0-auc:0.853418\tvalidation_0-error:0.197194\tvalidation_1-auc:0.84307\tvalidation_1-error:0.221843\n",
      "[24]\tvalidation_0-auc:0.853957\tvalidation_0-error:0.196246\tvalidation_1-auc:0.843381\tvalidation_1-error:0.218999\n",
      "[25]\tvalidation_0-auc:0.854285\tvalidation_0-error:0.196246\tvalidation_1-auc:0.843942\tvalidation_1-error:0.218999\n",
      "[26]\tvalidation_0-auc:0.854924\tvalidation_0-error:0.195867\tvalidation_1-auc:0.844432\tvalidation_1-error:0.221274\n",
      "[27]\tvalidation_0-auc:0.855383\tvalidation_0-error:0.195298\tvalidation_1-auc:0.84484\tvalidation_1-error:0.219568\n",
      "[28]\tvalidation_0-auc:0.855842\tvalidation_0-error:0.195298\tvalidation_1-auc:0.844989\tvalidation_1-error:0.220137\n",
      "[29]\tvalidation_0-auc:0.857221\tvalidation_0-error:0.19416\tvalidation_1-auc:0.844942\tvalidation_1-error:0.219568\n",
      "[30]\tvalidation_0-auc:0.85766\tvalidation_0-error:0.192833\tvalidation_1-auc:0.844813\tvalidation_1-error:0.220705\n",
      "[31]\tvalidation_0-auc:0.857832\tvalidation_0-error:0.192643\tvalidation_1-auc:0.844812\tvalidation_1-error:0.218999\n",
      "[32]\tvalidation_0-auc:0.858121\tvalidation_0-error:0.192833\tvalidation_1-auc:0.845084\tvalidation_1-error:0.216724\n",
      "[33]\tvalidation_0-auc:0.858647\tvalidation_0-error:0.192454\tvalidation_1-auc:0.844609\tvalidation_1-error:0.214448\n",
      "[34]\tvalidation_0-auc:0.858953\tvalidation_0-error:0.191126\tvalidation_1-auc:0.845226\tvalidation_1-error:0.213311\n",
      "[35]\tvalidation_0-auc:0.8592\tvalidation_0-error:0.189799\tvalidation_1-auc:0.845193\tvalidation_1-error:0.211604\n",
      "[36]\tvalidation_0-auc:0.859415\tvalidation_0-error:0.189041\tvalidation_1-auc:0.845458\tvalidation_1-error:0.210466\n",
      "[37]\tvalidation_0-auc:0.859926\tvalidation_0-error:0.18923\tvalidation_1-auc:0.845844\tvalidation_1-error:0.211604\n",
      "[38]\tvalidation_0-auc:0.860571\tvalidation_0-error:0.186955\tvalidation_1-auc:0.845784\tvalidation_1-error:0.212173\n",
      "[39]\tvalidation_0-auc:0.860885\tvalidation_0-error:0.186007\tvalidation_1-auc:0.845416\tvalidation_1-error:0.211035\n",
      "[40]\tvalidation_0-auc:0.861203\tvalidation_0-error:0.185438\tvalidation_1-auc:0.845255\tvalidation_1-error:0.211035\n",
      "[41]\tvalidation_0-auc:0.86153\tvalidation_0-error:0.186007\tvalidation_1-auc:0.84524\tvalidation_1-error:0.211035\n",
      "[42]\tvalidation_0-auc:0.861758\tvalidation_0-error:0.18468\tvalidation_1-auc:0.845197\tvalidation_1-error:0.211604\n",
      "[43]\tvalidation_0-auc:0.862299\tvalidation_0-error:0.183921\tvalidation_1-auc:0.845137\tvalidation_1-error:0.211604\n",
      "[44]\tvalidation_0-auc:0.862798\tvalidation_0-error:0.183352\tvalidation_1-auc:0.845522\tvalidation_1-error:0.209898\n",
      "[45]\tvalidation_0-auc:0.863099\tvalidation_0-error:0.182783\tvalidation_1-auc:0.845649\tvalidation_1-error:0.209329\n",
      "[46]\tvalidation_0-auc:0.863545\tvalidation_0-error:0.182973\tvalidation_1-auc:0.845469\tvalidation_1-error:0.20876\n",
      "[47]\tvalidation_0-auc:0.863763\tvalidation_0-error:0.183352\tvalidation_1-auc:0.845613\tvalidation_1-error:0.209898\n",
      "[48]\tvalidation_0-auc:0.864009\tvalidation_0-error:0.183352\tvalidation_1-auc:0.845842\tvalidation_1-error:0.20876\n",
      "[49]\tvalidation_0-auc:0.86433\tvalidation_0-error:0.182215\tvalidation_1-auc:0.845511\tvalidation_1-error:0.210466\n",
      "[50]\tvalidation_0-auc:0.864644\tvalidation_0-error:0.182404\tvalidation_1-auc:0.845458\tvalidation_1-error:0.20876\n",
      "[51]\tvalidation_0-auc:0.864998\tvalidation_0-error:0.182404\tvalidation_1-auc:0.84513\tvalidation_1-error:0.210466\n",
      "[52]\tvalidation_0-auc:0.865107\tvalidation_0-error:0.182404\tvalidation_1-auc:0.84515\tvalidation_1-error:0.209898\n",
      "[53]\tvalidation_0-auc:0.865478\tvalidation_0-error:0.182783\tvalidation_1-auc:0.845368\tvalidation_1-error:0.212173\n",
      "[54]\tvalidation_0-auc:0.865726\tvalidation_0-error:0.182783\tvalidation_1-auc:0.845601\tvalidation_1-error:0.20876\n",
      "[55]\tvalidation_0-auc:0.86595\tvalidation_0-error:0.182783\tvalidation_1-auc:0.845287\tvalidation_1-error:0.209329\n",
      "[56]\tvalidation_0-auc:0.866098\tvalidation_0-error:0.182594\tvalidation_1-auc:0.845056\tvalidation_1-error:0.20876\n",
      "[57]\tvalidation_0-auc:0.866313\tvalidation_0-error:0.182973\tvalidation_1-auc:0.845002\tvalidation_1-error:0.209329\n",
      "[58]\tvalidation_0-auc:0.866616\tvalidation_0-error:0.181835\tvalidation_1-auc:0.845149\tvalidation_1-error:0.20876\n",
      "[59]\tvalidation_0-auc:0.866812\tvalidation_0-error:0.182025\tvalidation_1-auc:0.845129\tvalidation_1-error:0.205916\n",
      "[60]\tvalidation_0-auc:0.867024\tvalidation_0-error:0.182025\tvalidation_1-auc:0.845093\tvalidation_1-error:0.206485\n",
      "[61]\tvalidation_0-auc:0.867331\tvalidation_0-error:0.181077\tvalidation_1-auc:0.844752\tvalidation_1-error:0.207053\n",
      "[62]\tvalidation_0-auc:0.867762\tvalidation_0-error:0.181456\tvalidation_1-auc:0.844324\tvalidation_1-error:0.207622\n",
      "[63]\tvalidation_0-auc:0.867815\tvalidation_0-error:0.181646\tvalidation_1-auc:0.844356\tvalidation_1-error:0.207622\n",
      "[64]\tvalidation_0-auc:0.868189\tvalidation_0-error:0.181646\tvalidation_1-auc:0.844176\tvalidation_1-error:0.207053\n",
      "[65]\tvalidation_0-auc:0.868507\tvalidation_0-error:0.180698\tvalidation_1-auc:0.84423\tvalidation_1-error:0.206485\n",
      "[66]\tvalidation_0-auc:0.868729\tvalidation_0-error:0.180129\tvalidation_1-auc:0.844335\tvalidation_1-error:0.205916\n",
      "[67]\tvalidation_0-auc:0.868885\tvalidation_0-error:0.180319\tvalidation_1-auc:0.844197\tvalidation_1-error:0.206485\n",
      "[68]\tvalidation_0-auc:0.869096\tvalidation_0-error:0.17956\tvalidation_1-auc:0.843987\tvalidation_1-error:0.207622\n",
      "[69]\tvalidation_0-auc:0.869357\tvalidation_0-error:0.179939\tvalidation_1-auc:0.843875\tvalidation_1-error:0.207053\n",
      "[70]\tvalidation_0-auc:0.869651\tvalidation_0-error:0.180319\tvalidation_1-auc:0.843688\tvalidation_1-error:0.206485\n",
      "[71]\tvalidation_0-auc:0.869795\tvalidation_0-error:0.180508\tvalidation_1-auc:0.843704\tvalidation_1-error:0.205916\n",
      "[72]\tvalidation_0-auc:0.87009\tvalidation_0-error:0.17937\tvalidation_1-auc:0.843442\tvalidation_1-error:0.206485\n"
     ]
    },
    {
     "name": "stdout",
     "output_type": "stream",
     "text": [
      "[73]\tvalidation_0-auc:0.870468\tvalidation_0-error:0.17956\tvalidation_1-auc:0.843494\tvalidation_1-error:0.206485\n",
      "[74]\tvalidation_0-auc:0.87074\tvalidation_0-error:0.178612\tvalidation_1-auc:0.843499\tvalidation_1-error:0.205347\n",
      "[75]\tvalidation_0-auc:0.871003\tvalidation_0-error:0.178422\tvalidation_1-auc:0.843397\tvalidation_1-error:0.204778\n",
      "[76]\tvalidation_0-auc:0.871333\tvalidation_0-error:0.177285\tvalidation_1-auc:0.843294\tvalidation_1-error:0.204778\n",
      "[77]\tvalidation_0-auc:0.871539\tvalidation_0-error:0.177474\tvalidation_1-auc:0.843387\tvalidation_1-error:0.205347\n",
      "[78]\tvalidation_0-auc:0.871753\tvalidation_0-error:0.178422\tvalidation_1-auc:0.84336\tvalidation_1-error:0.204778\n",
      "[79]\tvalidation_0-auc:0.871863\tvalidation_0-error:0.178612\tvalidation_1-auc:0.84324\tvalidation_1-error:0.204778\n",
      "[80]\tvalidation_0-auc:0.871975\tvalidation_0-error:0.177664\tvalidation_1-auc:0.843118\tvalidation_1-error:0.204778\n",
      "[81]\tvalidation_0-auc:0.872173\tvalidation_0-error:0.178422\tvalidation_1-auc:0.842848\tvalidation_1-error:0.205916\n",
      "[82]\tvalidation_0-auc:0.87238\tvalidation_0-error:0.178233\tvalidation_1-auc:0.8429\tvalidation_1-error:0.205347\n",
      "[83]\tvalidation_0-auc:0.872671\tvalidation_0-error:0.178802\tvalidation_1-auc:0.843188\tvalidation_1-error:0.205916\n",
      "[84]\tvalidation_0-auc:0.872779\tvalidation_0-error:0.178802\tvalidation_1-auc:0.843133\tvalidation_1-error:0.205916\n",
      "[85]\tvalidation_0-auc:0.872943\tvalidation_0-error:0.178802\tvalidation_1-auc:0.843223\tvalidation_1-error:0.206485\n",
      "[86]\tvalidation_0-auc:0.873065\tvalidation_0-error:0.178802\tvalidation_1-auc:0.843072\tvalidation_1-error:0.206485\n",
      "[87]\tvalidation_0-auc:0.873184\tvalidation_0-error:0.178422\tvalidation_1-auc:0.843048\tvalidation_1-error:0.207053\n",
      "[88]\tvalidation_0-auc:0.873415\tvalidation_0-error:0.178233\tvalidation_1-auc:0.843039\tvalidation_1-error:0.207622\n",
      "[89]\tvalidation_0-auc:0.873629\tvalidation_0-error:0.178422\tvalidation_1-auc:0.842925\tvalidation_1-error:0.207622\n",
      "[90]\tvalidation_0-auc:0.873736\tvalidation_0-error:0.178422\tvalidation_1-auc:0.842771\tvalidation_1-error:0.207622\n",
      "[91]\tvalidation_0-auc:0.873986\tvalidation_0-error:0.177474\tvalidation_1-auc:0.842717\tvalidation_1-error:0.208191\n",
      "[92]\tvalidation_0-auc:0.87409\tvalidation_0-error:0.177474\tvalidation_1-auc:0.842653\tvalidation_1-error:0.208191\n",
      "[93]\tvalidation_0-auc:0.874198\tvalidation_0-error:0.177664\tvalidation_1-auc:0.842435\tvalidation_1-error:0.209898\n",
      "[94]\tvalidation_0-auc:0.874333\tvalidation_0-error:0.177664\tvalidation_1-auc:0.842455\tvalidation_1-error:0.209329\n",
      "[95]\tvalidation_0-auc:0.874452\tvalidation_0-error:0.177285\tvalidation_1-auc:0.842285\tvalidation_1-error:0.20876\n",
      "[96]\tvalidation_0-auc:0.874754\tvalidation_0-error:0.177285\tvalidation_1-auc:0.842226\tvalidation_1-error:0.208191\n",
      "[97]\tvalidation_0-auc:0.874957\tvalidation_0-error:0.177095\tvalidation_1-auc:0.842164\tvalidation_1-error:0.20876\n",
      "[98]\tvalidation_0-auc:0.875043\tvalidation_0-error:0.176906\tvalidation_1-auc:0.842148\tvalidation_1-error:0.20876\n",
      "[99]\tvalidation_0-auc:0.875289\tvalidation_0-error:0.176906\tvalidation_1-auc:0.842033\tvalidation_1-error:0.208191\n",
      "Wall time: 1.69 s\n"
     ]
    },
    {
     "data": {
      "text/plain": [
       "XGBClassifier(base_score=0.5, booster='gbtree', colsample_bylevel=1,\n",
       "       colsample_bynode=1, colsample_bytree=1, gamma=0, learning_rate=0.1,\n",
       "       max_delta_step=0, max_depth=3, min_child_weight=1, missing=None,\n",
       "       n_estimators=100, n_jobs=1, nthread=None,\n",
       "       objective='binary:logistic', random_state=0, reg_alpha=0,\n",
       "       reg_lambda=1, scale_pos_weight=1, seed=None, silent=None,\n",
       "       subsample=1, verbosity=1)"
      ]
     },
     "execution_count": 258,
     "metadata": {},
     "output_type": "execute_result"
    }
   ],
   "source": [
    "eval_set = [(xtrain, ytrain), (xtest, ytest)]\n",
    "eval_metric = [\"auc\",\"error\"]\n",
    "%time clf.fit(xtrain, ytrain, eval_metric=eval_metric, eval_set=eval_set, verbose=True)"
   ]
  },
  {
   "cell_type": "code",
   "execution_count": 259,
   "metadata": {},
   "outputs": [
    {
     "data": {
      "image/png": "[encoded data removed]",
      "text/plain": [
       "<Figure size 842.4x595.44 with 1 Axes>"
      ]
     },
     "metadata": {},
     "output_type": "display_data"
    }
   ],
   "source": [
    "# plot classification error\n",
    "results = clf.evals_result()\n",
    "epochs = len(results['validation_0']['error'])\n",
    "x_axis = range(0, epochs)\n",
    "fig, ax = plt.subplots()\n",
    "ax.plot(x_axis, results['validation_0']['error'], label='Train')\n",
    "ax.plot(x_axis, results['validation_1']['error'], label='Test')\n",
    "ax.legend()\n",
    "plt.ylabel('Classification Error')\n",
    "plt.title('XGBoost Classification Error')\n",
    "plt.show()"
   ]
  },
  {
   "cell_type": "code",
   "execution_count": 289,
   "metadata": {},
   "outputs": [],
   "source": [
    "learning_rate = [0.01,0.02,0.05]\n",
    "min_child_weight = [1, 5, 10]\n",
    "subsample= [0.7, 0.8, 0.9]\n",
    "colsample_bytree= [0.4]\n",
    "n_estimators = [1000]\n",
    "max_depth= [4,6,8]\n",
    "reg_alpha = [0.3]\n",
    "\n",
    "# Create hyperparameter options\n",
    "hyperparameters = dict(reg_alpha=reg_alpha,n_estimators=n_estimators,learning_rate=learning_rate,min_child_weight=min_child_weight,subsample=subsample,max_depth=max_depth)"
   ]
  },
  {
   "cell_type": "code",
   "execution_count": 291,
   "metadata": {},
   "outputs": [],
   "source": [
    "from sklearn.model_selection import GridSearchCV\n",
    "import xgboost as xgb\n",
    "xgb=xgb.XGBClassifier()\n",
    "\n",
    "# Create grid search using 5-fold cross validation\n",
    "clf = GridSearchCV(xgb, hyperparameters, cv=5, verbose=0)\n",
    "\n",
    "# Fit grid search\n",
    "best_model = clf.fit(xtrain, ytrain)"
   ]
  },
  {
   "cell_type": "code",
   "execution_count": 292,
   "metadata": {},
   "outputs": [
    {
     "name": "stdout",
     "output_type": "stream",
     "text": [
      "Accuracy:\n",
      "0.7906712172923777\n",
      "Classification Report:\n",
      "              precision    recall  f1-score   support\n",
      "\n",
      "           0       0.83      0.89      0.86      1267\n",
      "           1       0.65      0.54      0.59       491\n",
      "\n",
      "   micro avg       0.79      0.79      0.79      1758\n",
      "   macro avg       0.74      0.71      0.72      1758\n",
      "weighted avg       0.78      0.79      0.78      1758\n",
      "\n"
     ]
    }
   ],
   "source": [
    "#ypred = clf.predict(xtest)\n",
    "ypred = best_model.predict(xtest)\n",
    "\n",
    "#print accuracy\n",
    "print(\"Accuracy:\")\n",
    "print(accuracy_score(ypred, ytest))\n",
    "\n",
    "print(\"Classification Report:\")\n",
    "print(classification_report(ytest, ypred))"
   ]
  },
  {
   "cell_type": "code",
   "execution_count": 260,
   "metadata": {},
   "outputs": [],
   "source": [
    "model = xgb.XGBClassifier(silent=False, \n",
    "                      scale_pos_weight=1,\n",
    "                      learning_rate=0.01,  \n",
    "                      colsample_bytree = 0.4,\n",
    "                      subsample = 0.8,\n",
    "                      objective='binary:logistic', \n",
    "                      n_estimators=1000, \n",
    "                      reg_alpha = 0.3,\n",
    "                      max_depth=4, \n",
    "                      gamma=10)"
   ]
  },
  {
   "cell_type": "code",
   "execution_count": 261,
   "metadata": {},
   "outputs": [
    {
     "name": "stdout",
     "output_type": "stream",
     "text": [
      "Accuracy:\n",
      "0.7940841865756542\n",
      "Classification Report:\n",
      "              precision    recall  f1-score   support\n",
      "\n",
      "           0       0.82      0.91      0.86      1267\n",
      "           1       0.68      0.50      0.58       491\n",
      "\n",
      "   micro avg       0.79      0.79      0.79      1758\n",
      "   macro avg       0.75      0.70      0.72      1758\n",
      "weighted avg       0.78      0.79      0.78      1758\n",
      "\n"
     ]
    }
   ],
   "source": [
    "model.fit(xtrain,ytrain)\n",
    "ypred=clf.predict(xtest)\n",
    "\n",
    "ypred = model.predict(xtest)\n",
    "\n",
    "#print accuracy\n",
    "print(\"Accuracy:\")\n",
    "print(accuracy_score(ypred, ytest))\n",
    "\n",
    "print(\"Classification Report:\")\n",
    "print(classification_report(ytest, ypred))"
   ]
  },
  {
   "cell_type": "markdown",
   "metadata": {},
   "source": [
    "### Winning Model"
   ]
  },
  {
   "cell_type": "markdown",
   "metadata": {},
   "source": [
    "Tuned XGBoost is the winner. "
   ]
  }
 ],
 "metadata": {
  "kernelspec": {
   "display_name": "Python 3",
   "language": "python",
   "name": "python3"
  },
  "language_info": {
   "codemirror_mode": {
    "name": "ipython",
    "version": 3
   },
   "file_extension": ".py",
   "mimetype": "text/x-python",
   "name": "python",
   "nbconvert_exporter": "python",
   "pygments_lexer": "ipython3",
   "version": "3.7.1"
  }
 },
 "nbformat": 4,
 "nbformat_minor": 2
}
